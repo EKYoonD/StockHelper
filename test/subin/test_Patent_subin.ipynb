{
 "cells": [
  {
   "cell_type": "code",
   "execution_count": 1,
   "id": "8e3f4f5e",
   "metadata": {},
   "outputs": [],
   "source": [
    "from selenium import webdriver\n",
    "from selenium.webdriver.support.ui import Select\n",
    "from selenium.webdriver.common.keys import Keys\n",
    "from IPython.display import Image\n",
    "from bs4 import BeautifulSoup\n",
    "import pandas as pd\n",
    "from datetime import datetime"
   ]
  },
  {
   "cell_type": "code",
   "execution_count": 2,
   "id": "f613d9a3",
   "metadata": {},
   "outputs": [],
   "source": [
    "# webdriver를 이용해 kipris 접속\n",
    "driver_path = r'D:\\DevRoot\\download\\chromedriver.exe'\n",
    "try: \n",
    "    driver = webdriver.Chrome(driver_path)\n",
    "except(Exception):\n",
    "    driver_path = r'C:\\DevRoot\\download\\chromedriver.exe'\n",
    "    driver = webdriver.Chrome(driver_path)\n",
    "finally:\n",
    "    driver.get(\"http://kpat.kipris.or.kr/kpat/searchLogina.do?next=MainSearch\")"
   ]
  },
  {
   "cell_type": "code",
   "execution_count": 3,
   "id": "717c8773",
   "metadata": {},
   "outputs": [],
   "source": [
    "# 기간을 검색어로 입력\n",
    "today = datetime.today().strftime(\"%Y%m%d\")\n",
    "decade = str(int(today) - int('00100000'))\n",
    "driver.find_element_by_css_selector('.keyword').send_keys(f'GD=[{decade}~{today}]')\n",
    "driver.find_element_by_css_selector('.input_btn img').click()\n",
    "\n",
    "# 90개씩 보기 선택\n",
    "select = Select(driver.find_element_by_id('opt28'))\n",
    "select.select_by_value('90')\n",
    "driver.find_element_by_css_selector('#pageSel img').click()"
   ]
  },
  {
   "cell_type": "code",
   "execution_count": 4,
   "id": "c39fa5bf",
   "metadata": {
    "scrolled": false
   },
   "outputs": [
    {
     "ename": "AttributeError",
     "evalue": "'NoneType' object has no attribute 'text'",
     "output_type": "error",
     "traceback": [
      "\u001b[1;31m---------------------------------------------------------------------------\u001b[0m",
      "\u001b[1;31mAttributeError\u001b[0m                            Traceback (most recent call last)",
      "\u001b[1;32m<ipython-input-4-036d8de72d9a>\u001b[0m in \u001b[0;36m<module>\u001b[1;34m\u001b[0m\n\u001b[0;32m      2\u001b[0m \u001b[0mpatent_list\u001b[0m \u001b[1;33m=\u001b[0m \u001b[0mdom\u001b[0m\u001b[1;33m.\u001b[0m\u001b[0mselect\u001b[0m\u001b[1;33m(\u001b[0m\u001b[1;34m'.search_section article'\u001b[0m\u001b[1;33m)\u001b[0m\u001b[1;33m\u001b[0m\u001b[1;33m\u001b[0m\u001b[0m\n\u001b[0;32m      3\u001b[0m \u001b[1;33m\u001b[0m\u001b[0m\n\u001b[1;32m----> 4\u001b[1;33m result = [\n\u001b[0m\u001b[0;32m      5\u001b[0m         {\n\u001b[0;32m      6\u001b[0m             \u001b[1;34m'제목'\u001b[0m\u001b[1;33m:\u001b[0m \u001b[0mpatent\u001b[0m\u001b[1;33m.\u001b[0m\u001b[0mselect_one\u001b[0m\u001b[1;33m(\u001b[0m\u001b[1;34m'.stitle > a:nth-of-type(2)'\u001b[0m\u001b[1;33m)\u001b[0m\u001b[1;33m.\u001b[0m\u001b[0mtext\u001b[0m\u001b[1;33m.\u001b[0m\u001b[0mstrip\u001b[0m\u001b[1;33m(\u001b[0m\u001b[1;33m)\u001b[0m\u001b[1;33m,\u001b[0m\u001b[1;33m\u001b[0m\u001b[1;33m\u001b[0m\u001b[0m\n",
      "\u001b[1;32m<ipython-input-4-036d8de72d9a>\u001b[0m in \u001b[0;36m<listcomp>\u001b[1;34m(.0)\u001b[0m\n\u001b[0;32m      4\u001b[0m result = [\n\u001b[0;32m      5\u001b[0m         {\n\u001b[1;32m----> 6\u001b[1;33m             \u001b[1;34m'제목'\u001b[0m\u001b[1;33m:\u001b[0m \u001b[0mpatent\u001b[0m\u001b[1;33m.\u001b[0m\u001b[0mselect_one\u001b[0m\u001b[1;33m(\u001b[0m\u001b[1;34m'.stitle > a:nth-of-type(2)'\u001b[0m\u001b[1;33m)\u001b[0m\u001b[1;33m.\u001b[0m\u001b[0mtext\u001b[0m\u001b[1;33m.\u001b[0m\u001b[0mstrip\u001b[0m\u001b[1;33m(\u001b[0m\u001b[1;33m)\u001b[0m\u001b[1;33m,\u001b[0m\u001b[1;33m\u001b[0m\u001b[1;33m\u001b[0m\u001b[0m\n\u001b[0m\u001b[0;32m      7\u001b[0m             \u001b[1;34m'내용'\u001b[0m\u001b[1;33m:\u001b[0m \u001b[0mpatent\u001b[0m\u001b[1;33m.\u001b[0m\u001b[0mselect_one\u001b[0m\u001b[1;33m(\u001b[0m\u001b[1;34m'.search_txt'\u001b[0m\u001b[1;33m)\u001b[0m\u001b[1;33m.\u001b[0m\u001b[0mtext\u001b[0m\u001b[1;33m.\u001b[0m\u001b[0mstrip\u001b[0m\u001b[1;33m(\u001b[0m\u001b[1;33m)\u001b[0m\u001b[1;33m\u001b[0m\u001b[1;33m\u001b[0m\u001b[0m\n\u001b[0;32m      8\u001b[0m         }\n",
      "\u001b[1;31mAttributeError\u001b[0m: 'NoneType' object has no attribute 'text'"
     ]
    }
   ],
   "source": [
    "dom = BeautifulSoup(driver.page_source, 'html.parser')\n",
    "patent_list = dom.select('.search_section article')\n",
    "\n",
    "result = [\n",
    "        {\n",
    "            '제목': patent.select_one('.stitle > a:nth-of-type(2)').text.strip(),\n",
    "            '내용': patent.select_one('.search_txt').text.strip()\n",
    "        }\n",
    "        for patent in patent_list\n",
    "]\n",
    "\n",
    "result"
   ]
  },
  {
   "cell_type": "code",
   "execution_count": 11,
   "id": "f89ecd9c",
   "metadata": {
    "scrolled": false
   },
   "outputs": [
    {
     "name": "stdout",
     "output_type": "stream",
     "text": [
      "<a href=\"javascript:openSubDetail('2020200002409', '0', '', 'biblio', '90', 'View01', '')\" title=\"새창으로 열림\">확장 가능한 지압구(EXTENDABLE ACUPRESSURE DEVICE)</a>\n",
      "<a href=\"javascript:openSubDetail('2020200000956', '1', '', 'biblio', '90', 'View01', '')\" title=\"새창으로 열림\">그물망 벤치(net type bench)</a>\n",
      "<a href=\"javascript:openSubDetail('2020200000845', '2', '', 'biblio', '90', 'View01', '')\" title=\"새창으로 열림\">추진장약 분리장치(SEPARATION APPARATUS FOR PROPELLING CHARGE)</a>\n",
      "<a href=\"javascript:openSubDetail('2020190001578', '3', '', 'biblio', '90', 'View01', '')\" title=\"새창으로 열림\">방향전환연결이 가능한 직관형 LED 램프(LED LAMP OF STRAIGHT PIPE TYPE)</a>\n",
      "<a href=\"javascript:openSubDetail('2020190000749', '4', '', 'biblio', '90', 'View01', '')\" title=\"새창으로 열림\">문틈 안전 커버(Safety cover of chink in the door)</a>\n",
      "<a href=\"javascript:openSubDetail('2020180005856', '5', '', 'biblio', '90', 'View01', '')\" title=\"새창으로 열림\">양면 사용 롤블라인드(Roll blinds)</a>\n",
      "<a href=\"javascript:openSubDetail('2020180005018', '6', '', 'biblio', '90', 'View01', '')\" title=\"새창으로 열림\">캔들 워머 조명(CANDLE WARMER LIGHTING)</a>\n",
      "<a href=\"javascript:openSubDetail('2020180003765', '7', '', 'biblio', '90', 'View01', '')\" title=\"새창으로 열림\">창틀 고정용 지지 구조체(BRACKET FOR WINDOW FRAME FIXATION)</a>\n",
      "<a href=\"javascript:openSubDetail('2020180003759', '8', '', 'biblio', '90', 'View01', '')\" title=\"새창으로 열림\">이동식 미니 흡연부스(MOVABLE MINI SMOKING BOOTH)</a>\n",
      "<a href=\"javascript:openSubDetail('2020180000605', '9', '', 'biblio', '90', 'View01', '')\" title=\"새창으로 열림\">착즙 드럼 및 착즙기(JUICE SQUEEZING DRUM AND JUICER)</a>\n",
      "<a href=\"javascript:openSubDetail('2020180000458', '10', '', 'biblio', '90', 'View01', '')\" title=\"새창으로 열림\">밀폐용 내부 포켓이 구비된 완충 포장 박스(A shock-absorbing package box with an inner sealing pocket)</a>\n",
      "<a href=\"javascript:openSubDetail('2020170005416', '11', '', 'biblio', '90', 'View01', '')\" title=\"새창으로 열림\">살균기의 완충형 스위치 어셈블리(Shock-absorbing type switch assembly of sterilizer)</a>\n",
      "<a href=\"javascript:openSubDetail('2020170004535', '12', '', 'biblio', '90', 'View01', '')\" title=\"새창으로 열림\">휴대용 스피커 탈부착형 스테레오 사운드 북(Sound book)</a>\n",
      "<a href=\"javascript:openSubDetail('2020170004327', '13', '', 'biblio', '90', 'View01', '')\" title=\"새창으로 열림\">카드 케이스 제작용 사출 금형(INJECTION MOLD FOR MAKING CARD CASE)</a>\n",
      "<a href=\"javascript:openSubDetail('2020170004068', '14', '', 'biblio', '90', 'View01', '')\" title=\"새창으로 열림\">슬라이딩 휴대전화 케이스(SLIDING TYPE PHONE CASE)</a>\n",
      "<a href=\"javascript:openSubDetail('2020170003548', '15', '', 'biblio', '90', 'View01', '')\" title=\"새창으로 열림\">탱크의 처리, 크리닝 장치(Tank treatment, cleaning equipment)</a>\n",
      "<a href=\"javascript:openSubDetail('2020170002987', '16', '', 'biblio', '90', 'View01', '')\" title=\"새창으로 열림\">기어의 원리를 이용한 높이조절이 가능한 창문 고정 장치(FIXING APPARATUS FOR WINDOW)</a>\n",
      "<a href=\"javascript:openSubDetail('2020170001999', '17', '', 'biblio', '90', 'View01', '')\" title=\"새창으로 열림\">밀폐구조 튜브형 화장품용기(AIRTIGHT STRUCTURE TUBE TYPE COSMETIC CONTAINER)</a>\n",
      "<a href=\"javascript:openSubDetail('2020170001785', '18', '', 'biblio', '90', 'View01', '')\" title=\"새창으로 열림\">기울림 방지 보호 케이스(ANTI-TILT PROTECTIVE CASE)</a>\n",
      "<a href=\"javascript:openSubDetail('2020170001756', '19', '', 'biblio', '90', 'View01', '')\" title=\"새창으로 열림\">배관 구조(PIPE STRUCTURE)</a>\n",
      "<a href=\"javascript:openSubDetail('2020170000818', '20', '', 'biblio', '90', 'View01', '')\" title=\"새창으로 열림\">텀블러(TUMBLER)</a>\n",
      "<a href=\"javascript:openSubDetail('2020170000396', '21', '', 'biblio', '90', 'View01', '')\" title=\"새창으로 열림\">영어 단어 학습 카드(CARDS FOR STUDYING ENGLISH WORDS)</a>\n",
      "<a href=\"javascript:openSubDetail('2020160007076', '22', '', 'biblio', '90', 'View01', '')\" title=\"새창으로 열림\">내전근 및 괄약근 강화 운동기구(EXERCISE APPARATUS FOR ADDUCTOR AND SPHINCTER)</a>\n",
      "<a href=\"javascript:openSubDetail('2020160006695', '23', '', 'biblio', '90', 'View01', '')\" title=\"새창으로 열림\">길이 가변형 출입금지 표지판(LENGTH VARIABLE TYPE SIGN BOARD)</a>\n",
      "<a href=\"javascript:openSubDetail('2020160003836', '24', '', 'biblio', '90', 'View01', '')\" title=\"새창으로 열림\">휴대용 기초크림용기(Portable foundation cream container)</a>\n",
      "<a href=\"javascript:openSubDetail('2020160003277', '25', '', 'biblio', '90', 'View01', '')\" title=\"새창으로 열림\">록킹장치가 구비된 여닫이 창호(casement window with locking device)</a>\n",
      "<a href=\"javascript:openSubDetail('2020160003238', '26', '', 'biblio', '90', 'View01', '')\" title=\"새창으로 열림\">스탠드형 농산물 건조대(Drying rack for farm produce of stand type)</a>\n",
      "<a href=\"javascript:openSubDetail('2020160002909', '27', '', 'biblio', '90', 'View01', '')\" title=\"새창으로 열림\">액체 배출용기(Container for discharging liquid)</a>\n",
      "<a href=\"javascript:openSubDetail('2020160002036', '28', '', 'biblio', '90', 'View01', '')\" title=\"새창으로 열림\">휴대용 케이블타이 고정구(Holder of cable tie)</a>\n",
      "<a href=\"javascript:openSubDetail('2020160001398', '29', '', 'biblio', '90', 'View01', '')\" title=\"새창으로 열림\">전자 장치용 부착 시스템(ATTACHMENT SYSTEM FOR AN ELECTRONIC DEVICE)</a>\n",
      "<a href=\"javascript:openSubDetail('2020160000476', '30', '', 'biblio', '90', 'View01', '')\" title=\"새창으로 열림\">마주보는 출입문의 쌍방 감시장치(Interactive monitoring apparatus for confront doors)</a>\n",
      "<a href=\"javascript:openSubDetail('2020150006096', '31', '', 'biblio', '90', 'View01', '')\" title=\"새창으로 열림\">이동식 공구 보관 캐비닛(MOVABLE TOOL CABINETS)</a>\n",
      "<a href=\"javascript:openSubDetail('2020150005719', '32', '', 'biblio', '90', 'View01', '')\" title=\"새창으로 열림\">대나무통 용기(Bamboo Tube Vessel)</a>\n",
      "<a href=\"javascript:openSubDetail('2020150005176', '33', '', 'biblio', '90', 'View01', '')\" title=\"새창으로 열림\">바이러스 차단구(interception tool of virus)</a>\n",
      "<a href=\"javascript:openSubDetail('2020150003426', '34', '', 'biblio', '90', 'View01', '')\" title=\"새창으로 열림\">회동지지구조를 갖는 팔지지대(Sell zone has a pivot support structure)</a>\n",
      "<a href=\"javascript:openSubDetail('2020150003278', '35', '', 'biblio', '90', 'View01', '')\" title=\"새창으로 열림\">선택적 약제배출 용기(CONTAINER FOR SELECTIVELY EXHAUSTING MEDICINE)</a>\n",
      "<a href=\"javascript:openSubDetail('2020150002429', '36', '', 'biblio', '90', 'View01', '')\" title=\"새창으로 열림\">휴대용 시험기 고정장치(Portable Fixing Apparatus for Tester)</a>\n",
      "<a href=\"javascript:openSubDetail('2020150002167', '37', '', 'biblio', '90', 'View01', '')\" title=\"새창으로 열림\">스케이트보드용 보조바퀴부(SKATE BOARD WING)</a>\n",
      "<a href=\"javascript:openSubDetail('2020150001106', '38', '', 'biblio', '90', 'View01', '')\" title=\"새창으로 열림\">액세서리용 장신구 세트(A accessories set)</a>\n",
      "<a href=\"javascript:openSubDetail('2020150000365', '39', '', 'biblio', '90', 'View01', '')\" title=\"새창으로 열림\">거미퇴치기능을 가지는 방범카메라용 하우징(Housing for security camera)</a>\n",
      "<a href=\"javascript:openSubDetail('2020147000046', '40', '', 'biblio', '90', 'View01', '')\" title=\"새창으로 열림\">에너지 분배 시스템으로의 직접 연결을 위해 고압 변압기 시스템을 갖춘 ISO 선적 컨테이너 또는 유사 패키지 내에 수용된 모듈식 발전 장치에 도입된 구조적 배열체(A STRUCTURAL ARRANGEMENT INTRODUCED IN A MODULAR ELECTRIC POWER PLANT HOUSED WITHIN AN ISO SHIPPING CONTAINER OR SIMILAR PACKAGE THAT IS EQUIPPED WITH A HIGH-VOLTAGE TRANSFORMER SYSTEM FOR DIRECT CONNECTION TO AN ENERGY DISTRIBUTION SYSTEM)</a>\n",
      "<a href=\"javascript:openSubDetail('2020140009226', '41', '', 'biblio', '90', 'View01', '')\" title=\"새창으로 열림\">담배 필터용 흡착성형물의 자동 제조장치(AUTOMATION EQUIPMENT FOR PRODUCTION OF MOLDED ARTICLE FOR CIGARETTE FILTER)</a>\n",
      "<a href=\"javascript:openSubDetail('2020140007359', '42', '', 'biblio', '90', 'View01', '')\" title=\"새창으로 열림\">오목확대거울(Mirror for concave and magnification)</a>\n",
      "<a href=\"javascript:openSubDetail('2020140007319', '43', '', 'biblio', '90', 'View01', '')\" title=\"새창으로 열림\">전자 담배용 스위치 모듈 및 이를 포함하는 전자 담배(Switch module and electric cigarette having the same)</a>\n",
      "<a href=\"javascript:openSubDetail('2020140005789', '44', '', 'biblio', '90', 'View01', '')\" title=\"새창으로 열림\">시트백 각도 조절장치(ANGLE CONTROLLING APPARATUS OF SEAT-BACK)</a>\n",
      "<a href=\"javascript:openSubDetail('2020140005386', '45', '', 'biblio', '90', 'View01', '')\" title=\"새창으로 열림\">연장형 유동관 가스토치(EXTENTION TYPE FLEXIBLE TUBE GAS TORCH)</a>\n",
      "<a href=\"javascript:openSubDetail('2020140004385', '46', '', 'biblio', '90', 'View01', '')\" title=\"새창으로 열림\">벽 관통 케이블 터미널 부품(THROUGH-WALL CABLE TERMINAL FITTING)</a>\n",
      "<a href=\"javascript:openSubDetail('2020140004336', '47', '', 'biblio', '90', 'View01', '')\" title=\"새창으로 열림\">모듈화된 전자 담배(Modularized electric cigarette)</a>\n",
      "<a href=\"javascript:openSubDetail('2020140003828', '48', '', 'biblio', '90', 'View01', '')\" title=\"새창으로 열림\">납땜용 디핑장치(Deeping apparatus for solder)</a>\n",
      "<a href=\"javascript:openSubDetail('2020140003477', '49', '', 'biblio', '90', 'View01', '')\" title=\"새창으로 열림\">자동 개방기능을 가지는 도어시스템(Door system with automatic opening function)</a>\n",
      "<a href=\"javascript:openSubDetail('2020140003206', '50', '', 'biblio', '90', 'View01', '')\" title=\"새창으로 열림\">실린더 헤드 시트 래핑 장치(Cylinder Head Seat Lapping Apparatus)</a>\n",
      "<a href=\"javascript:openSubDetail('2020140002829', '51', '', 'biblio', '90', 'View01', '')\" title=\"새창으로 열림\">사료포대(Feed sacks)</a>\n",
      "<a href=\"javascript:openSubDetail('2020140001726', '52', '', 'biblio', '90', 'View01', '')\" title=\"새창으로 열림\">수수깡 모형용 자석커넥터(Magnetic connector for sorghum straw modeling)</a>\n",
      "<a href=\"javascript:openSubDetail('2020140001409', '53', '', 'biblio', '90', 'View01', '')\" title=\"새창으로 열림\">피난기구용 완강기(AUTOMATIC DESCENDING LIFE LINE)</a>\n",
      "<a href=\"javascript:openSubDetail('2020130010899', '54', '', 'biblio', '90', 'View01', '')\" title=\"새창으로 열림\">계기용 변압 변류기 케이스(Case for metering out fit)</a>\n",
      "<a href=\"javascript:openSubDetail('2020130009749', '55', '', 'biblio', '90', 'View01', '')\" title=\"새창으로 열림\">히팅볼트 신장량 측정기구(EXTENSION MEASURING DEVICE FOR HEATING BOLT)</a>\n",
      "<a href=\"javascript:openSubDetail('2020130008378', '56', '', 'biblio', '90', 'View01', '')\" title=\"새창으로 열림\">휴대용 인덕션 렌지(portable induction range)</a>\n",
      "<a href=\"javascript:openSubDetail('2020130007819', '57', '', 'biblio', '90', 'View01', '')\" title=\"새창으로 열림\">화물차량용 적재함 커버장치(Covering Apparatus for Loading Duck of Freight Car)</a>\n",
      "<a href=\"javascript:openSubDetail('2020130007556', '58', '', 'biblio', '90', 'View01', '')\" title=\"새창으로 열림\">외용약 도포기구(Application utensil)</a>\n",
      "<a href=\"javascript:openSubDetail('2020130007076', '59', '', 'biblio', '90', 'View01', '')\" title=\"새창으로 열림\">이중 수영튜브(swimming tube)</a>\n",
      "<a href=\"javascript:openSubDetail('2020130005996', '60', '', 'biblio', '90', 'View01', '')\" title=\"새창으로 열림\">차량용 안개등 어셈블리 쉴드 구조(FRONT FOG LAMP ASSEMBLY SHIELD STRUCTURE FOR CAR)</a>\n",
      "<a href=\"javascript:openSubDetail('2020130005439', '61', '', 'biblio', '90', 'View01', '')\" title=\"새창으로 열림\">앵커볼트 시스템(Anchor Bolt System)</a>\n",
      "<a href=\"javascript:openSubDetail('2020130003707', '62', '', 'biblio', '90', 'View01', '')\" title=\"새창으로 열림\">일체형 모터펌프(motor integrated pump)</a>\n",
      "<a href=\"javascript:openSubDetail('2020130001375', '63', '', 'biblio', '90', 'View01', '')\" title=\"새창으로 열림\">커플링 볼트헤드 조임장치(CUOPLING BOLT HEAD TIGHTEN DEVICE)</a>\n",
      "<a href=\"javascript:openSubDetail('2020130001227', '64', '', 'biblio', '90', 'View01', '')\" title=\"새창으로 열림\">커버 회전형 액자 프레임(COVER ROTATION TYPE FRAME)</a>\n",
      "<a href=\"javascript:openSubDetail('2020120011059', '65', '', 'biblio', '90', 'View01', '')\" title=\"새창으로 열림\">블라인드 창(Blind Window)</a>\n",
      "<a href=\"javascript:openSubDetail('2020120010046', '66', '', 'biblio', '90', 'View01', '')\" title=\"새창으로 열림\">포장상자용 손잡이(The handle for packing box)</a>\n",
      "<a href=\"javascript:openSubDetail('2020120009447', '67', '', 'biblio', '90', 'View01', '')\" title=\"새창으로 열림\">요추지지 듀얼 쿠션(DUAL CUSHION FOR SUPPORTING LUMBAR VERTEBRA)</a>\n",
      "<a href=\"javascript:openSubDetail('2020120007706', '68', '', 'biblio', '90', 'View01', '')\" title=\"새창으로 열림\">피사체 촬영을 위한 거치대 겸용 휴대용 태블릿 PC 수납 케이스(PORTABLE TABLET PC STORAGE CASE WITH SUPPORT DEVICE FOR SHOOTING SUBJECT)</a>\n",
      "None\n",
      "<a href=\"javascript:openSubDetail('2020120003509', '70', '', 'biblio', '90', 'View01', '')\" title=\"새창으로 열림\">용기 파지용 홀더(HOLDER FOR PICKING UP BOTTLES)</a>\n",
      "<a href=\"javascript:openSubDetail('2020120003167', '71', '', 'biblio', '90', 'View01', '')\" title=\"새창으로 열림\">렌즈의 탈장착이 가능한 돋보기(LENS-DETACHABLE MAGNIFYING GLASS)</a>\n",
      "<a href=\"javascript:openSubDetail('2020120000289', '72', '', 'biblio', '90', 'View01', '')\" title=\"새창으로 열림\">택시 운전자 보호 스크린 장치(A prodective screen for Taxi driver)</a>\n",
      "<a href=\"javascript:openSubDetail('2020110011378', '73', '', 'biblio', '90', 'View01', '')\" title=\"새창으로 열림\">차량용 시거잭(CIGAR JACK FOR AUTOMOBILE)</a>\n",
      "<a href=\"javascript:openSubDetail('2020110009137', '74', '', 'biblio', '90', 'View01', '')\" title=\"새창으로 열림\">떡 성형틀(Forming frame for a rice cake)</a>\n",
      "<a href=\"javascript:openSubDetail('2020110008648', '75', '', 'biblio', '90', 'View01', '')\" title=\"새창으로 열림\">띠장 지지용 서포팅 유닛(SUPPORTING UNIT FOR WALE)</a>\n",
      "<a href=\"javascript:openSubDetail('2020110006627', '76', '', 'biblio', '90', 'View01', '')\" title=\"새창으로 열림\">가열기를 구비한 컨베이어 구동 롤러(CONVEYOR ROLLER WITH A HEATER)</a>\n",
      "<a href=\"javascript:openSubDetail('2020110003208', '77', '', 'biblio', '90', 'View01', '')\" title=\"새창으로 열림\">LED 모듈을 제조하는 장치 및 이를 통해 제조된 LED 모듈(LED MODULE)</a>\n",
      "<a href=\"javascript:openSubDetail('2020100009017', '78', '', 'biblio', '90', 'View01', '')\" title=\"새창으로 열림\">맥락 독서노트(The context prism)</a>\n",
      "<a href=\"javascript:openSubDetail('2020080014067', '79', '', 'biblio', '90', 'View01', '')\" title=\"새창으로 열림\">터치 윈도우(Touch Window)</a>\n",
      "<a href=\"javascript:openSubDetail('2020210001608', '80', '', 'biblio', '90', 'View01', '')\" title=\"새창으로 열림\">뇌파 분석기 수납이 용이한 헤드셋(Headset for easy storage of EEG analyzer)</a>\n",
      "<a href=\"javascript:openSubDetail('2020200000419', '81', '', 'biblio', '90', 'View01', '')\" title=\"새창으로 열림\">4-다이 단조 장치(FOUR DIE FORGING MACHINE)</a>\n",
      "<a href=\"javascript:openSubDetail('2020190000086', '82', '', 'biblio', '90', 'View01', '')\" title=\"새창으로 열림\">독서대의 책장지지대 결합구조(Bracket coupling structure of reading book)</a>\n",
      "<a href=\"javascript:openSubDetail('2020180002726', '83', '', 'biblio', '90', 'View01', '')\" title=\"새창으로 열림\">그라우팅 배합기(Grouting Mixer)</a>\n",
      "<a href=\"javascript:openSubDetail('2020180002096', '84', '', 'biblio', '90', 'View01', '')\" title=\"새창으로 열림\">렌즈 클리너(LENS CLEANER)</a>\n",
      "<a href=\"javascript:openSubDetail('2020170003449', '85', '', 'biblio', '90', 'View01', '')\" title=\"새창으로 열림\">콘크리트 평탄 작업용 하이브리드 평탄 도구(Hybrid leveling tool for concrete leveling work)</a>\n",
      "<a href=\"javascript:openSubDetail('2020170000189', '86', '', 'biblio', '90', 'View01', '')\" title=\"새창으로 열림\">캠핑용 숯불난로를 위한 다기능 거치대(Multi Punction Stand for Charcoal Stove in Camping)</a>\n",
      "<a href=\"javascript:openSubDetail('2020160006327', '87', '', 'biblio', '90', 'View01', '')\" title=\"새창으로 열림\">발광 루어(Emitting Lure)</a>\n",
      "<a href=\"javascript:openSubDetail('2020160002508', '88', '', 'biblio', '90', 'View01', '')\" title=\"새창으로 열림\">반창고(BAND AID)</a>\n",
      "<a href=\"javascript:openSubDetail('2020160002115', '89', '', 'biblio', '90', 'View01', '')\" title=\"새창으로 열림\">콘크리트 구조물의 벽체 경사면에 사용되는 절단용 유로폼(Euro-form used for the walls of the concrete slope)</a>\n"
     ]
    }
   ],
   "source": [
    "dom = BeautifulSoup(driver.page_source, 'html.parser')\n",
    "patent_list = dom.select('.search_section article')\n",
    "cnt = 0\n",
    "for patent in patent_list:\n",
    "    print(patent.select_one('.stitle > a:nth-of-type(2)'))"
   ]
  }
 ],
 "metadata": {
  "kernelspec": {
   "display_name": "Python 3",
   "language": "python",
   "name": "python3"
  },
  "language_info": {
   "codemirror_mode": {
    "name": "ipython",
    "version": 3
   },
   "file_extension": ".py",
   "mimetype": "text/x-python",
   "name": "python",
   "nbconvert_exporter": "python",
   "pygments_lexer": "ipython3",
   "version": "3.8.8"
  }
 },
 "nbformat": 4,
 "nbformat_minor": 5
}
