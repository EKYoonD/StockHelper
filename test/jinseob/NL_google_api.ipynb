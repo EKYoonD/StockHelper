{
 "cells": [
  {
   "cell_type": "code",
   "execution_count": 1,
   "id": "f4018d3c",
   "metadata": {},
   "outputs": [
    {
     "name": "stdout",
     "output_type": "stream",
     "text": [
      "Text: Hello, world!\n",
      "Sentiment: 0.6000000238418579, 0.6000000238418579\n"
     ]
    }
   ],
   "source": [
    "# Imports the Google Cloud client library\n",
    "from google.cloud import language_v1\n",
    "\n",
    "# Instantiates a client\n",
    "client = language_v1.LanguageServiceClient.from_service_account_json(\"C:/DevRoot/stockhelper_data/flowing-bazaar-334005-93614458e39e.json\")\n",
    "\n",
    "# The text to analyze\n",
    "text = u\"Hello, world!\"\n",
    "document = language_v1.Document(\n",
    "    content=text, type_=language_v1.Document.Type.PLAIN_TEXT\n",
    ")\n",
    "\n",
    "# Detects the sentiment of the text\n",
    "sentiment = client.analyze_sentiment(\n",
    "    request={\"document\": document}\n",
    ").document_sentiment\n",
    "\n",
    "print(\"Text: {}\".format(text))\n",
    "print(\"Sentiment: {}, {}\".format(sentiment.score, sentiment.magnitude))"
   ]
  },
  {
   "cell_type": "code",
   "execution_count": 21,
   "id": "3e567a95",
   "metadata": {},
   "outputs": [
    {
     "name": "stdout",
     "output_type": "stream",
     "text": [
      "Sentence 0 has a sentiment score of -0.10000000149011612\n",
      "Sentence 1 has a sentiment score of 0.20000000298023224\n",
      "Sentence 2 has a sentiment score of -0.20000000298023224\n",
      "Sentence 3 has a sentiment score of 0.10000000149011612\n",
      "Sentence 4 has a sentiment score of 0.20000000298023224\n",
      "Sentence 5 has a sentiment score of 0.30000001192092896\n",
      "Overall Sentiment: score of 0.10000000149011612 with magnitude of 1.399999976158142\n"
     ]
    }
   ],
   "source": [
    "\"\"\"Demonstrates how to make a simple call to the Natural Language API.\"\"\"\n",
    "\n",
    "import argparse\n",
    "\n",
    "from google.cloud import language_v1\n",
    "\n",
    "def print_result(annotations):\n",
    "    score = annotations.document_sentiment.score\n",
    "    magnitude = annotations.document_sentiment.magnitude\n",
    "\n",
    "    for index, sentence in enumerate(annotations.sentences):\n",
    "        sentence_sentiment = sentence.sentiment.score\n",
    "        print(\n",
    "            \"Sentence {} has a sentiment score of {}\".format(index, sentence_sentiment)\n",
    "        )\n",
    "\n",
    "    print(\n",
    "        \"Overall Sentiment: score of {} with magnitude of {}\".format(score, magnitude)\n",
    "    )\n",
    "    return 0\n",
    "\n",
    "def analyze(movie_review_filename):\n",
    "    \"\"\"Run a sentiment analysis request on text within a passed filename.\"\"\"\n",
    "    client = language_v1.LanguageServiceClient.from_service_account_json(\"C:/DevRoot/stockhelper_data/flowing-bazaar-334005-93614458e39e.json\")\n",
    "\n",
    "    with open(movie_review_filename, \"r\",  encoding='UTF8') as review_file:\n",
    "        # Instantiates a plain text document.\n",
    "        content = review_file.read()\n",
    "\n",
    "    document = language_v1.Document(\n",
    "        content=content, type_=language_v1.Document.Type.PLAIN_TEXT\n",
    "    )\n",
    "    annotations = client.analyze_sentiment(request={\"document\": document})\n",
    "\n",
    "    # Print the results\n",
    "    print_result(annotations)\n",
    "    \n",
    "    \n",
    "analyze('C:/DevRoot/stockhelper_data/review.txt')\n",
    "    \n",
    "    \n",
    "# if __name__ == \"__main__\":\n",
    "#     parser = argparse.ArgumentParser(\n",
    "#         description=__doc__, formatter_class=argparse.RawDescriptionHelpFormatter\n",
    "#     )\n",
    "#     parser.add_argument(\n",
    "#         \"movie_review_filename\",\n",
    "#         help=\"The filename of the movie review you'd like to analyze.\",\n",
    "#     )\n",
    "#     args = parser.parse_args()\n",
    "\n",
    "#     analyze(args.movie_review_filename)"
   ]
  },
  {
   "cell_type": "code",
   "execution_count": null,
   "id": "d349f17d",
   "metadata": {},
   "outputs": [],
   "source": []
  }
 ],
 "metadata": {
  "kernelspec": {
   "display_name": "Python 3",
   "language": "python",
   "name": "python3"
  },
  "language_info": {
   "codemirror_mode": {
    "name": "ipython",
    "version": 3
   },
   "file_extension": ".py",
   "mimetype": "text/x-python",
   "name": "python",
   "nbconvert_exporter": "python",
   "pygments_lexer": "ipython3",
   "version": "3.8.8"
  }
 },
 "nbformat": 4,
 "nbformat_minor": 5
}
