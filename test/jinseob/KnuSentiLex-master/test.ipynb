{
 "cells": [
  {
   "cell_type": "code",
   "execution_count": 8,
   "metadata": {},
   "outputs": [],
   "source": [
    "import konlpy.tag\n",
    "from ckonlpy.tag import Twitter as cTwitter\n",
    "from gensim.models import word2vec\n",
    "from collections import Counter\n",
    "from knusl import KnuSL\n",
    "import pandas as pd\n",
    "\n"
   ]
  },
  {
   "cell_type": "code",
   "execution_count": null,
   "metadata": {},
   "outputs": [],
   "source": [
    "twitter = konlpy.tag.Twitter()\n",
    "nlp = twitter   # Customized Konlpy\n",
    "\n",
    "\n",
    "name_pos = {\n",
    "    \"Noun\" : \"명사\",\n",
    "    \"Verb\" : \"동사\"\n",
    "}\n",
    "\n",
    "def sep_pos(article):\n",
    "    # 기사의 어휘소 분석\n",
    "    morphs = nlp.pos(article, norm=True, stem=True)\n",
    "     \n",
    "    pos_words = []\n",
    "                     \n",
    "    for pos in name_pos:  # \"Noun\", \"Verb\"  통계검색할 품사들\n",
    "        \n",
    "        for mal in morphs:\n",
    "            # 통계집계할 단어품사만 and 단어길이가 2글자 이상만\n",
    "            if pos == mal[1]:  \n",
    "                pos_words.append(mal)  # 단어 추가\n",
    "           \n",
    "    return pos_words\n",
    "\n",
    "\n",
    "\n",
    "\n",
    "# malist = sep_pos(\" \".join(df_chosun['정제본문']))\n",
    "\n"
   ]
  },
  {
   "cell_type": "code",
   "execution_count": 10,
   "metadata": {},
   "outputs": [
    {
     "name": "stdout",
     "output_type": "stream",
     "text": [
      "주식 0\n",
      "떨어지다 -1\n",
      "떨어지다 -1\n",
      "내리다 0\n",
      "받다 1\n",
      "-1\n"
     ]
    }
   ],
   "source": [
    "\n",
    "score = 0\n",
    "\n",
    "for word in ['주식', '떨어지다', '떨어지다', '내리다', '받다']:\n",
    "    s = KnuSL.word_score(word)\n",
    "    print(word, s)\n",
    "    score += s\n",
    "    \n",
    "\n",
    "print(score)\n",
    "\n"
   ]
  },
  {
   "cell_type": "code",
   "execution_count": null,
   "metadata": {},
   "outputs": [],
   "source": [
    "def get_score(content):\n",
    "    score = 0\n",
    "    for word in content:\n",
    "        s = KnuSL.word_score(word)\n",
    "        print(word, s)\n",
    "        score += s\n",
    "    return score\n",
    "\n",
    "print(get_score())\n"
   ]
  }
 ],
 "metadata": {
  "interpreter": {
   "hash": "b3ba2566441a7c06988d0923437866b63cedc61552a5af99d1f4fb67d367b25f"
  },
  "kernelspec": {
   "display_name": "Python 3.8.8 64-bit ('base': conda)",
   "language": "python",
   "name": "python3"
  },
  "language_info": {
   "codemirror_mode": {
    "name": "ipython",
    "version": 3
   },
   "file_extension": ".py",
   "mimetype": "text/x-python",
   "name": "python",
   "nbconvert_exporter": "python",
   "pygments_lexer": "ipython3",
   "version": "3.8.8"
  },
  "orig_nbformat": 4
 },
 "nbformat": 4,
 "nbformat_minor": 2
}
