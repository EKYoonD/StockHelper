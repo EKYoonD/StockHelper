{
 "cells": [
  {
   "cell_type": "code",
   "execution_count": 116,
   "id": "7548733c",
   "metadata": {},
   "outputs": [],
   "source": [
    "import requests\n",
    "import pandas as pd\n",
    "import numpy as np\n",
    "from bs4 import BeautifulSoup\n",
    "import time\n",
    "import re\n",
    "import random\n",
    "\n",
    "from selenium import webdriver\n",
    "from selenium.webdriver.common.keys import Keys \n",
    "from selenium.webdriver.common.by import By\n",
    "from selenium.webdriver.support.ui import WebDriverWait\n",
    "from selenium.webdriver.support import expected_conditions as EC\n",
    "from selenium.common.exceptions import NoSuchElementException\n",
    "from selenium.common.exceptions import TimeoutException\n",
    "from selenium.webdriver.support.select import Select"
   ]
  },
  {
   "cell_type": "code",
   "execution_count": 35,
   "id": "2f2a50d8",
   "metadata": {},
   "outputs": [
    {
     "data": {
      "text/plain": [
       "'2019-12-01'"
      ]
     },
     "execution_count": 35,
     "metadata": {},
     "output_type": "execute_result"
    }
   ],
   "source": [
    "twoYearsAgo = time.strftime('%Y-%m-%d',time.localtime(time.time() - 63072000))\n",
    "twoYearsAgo"
   ]
  },
  {
   "cell_type": "code",
   "execution_count": 36,
   "id": "3f731f7e",
   "metadata": {},
   "outputs": [],
   "source": [
    "driver_path = r'C:\\DevRoot\\download\\chromedriver.exe'\n",
    "driver = webdriver.Chrome(driver_path)\n",
    "driver.get('https://www.bigkinds.or.kr/v2/news/index.do')\n",
    "driver.implicitly_wait(10)  # 로딩 완료 까지 최대 10초 대기"
   ]
  },
  {
   "cell_type": "code",
   "execution_count": 37,
   "id": "dacd9609",
   "metadata": {},
   "outputs": [],
   "source": [
    "driver.find_element_by_id('중앙지').send_keys(Keys.SPACE)\n",
    "# driver.find_element_by_id('경제지').send_keys(Keys.SPACE)"
   ]
  },
  {
   "cell_type": "code",
   "execution_count": 38,
   "id": "c66f892f",
   "metadata": {},
   "outputs": [],
   "source": [
    "driver.find_element_by_css_selector('.tab-btn-inner.tab1 > a').send_keys(Keys.ENTER)"
   ]
  },
  {
   "cell_type": "code",
   "execution_count": 39,
   "id": "bc1f3486",
   "metadata": {},
   "outputs": [],
   "source": [
    "driver.execute_script(f'document.getElementById(\"search-begin-date\").value = \"{twoYearsAgo}\"')"
   ]
  },
  {
   "cell_type": "code",
   "execution_count": 40,
   "id": "13c6b7a1",
   "metadata": {},
   "outputs": [],
   "source": [
    "driver.find_element_by_css_selector('.tab-btn-inner.tab5 > a').send_keys(Keys.ENTER)"
   ]
  },
  {
   "cell_type": "code",
   "execution_count": 41,
   "id": "ddeaf4da",
   "metadata": {},
   "outputs": [],
   "source": [
    "driver.find_element_by_css_selector('#detailSrch1 > div.srch-foot > div > button.btn.btn-md.btn-primary.news-search-btn').send_keys(Keys.ENTER)"
   ]
  },
  {
   "cell_type": "code",
   "execution_count": 42,
   "id": "e160bfa5",
   "metadata": {},
   "outputs": [],
   "source": [
    "driver.implicitly_wait(10)\n",
    "pageRows = Select(driver.find_element_by_id('select2'))\n",
    "pageRows.select_by_value('100')\n",
    "driver.implicitly_wait(10)"
   ]
  },
  {
   "cell_type": "code",
   "execution_count": 109,
   "id": "a8cf058f",
   "metadata": {},
   "outputs": [
    {
     "data": {
      "text/plain": [
       "100"
      ]
     },
     "execution_count": 109,
     "metadata": {},
     "output_type": "execute_result"
    }
   ],
   "source": [
    "elements = driver.find_elements_by_css_selector(\"#news-results > div.news-item\")\n",
    "len(elements)"
   ]
  },
  {
   "cell_type": "code",
   "execution_count": 110,
   "id": "a3c6d9a9",
   "metadata": {},
   "outputs": [
    {
     "data": {
      "text/plain": [
       "['01101101.20211130151650001',\n",
       " '01100901.20211130151650001',\n",
       " '01100611.20211130151648001',\n",
       " '01100101.20211130151640001',\n",
       " '01100611.20211130151638001',\n",
       " '01100401.20211130151558001',\n",
       " '01101101.20211130151558001',\n",
       " '01100401.20211130151557001',\n",
       " '01101101.20211130151557001',\n",
       " '01100101.20211130151525001']"
      ]
     },
     "execution_count": 110,
     "metadata": {},
     "output_type": "execute_result"
    }
   ],
   "source": [
    "news_ids = [\n",
    "    element.get_attribute('data-id')\n",
    "    for element in elements\n",
    "]\n",
    "news_ids[:10]"
   ]
  },
  {
   "cell_type": "code",
   "execution_count": 117,
   "id": "3c0d4fe4",
   "metadata": {},
   "outputs": [],
   "source": [
    "def crawl_bigkinds_article(news_ids):\n",
    "    url_fmt = 'https://www.bigkinds.or.kr/news/detailView.do?docId={news_id}&returnCnt=1&sectionDiv=1000'\n",
    "\n",
    "    headers = {\n",
    "        'Referer' : 'https://www.bigkinds.or.kr/v2/news/index.do',\n",
    "        'User-Agent' : 'Mozilla/5.0 (Windows NT 10.0; Win64; x64) AppleWebKit/537.36 (KHTML, like Gecko) Chrome/91.0.4472.77 Safari/537.36'\n",
    "    }\n",
    "\n",
    "    result = []\n",
    "    for news_id in news_ids:\n",
    "        news_url = url_fmt.format(news_id = news_id)\n",
    "        response = requests.get(news_url, headers=headers)\n",
    "        article = response.json()\n",
    "        result.append({\n",
    "            \"제목\": article['detail']['TITLE'],\n",
    "            \"기사내용\": re.sub('<.+?>', '', article['detail']['CONTENT'], 0, re.I|re.S)\n",
    "        })\n",
    "        \n",
    "        time.sleep(random.random()*10+3)  # ip 차단 방지용 딜레이\n",
    "\n",
    "    df = pd.DataFrame(result)\n",
    "    return df"
   ]
  },
  {
   "cell_type": "code",
   "execution_count": 118,
   "id": "dc9ebf92",
   "metadata": {},
   "outputs": [
    {
     "data": {
      "text/html": [
       "<div>\n",
       "<style scoped>\n",
       "    .dataframe tbody tr th:only-of-type {\n",
       "        vertical-align: middle;\n",
       "    }\n",
       "\n",
       "    .dataframe tbody tr th {\n",
       "        vertical-align: top;\n",
       "    }\n",
       "\n",
       "    .dataframe thead th {\n",
       "        text-align: right;\n",
       "    }\n",
       "</style>\n",
       "<table border=\"1\" class=\"dataframe\">\n",
       "  <thead>\n",
       "    <tr style=\"text-align: right;\">\n",
       "      <th></th>\n",
       "      <th>제목</th>\n",
       "      <th>기사내용</th>\n",
       "    </tr>\n",
       "  </thead>\n",
       "  <tbody>\n",
       "    <tr>\n",
       "      <th>0</th>\n",
       "      <td>오미크론 공포보다 경제가 우선… 관광 빗장 더 푸는 태국·캄보디아</td>\n",
       "      <td>태국과 캄보디아가 신종 코로나바이러스 감염증(코로나19) ‘오미크론 변이’ 공포 속...</td>\n",
       "    </tr>\n",
       "    <tr>\n",
       "      <th>1</th>\n",
       "      <td>서초 아리팍 전용 84㎡ 45억 신고가…국민평형 역대 최고가</td>\n",
       "      <td>최근 대출규제와 금리인상 등의 여파로 서울 집값 상승폭이 둔화된 가운데 서울 강남 ...</td>\n",
       "    </tr>\n",
       "    <tr>\n",
       "      <th>2</th>\n",
       "      <td>박원순 유족 “성추행 인정 근거 공개하라” 인권위 “2차 가해”</td>\n",
       "      <td>고 박원순 전 서울시장 유족 측이 박 전 시장의 성추행 의혹을 사실로 인정한 국가인...</td>\n",
       "    </tr>\n",
       "    <tr>\n",
       "      <th>3</th>\n",
       "      <td>'올해의 연출가상'에 극단 대학로극장의 이우천 연출</td>\n",
       "      <td>사단법인 한국연출가협회는 ‘2021 올해의 연출가상’에 이우천 연출을 수상자로 선정...</td>\n",
       "    </tr>\n",
       "    <tr>\n",
       "      <th>4</th>\n",
       "      <td>코로나19로 숙박·음식점 종사자 감소</td>\n",
       "      <td>지난 10월 사업체 종사자가 지난해 같은 기간 대비 18만 8000명이 늘어나 8개...</td>\n",
       "    </tr>\n",
       "    <tr>\n",
       "      <th>...</th>\n",
       "      <td>...</td>\n",
       "      <td>...</td>\n",
       "    </tr>\n",
       "    <tr>\n",
       "      <th>95</th>\n",
       "      <td>검찰, '뇌물·직권남용' 은수미 성남시장 기소···은 시장 \"억지 주장\" 반박</td>\n",
       "      <td>정치자금법 수사 내용 받는 대가로 청탁 들어줘검찰 “성남시 공무원, 지역 경찰관 등...</td>\n",
       "    </tr>\n",
       "    <tr>\n",
       "      <th>96</th>\n",
       "      <td>檢, ‘뇌물·직권남용 혐의’ 은수미 기소… 은 시장 “정치적 기소”</td>\n",
       "      <td>은수미 경기 성남시장. 연합뉴스 은수미 경기 성남시장이 30일 자신의 정치자금법 위...</td>\n",
       "    </tr>\n",
       "    <tr>\n",
       "      <th>97</th>\n",
       "      <td>부산 에코델타시티 단독주택 용지, 부산시민에게 우선 분양</td>\n",
       "      <td>부산시는 30일 부산 강서구 에코델타시티에서 일반 분양하는 단독주택 용지 510필지...</td>\n",
       "    </tr>\n",
       "    <tr>\n",
       "      <th>98</th>\n",
       "      <td>“父, 어머니 불태워 살해했는데 경찰 수사 안해” 中아들의 폭로</td>\n",
       "      <td>사진=SCMP 홈페이지 캡처 중국에서 한 아들이 “아버지가 어머니를 불태워 죽였다”...</td>\n",
       "    </tr>\n",
       "    <tr>\n",
       "      <th>99</th>\n",
       "      <td>‘징맨’ 황철순, 폭행·재물손괴 혐의로 경찰 조사</td>\n",
       "      <td>서울 강남경찰서 제공 케이블 방송 코미디 프로그램에 출연해 '징맨'으로 유명해진 헬...</td>\n",
       "    </tr>\n",
       "  </tbody>\n",
       "</table>\n",
       "<p>100 rows × 2 columns</p>\n",
       "</div>"
      ],
      "text/plain": [
       "                                             제목  \\\n",
       "0          오미크론 공포보다 경제가 우선… 관광 빗장 더 푸는 태국·캄보디아   \n",
       "1             서초 아리팍 전용 84㎡ 45억 신고가…국민평형 역대 최고가   \n",
       "2           박원순 유족 “성추행 인정 근거 공개하라” 인권위 “2차 가해”   \n",
       "3                  '올해의 연출가상'에 극단 대학로극장의 이우천 연출   \n",
       "4                          코로나19로 숙박·음식점 종사자 감소   \n",
       "..                                          ...   \n",
       "95  검찰, '뇌물·직권남용' 은수미 성남시장 기소···은 시장 \"억지 주장\" 반박   \n",
       "96        檢, ‘뇌물·직권남용 혐의’ 은수미 기소… 은 시장 “정치적 기소”   \n",
       "97              부산 에코델타시티 단독주택 용지, 부산시민에게 우선 분양   \n",
       "98          “父, 어머니 불태워 살해했는데 경찰 수사 안해” 中아들의 폭로   \n",
       "99                  ‘징맨’ 황철순, 폭행·재물손괴 혐의로 경찰 조사   \n",
       "\n",
       "                                                 기사내용  \n",
       "0   태국과 캄보디아가 신종 코로나바이러스 감염증(코로나19) ‘오미크론 변이’ 공포 속...  \n",
       "1   최근 대출규제와 금리인상 등의 여파로 서울 집값 상승폭이 둔화된 가운데 서울 강남 ...  \n",
       "2   고 박원순 전 서울시장 유족 측이 박 전 시장의 성추행 의혹을 사실로 인정한 국가인...  \n",
       "3   사단법인 한국연출가협회는 ‘2021 올해의 연출가상’에 이우천 연출을 수상자로 선정...  \n",
       "4   지난 10월 사업체 종사자가 지난해 같은 기간 대비 18만 8000명이 늘어나 8개...  \n",
       "..                                                ...  \n",
       "95  정치자금법 수사 내용 받는 대가로 청탁 들어줘검찰 “성남시 공무원, 지역 경찰관 등...  \n",
       "96  은수미 경기 성남시장. 연합뉴스 은수미 경기 성남시장이 30일 자신의 정치자금법 위...  \n",
       "97  부산시는 30일 부산 강서구 에코델타시티에서 일반 분양하는 단독주택 용지 510필지...  \n",
       "98  사진=SCMP 홈페이지 캡처 중국에서 한 아들이 “아버지가 어머니를 불태워 죽였다”...  \n",
       "99  서울 강남경찰서 제공 케이블 방송 코미디 프로그램에 출연해 '징맨'으로 유명해진 헬...  \n",
       "\n",
       "[100 rows x 2 columns]"
      ]
     },
     "execution_count": 118,
     "metadata": {},
     "output_type": "execute_result"
    }
   ],
   "source": [
    "crawl_bigkinds_article(news_ids)"
   ]
  },
  {
   "cell_type": "code",
   "execution_count": null,
   "id": "52482fbe",
   "metadata": {},
   "outputs": [],
   "source": []
  },
  {
   "cell_type": "code",
   "execution_count": null,
   "id": "c24bd408",
   "metadata": {},
   "outputs": [],
   "source": []
  }
 ],
 "metadata": {
  "kernelspec": {
   "display_name": "Python 3",
   "language": "python",
   "name": "python3"
  },
  "language_info": {
   "codemirror_mode": {
    "name": "ipython",
    "version": 3
   },
   "file_extension": ".py",
   "mimetype": "text/x-python",
   "name": "python",
   "nbconvert_exporter": "python",
   "pygments_lexer": "ipython3",
   "version": "3.8.8"
  }
 },
 "nbformat": 4,
 "nbformat_minor": 5
}
