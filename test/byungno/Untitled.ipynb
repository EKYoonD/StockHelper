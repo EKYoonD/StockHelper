{
 "cells": [
  {
   "cell_type": "code",
   "execution_count": 1,
   "id": "2a35d7a7",
   "metadata": {},
   "outputs": [
    {
     "name": "stdout",
     "output_type": "stream",
     "text": [
      "2016-02-19    60000\n",
      "2016-02-18    70000\n",
      "2016-02-17    80000\n",
      "2016-02-16    90000\n",
      "dtype: object\n"
     ]
    }
   ],
   "source": [
    "import numpy as np\n",
    "import pandas as pd\n",
    "\n",
    "ts = pd.Series(['60000','70000','80000', '90000'], index=['2016-02-19','2016-02-18','2016-02-17','2016-02-16'])\n",
    "print(ts)"
   ]
  },
  {
   "cell_type": "code",
   "execution_count": null,
   "id": "b4f87038",
   "metadata": {},
   "outputs": [],
   "source": []
  },
  {
   "cell_type": "code",
   "execution_count": 3,
   "id": "3edfe2ae",
   "metadata": {},
   "outputs": [
    {
     "data": {
      "text/plain": [
       "array(['60000', '70000', '80000', '90000'], dtype=object)"
      ]
     },
     "execution_count": 3,
     "metadata": {},
     "output_type": "execute_result"
    }
   ],
   "source": [
    "ts.index\n",
    "ts.values"
   ]
  },
  {
   "cell_type": "code",
   "execution_count": 4,
   "id": "cdfcbb2e",
   "metadata": {},
   "outputs": [
    {
     "data": {
      "text/plain": [
       "array(['60000', '70000', '80000', '90000'], dtype=object)"
      ]
     },
     "execution_count": 4,
     "metadata": {},
     "output_type": "execute_result"
    }
   ],
   "source": [
    "ts.values"
   ]
  },
  {
   "cell_type": "code",
   "execution_count": null,
   "id": "302eb958",
   "metadata": {},
   "outputs": [],
   "source": []
  }
 ],
 "metadata": {
  "kernelspec": {
   "display_name": "Python 3",
   "language": "python",
   "name": "python3"
  },
  "language_info": {
   "codemirror_mode": {
    "name": "ipython",
    "version": 3
   },
   "file_extension": ".py",
   "mimetype": "text/x-python",
   "name": "python",
   "nbconvert_exporter": "python",
   "pygments_lexer": "ipython3",
   "version": "3.8.8"
  }
 },
 "nbformat": 4,
 "nbformat_minor": 5
}
