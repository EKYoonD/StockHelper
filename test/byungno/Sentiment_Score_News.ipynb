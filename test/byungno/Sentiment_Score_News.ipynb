{
 "cells": [
  {
   "cell_type": "code",
   "execution_count": 1,
   "id": "ebb28c44",
   "metadata": {},
   "outputs": [],
   "source": [
    "from google.cloud import language_v1\n",
    "from tqdm import tqdm\n",
    "from tqdm import trange"
   ]
  },
  {
   "cell_type": "code",
   "execution_count": 3,
   "id": "f4018d3c",
   "metadata": {},
   "outputs": [
    {
     "name": "stderr",
     "output_type": "stream",
     "text": [
      "WARNING: Ignoring invalid distribution -weepy (c:\\programdata\\anaconda3\\lib\\site-packages)\n",
      "WARNING: Ignoring invalid distribution -pype1 (c:\\programdata\\anaconda3\\lib\\site-packages)\n",
      "WARNING: Ignoring invalid distribution - (c:\\programdata\\anaconda3\\lib\\site-packages)\n",
      "WARNING: Ignoring invalid distribution -weepy (c:\\programdata\\anaconda3\\lib\\site-packages)\n",
      "WARNING: Ignoring invalid distribution -pype1 (c:\\programdata\\anaconda3\\lib\\site-packages)\n",
      "WARNING: Ignoring invalid distribution - (c:\\programdata\\anaconda3\\lib\\site-packages)\n",
      "WARNING: Ignoring invalid distribution -weepy (c:\\programdata\\anaconda3\\lib\\site-packages)\n",
      "WARNING: Ignoring invalid distribution -pype1 (c:\\programdata\\anaconda3\\lib\\site-packages)\n",
      "WARNING: Ignoring invalid distribution - (c:\\programdata\\anaconda3\\lib\\site-packages)\n",
      "WARNING: Ignoring invalid distribution -weepy (c:\\programdata\\anaconda3\\lib\\site-packages)\n",
      "WARNING: Ignoring invalid distribution -pype1 (c:\\programdata\\anaconda3\\lib\\site-packages)\n",
      "WARNING: Ignoring invalid distribution - (c:\\programdata\\anaconda3\\lib\\site-packages)\n",
      "WARNING: Ignoring invalid distribution -weepy (c:\\programdata\\anaconda3\\lib\\site-packages)\n",
      "WARNING: Ignoring invalid distribution -pype1 (c:\\programdata\\anaconda3\\lib\\site-packages)\n",
      "WARNING: Ignoring invalid distribution - (c:\\programdata\\anaconda3\\lib\\site-packages)\n"
     ]
    },
    {
     "name": "stdout",
     "output_type": "stream",
     "text": [
      "Requirement already satisfied: google-cloud-language in c:\\programdata\\anaconda3\\lib\\site-packages (2.3.1)\n",
      "Requirement already satisfied: google-api-core[grpc]<3.0.0dev,>=1.28.0 in c:\\programdata\\anaconda3\\lib\\site-packages (from google-cloud-language) (2.2.2)\n",
      "Requirement already satisfied: proto-plus>=1.10.0 in c:\\programdata\\anaconda3\\lib\\site-packages (from google-cloud-language) (1.19.8)\n",
      "Requirement already satisfied: requests<3.0.0dev,>=2.18.0 in c:\\programdata\\anaconda3\\lib\\site-packages (from google-api-core[grpc]<3.0.0dev,>=1.28.0->google-cloud-language) (2.25.1)\n",
      "Requirement already satisfied: googleapis-common-protos<2.0dev,>=1.52.0 in c:\\programdata\\anaconda3\\lib\\site-packages (from google-api-core[grpc]<3.0.0dev,>=1.28.0->google-cloud-language) (1.53.0)\n",
      "Requirement already satisfied: protobuf>=3.12.0 in c:\\programdata\\anaconda3\\lib\\site-packages (from google-api-core[grpc]<3.0.0dev,>=1.28.0->google-cloud-language) (3.19.1)\n",
      "Requirement already satisfied: google-auth<3.0dev,>=1.25.0 in c:\\programdata\\anaconda3\\lib\\site-packages (from google-api-core[grpc]<3.0.0dev,>=1.28.0->google-cloud-language) (2.3.3)\n",
      "Requirement already satisfied: setuptools>=40.3.0 in c:\\programdata\\anaconda3\\lib\\site-packages (from google-api-core[grpc]<3.0.0dev,>=1.28.0->google-cloud-language) (52.0.0.post20210125)\n",
      "Requirement already satisfied: grpcio-status<2.0dev,>=1.33.2 in c:\\programdata\\anaconda3\\lib\\site-packages (from google-api-core[grpc]<3.0.0dev,>=1.28.0->google-cloud-language) (1.42.0)\n",
      "Requirement already satisfied: grpcio<2.0dev,>=1.33.2 in c:\\programdata\\anaconda3\\lib\\site-packages (from google-api-core[grpc]<3.0.0dev,>=1.28.0->google-cloud-language) (1.42.0)\n",
      "Requirement already satisfied: pyasn1-modules>=0.2.1 in c:\\programdata\\anaconda3\\lib\\site-packages (from google-auth<3.0dev,>=1.25.0->google-api-core[grpc]<3.0.0dev,>=1.28.0->google-cloud-language) (0.2.8)\n",
      "Requirement already satisfied: cachetools<5.0,>=2.0.0 in c:\\programdata\\anaconda3\\lib\\site-packages (from google-auth<3.0dev,>=1.25.0->google-api-core[grpc]<3.0.0dev,>=1.28.0->google-cloud-language) (4.2.4)\n",
      "Requirement already satisfied: rsa<5,>=3.1.4 in c:\\programdata\\anaconda3\\lib\\site-packages (from google-auth<3.0dev,>=1.25.0->google-api-core[grpc]<3.0.0dev,>=1.28.0->google-cloud-language) (4.7.2)\n",
      "Requirement already satisfied: six>=1.9.0 in c:\\programdata\\anaconda3\\lib\\site-packages (from google-auth<3.0dev,>=1.25.0->google-api-core[grpc]<3.0.0dev,>=1.28.0->google-cloud-language) (1.15.0)\n",
      "Requirement already satisfied: chardet<5,>=3.0.2 in c:\\programdata\\anaconda3\\lib\\site-packages (from requests<3.0.0dev,>=2.18.0->google-api-core[grpc]<3.0.0dev,>=1.28.0->google-cloud-language) (4.0.0)\n",
      "Requirement already satisfied: urllib3<1.27,>=1.21.1 in c:\\programdata\\anaconda3\\lib\\site-packages (from requests<3.0.0dev,>=2.18.0->google-api-core[grpc]<3.0.0dev,>=1.28.0->google-cloud-language) (1.26.4)\n",
      "Requirement already satisfied: certifi>=2017.4.17 in c:\\programdata\\anaconda3\\lib\\site-packages (from requests<3.0.0dev,>=2.18.0->google-api-core[grpc]<3.0.0dev,>=1.28.0->google-cloud-language) (2020.12.5)\n",
      "Requirement already satisfied: idna<3,>=2.5 in c:\\programdata\\anaconda3\\lib\\site-packages (from requests<3.0.0dev,>=2.18.0->google-api-core[grpc]<3.0.0dev,>=1.28.0->google-cloud-language) (2.10)\n",
      "Requirement already satisfied: pyasn1<0.5.0,>=0.4.6 in c:\\programdata\\anaconda3\\lib\\site-packages (from pyasn1-modules>=0.2.1->google-auth<3.0dev,>=1.25.0->google-api-core[grpc]<3.0.0dev,>=1.28.0->google-cloud-language) (0.4.8)\n",
      "Text: Hello, world!\n",
      "Sentiment: 0.6000000238418579, 0.6000000238418579\n"
     ]
    }
   ],
   "source": [
    "# Imports the Google Cloud client library\n",
    "!pip install --upgrade google-cloud-language\n",
    "\n",
    "# Instantiates a client\n",
    "client = language_v1.LanguageServiceClient.from_service_account_json(r\"C:\\DevRoot\\dataset\\StackHelper\\flowing-bazaar-334005-93614458e39e.json\")\n",
    "\n",
    "# The text to analyze\n",
    "text = u\"Hello, world!\"\n",
    "document = language_v1.Document(\n",
    "    content=text, type_=language_v1.Document.Type.PLAIN_TEXT\n",
    ")\n",
    "\n",
    "# Detects the sentiment of the text\n",
    "sentiment = client.analyze_sentiment(\n",
    "    request={\"document\": document}\n",
    ").document_sentiment\n",
    "\n",
    "print(\"Text: {}\".format(text))\n",
    "print(\"Sentiment: {}, {}\".format(sentiment.score, sentiment.magnitude))"
   ]
  },
  {
   "cell_type": "code",
   "execution_count": 24,
   "id": "3e567a95",
   "metadata": {},
   "outputs": [],
   "source": [
    "\"\"\"Demonstrates how to make a simple call to the Natural Language API.\"\"\"\n",
    "\n",
    "import argparse\n",
    "\n",
    "from google.cloud import language_v1\n",
    "\n",
    "def print_result(annotations):\n",
    "    score = annotations.document_sentiment.score\n",
    "    magnitude = annotations.document_sentiment.magnitude\n",
    "\n",
    "    for index, sentence in enumerate(annotations.sentences):\n",
    "        sentence_sentiment = sentence.sentiment.score\n",
    "        print(\n",
    "            \"Sentence {} has a sentiment score of {}\".format(index, sentence_sentiment)\n",
    "        )\n",
    "\n",
    "    print(\n",
    "        \"Overall Sentiment: score of {} with magnitude of {}\".format(score, magnitude)\n",
    "    )\n",
    "    \n",
    "    return 0\n",
    "\n",
    "def analyze(content):\n",
    "    \"\"\"Run a sentiment analysis request on text within a passed filename.\"\"\"\n",
    "    client = language_v1.LanguageServiceClient.from_service_account_json(r\"C:\\DevRoot\\dataset\\StackHelper\\flowing-bazaar-334005-93614458e39e.json\")\n",
    "\n",
    "#     with open(movie_review_filename, \"r\",  encoding='UTF8') as review_file:\n",
    "#         # Instantiates a plain text document.\n",
    "#         content = review_file.read()\n",
    "\n",
    "    \n",
    "\n",
    "    document = language_v1.Document(\n",
    "        content=content, type_=language_v1.Document.Type.PLAIN_TEXT\n",
    "    )\n",
    "    \n",
    "    annotations = client.analyze_sentiment(request={\"document\": document})\n",
    "\n",
    "    # Print the results\n",
    "    score = annotations.document_sentiment.score\n",
    "    return score\n",
    "    \n",
    "    \n",
    "# if __name__ == \"__main__\":\n",
    "#     parser = argparse.ArgumentParser(\n",
    "#         description=__doc__, formatter_class=argparse.RawDescriptionHelpFormatter\n",
    "#     )\n",
    "#     parser.add_argument(\n",
    "#         \"movie_review_filename\",\n",
    "#         help=\"The filename of the movie review you'd like to analyze.\",\n",
    "#     )\n",
    "#     args = parser.parse_args()\n",
    "\n",
    "#     analyze(args.movie_review_filename)"
   ]
  },
  {
   "cell_type": "code",
   "execution_count": null,
   "id": "5bd627b8",
   "metadata": {},
   "outputs": [],
   "source": []
  },
  {
   "cell_type": "code",
   "execution_count": 28,
   "id": "627344b4",
   "metadata": {},
   "outputs": [],
   "source": [
    "import pandas as pd\n",
    "\n",
    "import os\n",
    "news_list = [file for file in os.listdir('.') if 'csv' in file]\n",
    "\n",
    "def sentiment_scoring(news):\n",
    "    contents = pd.read_csv(news)\n",
    "    contents_refine = contents.loc[:,'refine_content']\n",
    "    contents = pd.DataFrame(contents)\n",
    "    contents_list = []\n",
    "\n",
    "    tot_sum = 0\n",
    "    for content in tqdm(contents.refine_content, desc = news):\n",
    "        contents_list.append(analyze(content))\n",
    "        tot_sum += 1\n",
    "        \n",
    "    contents['Senti_Score'] = contents_list\n",
    "    \n",
    "    news_path = os.path.join('.', news)\n",
    "    contents.to_csv(news_path, encoding='utf-8')   "
   ]
  },
  {
   "cell_type": "code",
   "execution_count": 29,
   "id": "4608b837",
   "metadata": {},
   "outputs": [
    {
     "data": {
      "text/plain": [
       "['메리츠증권_기사_크롤링_2020.01.01_2021.12.06.csv',\n",
       " '메리츠화재_기사_크롤링_2020.01.01_2021.12.06.csv',\n",
       " '미래에셋증권_기사_크롤링_2020.01.01_2021.12.06.csv',\n",
       " '삼성SDI_기사_크롤링_2020.01.01_2021.12.06.csv',\n",
       " '삼성물산_기사_크롤링_2020.01.01_2021.12.06.csv',\n",
       " '삼성바이오로직스_기사_크롤링_2020.01.01_2021.12.06.csv',\n",
       " '삼성생명_기사_크롤링_2020.01.01_2021.12.06.csv',\n",
       " '삼성에스디에스_기사_크롤링_2020.01.01_2021.12.06.csv',\n",
       " '삼성엔지니어링_기사_크롤링_2020.01.01_2021.12.06.csv',\n",
       " '삼성전기_기사_크롤링_2020.01.01_2021.12.06.csv',\n",
       " '삼성전자_기사_크롤링_2020.01.01_2021.12.06.csv',\n",
       " '삼성중공업_기사_크롤링_2020.01.01_2021.12.06.csv',\n",
       " '삼성카드_기사_크롤링_2020.01.01_2021.12.06.csv',\n",
       " '삼성화재_기사_크롤링_2020.01.01_2021.12.06.csv']"
      ]
     },
     "execution_count": 29,
     "metadata": {},
     "output_type": "execute_result"
    }
   ],
   "source": [
    "import os\n",
    "news_list = [file for file in os.listdir('.') if 'csv' in file]\n",
    "news_list = news_list[37:51]\n",
    "news_list"
   ]
  },
  {
   "cell_type": "code",
   "execution_count": 30,
   "id": "2a4615e1",
   "metadata": {},
   "outputs": [
    {
     "name": "stderr",
     "output_type": "stream",
     "text": [
      "메리츠증권_기사_크롤링_2020.01.01_2021.12.06.csv: 100%|██████████████████████████████| 393/393 [05:16<00:00,  1.24it/s]\n",
      "메리츠화재_기사_크롤링_2020.01.01_2021.12.06.csv: 100%|██████████████████████████████| 107/107 [01:15<00:00,  1.42it/s]\n",
      "미래에셋증권_기사_크롤링_2020.01.01_2021.12.06.csv: 100%|████████████████████████████| 352/352 [04:22<00:00,  1.34it/s]\n",
      "삼성SDI_기사_크롤링_2020.01.01_2021.12.06.csv: 100%|█████████████████████████████████| 895/895 [12:57<00:00,  1.15it/s]\n",
      "삼성물산_기사_크롤링_2020.01.01_2021.12.06.csv: 100%|██████████████████████████████| 1954/1954 [29:16<00:00,  1.11it/s]\n",
      "삼성바이오로직스_기사_크롤링_2020.01.01_2021.12.06.csv: 100%|██████████████████████| 1375/1375 [18:00<00:00,  1.27it/s]\n",
      "삼성생명_기사_크롤링_2020.01.01_2021.12.06.csv: 100%|████████████████████████████████| 968/968 [12:33<00:00,  1.28it/s]\n",
      "삼성에스디에스_기사_크롤링_2020.01.01_2021.12.06.csv: 100%|████████████████████████████| 82/82 [01:09<00:00,  1.18it/s]\n",
      "삼성엔지니어링_기사_크롤링_2020.01.01_2021.12.06.csv: 100%|██████████████████████████| 156/156 [02:13<00:00,  1.17it/s]\n",
      "삼성전기_기사_크롤링_2020.01.01_2021.12.06.csv: 100%|████████████████████████████████| 363/363 [04:30<00:00,  1.34it/s]\n",
      "삼성전자_기사_크롤링_2020.01.01_2021.12.06.csv: 100%|██████████████████████████| 10963/10963 [2:29:05<00:00,  1.23it/s]\n",
      "삼성중공업_기사_크롤링_2020.01.01_2021.12.06.csv: 100%|██████████████████████████████| 462/462 [06:38<00:00,  1.16it/s]\n",
      "삼성카드_기사_크롤링_2020.01.01_2021.12.06.csv: 100%|████████████████████████████████| 354/354 [05:09<00:00,  1.14it/s]\n",
      "삼성화재_기사_크롤링_2020.01.01_2021.12.06.csv: 100%|████████████████████████████████| 556/556 [07:03<00:00,  1.31it/s]\n"
     ]
    }
   ],
   "source": [
    "for news in news_list:\n",
    "    sentiment_scoring(news)"
   ]
  },
  {
   "cell_type": "code",
   "execution_count": null,
   "id": "e853c83f",
   "metadata": {},
   "outputs": [],
   "source": [
    "n = os.path.join('.','네이버_기사_크롤링_2020.01.01_2021.12.06.csv')"
   ]
  }
 ],
 "metadata": {
  "kernelspec": {
   "display_name": "Python 3",
   "language": "python",
   "name": "python3"
  },
  "language_info": {
   "codemirror_mode": {
    "name": "ipython",
    "version": 3
   },
   "file_extension": ".py",
   "mimetype": "text/x-python",
   "name": "python",
   "nbconvert_exporter": "python",
   "pygments_lexer": "ipython3",
   "version": "3.8.8"
  }
 },
 "nbformat": 4,
 "nbformat_minor": 5
}
