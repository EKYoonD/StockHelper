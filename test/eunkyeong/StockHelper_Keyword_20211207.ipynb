{
 "cells": [
  {
   "cell_type": "code",
   "execution_count": 3,
   "id": "bcd2c67c",
   "metadata": {},
   "outputs": [],
   "source": [
    "import pandas as pd\n",
    "import numpy as np\n",
    "import os\n",
    "import konlpy\n",
    "from collections import Counter"
   ]
  },
  {
   "cell_type": "code",
   "execution_count": null,
   "id": "778e3ef4",
   "metadata": {},
   "outputs": [],
   "source": [
    "# patent_20211203_1_200, patent_20211203_1001_1111\n",
    "file_name = 'patent_{date}_{first_page}_{last_page}.csv' \n",
    "start_page = [1, 201, 401, 601, 801, 1001]\n",
    "stop_page = [200, 400, 600, 800, 1000, 1111]\n",
    "today = \"20211208\"\n",
    "patent_str = \"\"\n",
    "\n",
    "for i, j in zip(start_page, stop_page) :\n",
    "    file_name_real = file_name.format(date=today, first_page=i, last_page=j)\n",
    "    file_df = pd.read_csv(os.path.join(r\"C:\\StockHelper_Project\\StockHelper\\dataset\", file_name_real))\n",
    "    for title in file_df['제목']:\n",
    "        patent_str += title\n",
    "    for content in file_df['내용']:\n",
    "        patent_str += content"
   ]
  },
  {
   "cell_type": "code",
   "execution_count": 2,
   "id": "a0986680",
   "metadata": {},
   "outputs": [
    {
     "ename": "NameError",
     "evalue": "name 'konlpy' is not defined",
     "output_type": "error",
     "traceback": [
      "\u001b[1;31m---------------------------------------------------------------------------\u001b[0m",
      "\u001b[1;31mNameError\u001b[0m                                 Traceback (most recent call last)",
      "\u001b[1;32m<ipython-input-2-2c7e32ab2527>\u001b[0m in \u001b[0;36m<module>\u001b[1;34m\u001b[0m\n\u001b[1;32m----> 1\u001b[1;33m \u001b[0mtwitter\u001b[0m \u001b[1;33m=\u001b[0m \u001b[0mkonlpy\u001b[0m\u001b[1;33m.\u001b[0m\u001b[0mtag\u001b[0m\u001b[1;33m.\u001b[0m\u001b[0mTwitter\u001b[0m\u001b[1;33m(\u001b[0m\u001b[1;33m)\u001b[0m\u001b[1;33m\u001b[0m\u001b[1;33m\u001b[0m\u001b[0m\n\u001b[0m\u001b[0;32m      2\u001b[0m \u001b[0mnlp\u001b[0m \u001b[1;33m=\u001b[0m \u001b[0mtwitter\u001b[0m   \u001b[1;31m# Customized Konlpy\u001b[0m\u001b[1;33m\u001b[0m\u001b[1;33m\u001b[0m\u001b[0m\n\u001b[0;32m      3\u001b[0m \u001b[1;33m\u001b[0m\u001b[0m\n\u001b[0;32m      4\u001b[0m \u001b[0mmorphs\u001b[0m \u001b[1;33m=\u001b[0m \u001b[0mnlp\u001b[0m\u001b[1;33m.\u001b[0m\u001b[0mpos\u001b[0m\u001b[1;33m(\u001b[0m\u001b[0mpatent_str\u001b[0m\u001b[1;33m,\u001b[0m \u001b[0mnorm\u001b[0m\u001b[1;33m=\u001b[0m\u001b[1;32mTrue\u001b[0m\u001b[1;33m,\u001b[0m \u001b[0mstem\u001b[0m\u001b[1;33m=\u001b[0m\u001b[1;32mTrue\u001b[0m\u001b[1;33m)\u001b[0m\u001b[1;33m\u001b[0m\u001b[1;33m\u001b[0m\u001b[0m\n\u001b[0;32m      5\u001b[0m \u001b[1;33m\u001b[0m\u001b[0m\n",
      "\u001b[1;31mNameError\u001b[0m: name 'konlpy' is not defined"
     ]
    }
   ],
   "source": [
    "twitter = konlpy.tag.Twitter()\n",
    "nlp = twitter   # Customized Konlpy\n",
    "\n",
    "morphs = nlp.pos(patent_str, norm=True, stem=True)\n",
    "\n",
    "name_pos = {\n",
    "    \"Noun\" : \"명사\"\n",
    "}\n",
    "\n",
    "for pos in name_pos:\n",
    "    \n",
    "    # 빈도수\n",
    "    patent_words = []\n",
    "    for mal in morphs:   \n",
    "        if pos == mal[1] and len(mal[0]) > 1 and mal[0] : # not in nocount_word:  \n",
    "            patent_words.append(mal[0]) \n",
    "    mallist_patent = Counter(patent_words) \n",
    "    print(mallist_patent.most_common(20))\n",
    "    print()"
   ]
  }
 ],
 "metadata": {
  "kernelspec": {
   "display_name": "Python 3",
   "language": "python",
   "name": "python3"
  },
  "language_info": {
   "codemirror_mode": {
    "name": "ipython",
    "version": 3
   },
   "file_extension": ".py",
   "mimetype": "text/x-python",
   "name": "python",
   "nbconvert_exporter": "python",
   "pygments_lexer": "ipython3",
   "version": "3.8.8"
  }
 },
 "nbformat": 4,
 "nbformat_minor": 5
}
