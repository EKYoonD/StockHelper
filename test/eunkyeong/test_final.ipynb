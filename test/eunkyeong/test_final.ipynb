{
 "cells": [
  {
   "cell_type": "code",
   "execution_count": 61,
   "id": "9a09ff2e",
   "metadata": {
    "colab": {
     "base_uri": "https://localhost:8080/",
     "height": 615
    },
    "executionInfo": {
     "elapsed": 2198,
     "status": "ok",
     "timestamp": 1639456086931,
     "user": {
      "displayName": "윤은경",
      "photoUrl": "https://lh3.googleusercontent.com/a-/AOh14Gju8h6U-WJVPmrsxirMjcyold1bp570O6BML4Po_A=s64",
      "userId": "17207846883881047074"
     },
     "user_tz": -540
    },
    "id": "9a09ff2e",
    "outputId": "45afd4e2-0443-49ae-b316-35354cf9419d"
   },
   "outputs": [
    {
     "data": {
      "text/html": [
       "<div>\n",
       "<style scoped>\n",
       "    .dataframe tbody tr th:only-of-type {\n",
       "        vertical-align: middle;\n",
       "    }\n",
       "\n",
       "    .dataframe tbody tr th {\n",
       "        vertical-align: top;\n",
       "    }\n",
       "\n",
       "    .dataframe thead th {\n",
       "        text-align: right;\n",
       "    }\n",
       "</style>\n",
       "<table border=\"1\" class=\"dataframe\">\n",
       "  <thead>\n",
       "    <tr style=\"text-align: right;\">\n",
       "      <th></th>\n",
       "      <th>회사명</th>\n",
       "      <th>종목코드</th>\n",
       "      <th>업종</th>\n",
       "      <th>주요제품</th>\n",
       "      <th>상장일</th>\n",
       "      <th>결산월</th>\n",
       "      <th>대표자명</th>\n",
       "      <th>홈페이지</th>\n",
       "      <th>지역</th>\n",
       "    </tr>\n",
       "  </thead>\n",
       "  <tbody>\n",
       "    <tr>\n",
       "      <th>1847</th>\n",
       "      <td>예스피치</td>\n",
       "      <td>403360</td>\n",
       "      <td>소프트웨어 개발 및 공급업</td>\n",
       "      <td>AI 가상비서 서비스, 화자인증 서비스</td>\n",
       "      <td>2021-12-14</td>\n",
       "      <td>12월</td>\n",
       "      <td>김재중</td>\n",
       "      <td>http://www.yespeech.com</td>\n",
       "      <td>서울특별시</td>\n",
       "    </tr>\n",
       "    <tr>\n",
       "      <th>604</th>\n",
       "      <td>제이엠멀티</td>\n",
       "      <td>254160</td>\n",
       "      <td>제재 및 목재 가공업</td>\n",
       "      <td>목재 데크로드 시스템</td>\n",
       "      <td>2021-12-13</td>\n",
       "      <td>12월</td>\n",
       "      <td>박훈웅</td>\n",
       "      <td>http://www.jmmulti.com</td>\n",
       "      <td>충청남도</td>\n",
       "    </tr>\n",
       "    <tr>\n",
       "      <th>2106</th>\n",
       "      <td>툴젠</td>\n",
       "      <td>199800</td>\n",
       "      <td>자연과학 및 공학 연구개발업</td>\n",
       "      <td>유전자교정 플랫폼 관련 제품</td>\n",
       "      <td>2021-12-10</td>\n",
       "      <td>12월</td>\n",
       "      <td>김영호, 이병화</td>\n",
       "      <td>http://toolgen.com</td>\n",
       "      <td>서울특별시</td>\n",
       "    </tr>\n",
       "    <tr>\n",
       "      <th>676</th>\n",
       "      <td>신한서부티엔디리츠</td>\n",
       "      <td>404990</td>\n",
       "      <td>부동산 임대 및 공급업</td>\n",
       "      <td>부동산투자</td>\n",
       "      <td>2021-12-10</td>\n",
       "      <td>12월</td>\n",
       "      <td>승만호</td>\n",
       "      <td>http://shsbreit.com</td>\n",
       "      <td>서울특별시</td>\n",
       "    </tr>\n",
       "    <tr>\n",
       "      <th>963</th>\n",
       "      <td>미래에셋글로벌리츠</td>\n",
       "      <td>396690</td>\n",
       "      <td>부동산 임대 및 공급업</td>\n",
       "      <td>부동산 임대업</td>\n",
       "      <td>2021-12-03</td>\n",
       "      <td>03월</td>\n",
       "      <td>신현준</td>\n",
       "      <td>NaN</td>\n",
       "      <td>서울특별시</td>\n",
       "    </tr>\n",
       "    <tr>\n",
       "      <th>...</th>\n",
       "      <td>...</td>\n",
       "      <td>...</td>\n",
       "      <td>...</td>\n",
       "      <td>...</td>\n",
       "      <td>...</td>\n",
       "      <td>...</td>\n",
       "      <td>...</td>\n",
       "      <td>...</td>\n",
       "      <td>...</td>\n",
       "    </tr>\n",
       "    <tr>\n",
       "      <th>304</th>\n",
       "      <td>CJ대한통운</td>\n",
       "      <td>120</td>\n",
       "      <td>도로 화물 운송업</td>\n",
       "      <td>Contract Logistics, 포워딩, 항만하역, 해운, 택배국제특송, SCM...</td>\n",
       "      <td>1956-07-02</td>\n",
       "      <td>12월</td>\n",
       "      <td>강신호</td>\n",
       "      <td>http://www.cjlogistics.com</td>\n",
       "      <td>서울특별시</td>\n",
       "    </tr>\n",
       "    <tr>\n",
       "      <th>1587</th>\n",
       "      <td>메리츠화재</td>\n",
       "      <td>60</td>\n",
       "      <td>보험업</td>\n",
       "      <td>손해보험(화재,해상,운송보험)</td>\n",
       "      <td>1956-07-02</td>\n",
       "      <td>12월</td>\n",
       "      <td>김용범</td>\n",
       "      <td>http://www.meritzfire.com</td>\n",
       "      <td>서울특별시</td>\n",
       "    </tr>\n",
       "    <tr>\n",
       "      <th>1020</th>\n",
       "      <td>한진중공업홀딩스</td>\n",
       "      <td>3480</td>\n",
       "      <td>연료용 가스 제조 및 배관공급업</td>\n",
       "      <td>지주회사</td>\n",
       "      <td>1956-03-03</td>\n",
       "      <td>12월</td>\n",
       "      <td>조남호, 조원국</td>\n",
       "      <td>http://www.hhic-holdings.com</td>\n",
       "      <td>경기도</td>\n",
       "    </tr>\n",
       "    <tr>\n",
       "      <th>2212</th>\n",
       "      <td>유수홀딩스</td>\n",
       "      <td>700</td>\n",
       "      <td>회사 본부 및 경영 컨설팅 서비스업</td>\n",
       "      <td>지주사업</td>\n",
       "      <td>1956-03-03</td>\n",
       "      <td>12월</td>\n",
       "      <td>송영규</td>\n",
       "      <td>http://www.eusu-holdings.com</td>\n",
       "      <td>서울특별시</td>\n",
       "    </tr>\n",
       "    <tr>\n",
       "      <th>1567</th>\n",
       "      <td>경방</td>\n",
       "      <td>50</td>\n",
       "      <td>종합 소매업</td>\n",
       "      <td>섬유류(면사,면혼방사,면직물,면혼방직물,화섬사,화섬직물) 제조,도매,수출입</td>\n",
       "      <td>1956-03-03</td>\n",
       "      <td>12월</td>\n",
       "      <td>김준, 김담</td>\n",
       "      <td>http://www.kyungbang.co.kr</td>\n",
       "      <td>서울특별시</td>\n",
       "    </tr>\n",
       "  </tbody>\n",
       "</table>\n",
       "<p>2484 rows × 9 columns</p>\n",
       "</div>"
      ],
      "text/plain": [
       "            회사명    종목코드                   업종  \\\n",
       "1847       예스피치  403360       소프트웨어 개발 및 공급업   \n",
       "604       제이엠멀티  254160          제재 및 목재 가공업   \n",
       "2106         툴젠  199800      자연과학 및 공학 연구개발업   \n",
       "676   신한서부티엔디리츠  404990         부동산 임대 및 공급업   \n",
       "963   미래에셋글로벌리츠  396690         부동산 임대 및 공급업   \n",
       "...         ...     ...                  ...   \n",
       "304      CJ대한통운     120            도로 화물 운송업   \n",
       "1587      메리츠화재      60                  보험업   \n",
       "1020   한진중공업홀딩스    3480    연료용 가스 제조 및 배관공급업   \n",
       "2212      유수홀딩스     700  회사 본부 및 경영 컨설팅 서비스업   \n",
       "1567         경방      50               종합 소매업   \n",
       "\n",
       "                                                   주요제품         상장일  결산월  \\\n",
       "1847                              AI 가상비서 서비스, 화자인증 서비스  2021-12-14  12월   \n",
       "604                                         목재 데크로드 시스템  2021-12-13  12월   \n",
       "2106                                    유전자교정 플랫폼 관련 제품  2021-12-10  12월   \n",
       "676                                               부동산투자  2021-12-10  12월   \n",
       "963                                             부동산 임대업  2021-12-03  03월   \n",
       "...                                                 ...         ...  ...   \n",
       "304   Contract Logistics, 포워딩, 항만하역, 해운, 택배국제특송, SCM...  1956-07-02  12월   \n",
       "1587                                   손해보험(화재,해상,운송보험)  1956-07-02  12월   \n",
       "1020                                               지주회사  1956-03-03  12월   \n",
       "2212                                               지주사업  1956-03-03  12월   \n",
       "1567          섬유류(면사,면혼방사,면직물,면혼방직물,화섬사,화섬직물) 제조,도매,수출입  1956-03-03  12월   \n",
       "\n",
       "          대표자명                          홈페이지     지역  \n",
       "1847       김재중       http://www.yespeech.com  서울특별시  \n",
       "604        박훈웅        http://www.jmmulti.com   충청남도  \n",
       "2106  김영호, 이병화            http://toolgen.com  서울특별시  \n",
       "676        승만호           http://shsbreit.com  서울특별시  \n",
       "963        신현준                           NaN  서울특별시  \n",
       "...        ...                           ...    ...  \n",
       "304        강신호    http://www.cjlogistics.com  서울특별시  \n",
       "1587       김용범     http://www.meritzfire.com  서울특별시  \n",
       "1020  조남호, 조원국  http://www.hhic-holdings.com    경기도  \n",
       "2212       송영규  http://www.eusu-holdings.com  서울특별시  \n",
       "1567    김준, 김담    http://www.kyungbang.co.kr  서울특별시  \n",
       "\n",
       "[2484 rows x 9 columns]"
      ]
     },
     "execution_count": 61,
     "metadata": {},
     "output_type": "execute_result"
    }
   ],
   "source": [
    "import pandas as pd\n",
    "df = pd.read_html('http://kind.krx.co.kr/corpgeneral/corpList.do?method=download', header=0)[0]\n",
    "df = df.sort_values(['상장일'], ascending=[False])\n",
    "df"
   ]
  },
  {
   "cell_type": "code",
   "execution_count": 62,
   "id": "015AhRWBjg8q",
   "metadata": {
    "executionInfo": {
     "elapsed": 636,
     "status": "ok",
     "timestamp": 1639456091041,
     "user": {
      "displayName": "윤은경",
      "photoUrl": "https://lh3.googleusercontent.com/a-/AOh14Gju8h6U-WJVPmrsxirMjcyold1bp570O6BML4Po_A=s64",
      "userId": "17207846883881047074"
     },
     "user_tz": -540
    },
    "id": "015AhRWBjg8q"
   },
   "outputs": [],
   "source": [
    "# df.to_csv('stockList_CSV.csv')"
   ]
  },
  {
   "cell_type": "code",
   "execution_count": 63,
   "id": "5R_XcHbr-QD0",
   "metadata": {
    "colab": {
     "base_uri": "https://localhost:8080/",
     "height": 81
    },
    "executionInfo": {
     "elapsed": 889,
     "status": "ok",
     "timestamp": 1639456092264,
     "user": {
      "displayName": "윤은경",
      "photoUrl": "https://lh3.googleusercontent.com/a-/AOh14Gju8h6U-WJVPmrsxirMjcyold1bp570O6BML4Po_A=s64",
      "userId": "17207846883881047074"
     },
     "user_tz": -540
    },
    "id": "5R_XcHbr-QD0",
    "outputId": "620812af-5d98-4900-f13b-156395aeb8bb"
   },
   "outputs": [
    {
     "data": {
      "text/html": [
       "<div>\n",
       "<style scoped>\n",
       "    .dataframe tbody tr th:only-of-type {\n",
       "        vertical-align: middle;\n",
       "    }\n",
       "\n",
       "    .dataframe tbody tr th {\n",
       "        vertical-align: top;\n",
       "    }\n",
       "\n",
       "    .dataframe thead th {\n",
       "        text-align: right;\n",
       "    }\n",
       "</style>\n",
       "<table border=\"1\" class=\"dataframe\">\n",
       "  <thead>\n",
       "    <tr style=\"text-align: right;\">\n",
       "      <th></th>\n",
       "      <th>회사명</th>\n",
       "      <th>종목코드</th>\n",
       "      <th>업종</th>\n",
       "      <th>주요제품</th>\n",
       "      <th>상장일</th>\n",
       "      <th>결산월</th>\n",
       "      <th>대표자명</th>\n",
       "      <th>홈페이지</th>\n",
       "      <th>지역</th>\n",
       "    </tr>\n",
       "  </thead>\n",
       "  <tbody>\n",
       "    <tr>\n",
       "      <th>1567</th>\n",
       "      <td>경방</td>\n",
       "      <td>50</td>\n",
       "      <td>종합 소매업</td>\n",
       "      <td>섬유류(면사,면혼방사,면직물,면혼방직물,화섬사,화섬직물) 제조,도매,수출입</td>\n",
       "      <td>1956-03-03</td>\n",
       "      <td>12월</td>\n",
       "      <td>김준, 김담</td>\n",
       "      <td>http://www.kyungbang.co.kr</td>\n",
       "      <td>서울특별시</td>\n",
       "    </tr>\n",
       "  </tbody>\n",
       "</table>\n",
       "</div>"
      ],
      "text/plain": [
       "     회사명  종목코드      업종                                       주요제품         상장일  \\\n",
       "1567  경방    50  종합 소매업  섬유류(면사,면혼방사,면직물,면혼방직물,화섬사,화섬직물) 제조,도매,수출입  1956-03-03   \n",
       "\n",
       "      결산월    대표자명                        홈페이지     지역  \n",
       "1567  12월  김준, 김담  http://www.kyungbang.co.kr  서울특별시  "
      ]
     },
     "execution_count": 63,
     "metadata": {},
     "output_type": "execute_result"
    }
   ],
   "source": [
    "df[df['회사명']=='경방']"
   ]
  },
  {
   "cell_type": "code",
   "execution_count": 64,
   "id": "OFHx8GUKhtqn",
   "metadata": {
    "executionInfo": {
     "elapsed": 11,
     "status": "ok",
     "timestamp": 1639456094385,
     "user": {
      "displayName": "윤은경",
      "photoUrl": "https://lh3.googleusercontent.com/a-/AOh14Gju8h6U-WJVPmrsxirMjcyold1bp570O6BML4Po_A=s64",
      "userId": "17207846883881047074"
     },
     "user_tz": -540
    },
    "id": "OFHx8GUKhtqn"
   },
   "outputs": [],
   "source": [
    "df['Work'] = df['업종'] + df['주요제품']\n",
    "df.to_csv('stockList_Merge_Work.csv')"
   ]
  },
  {
   "cell_type": "code",
   "execution_count": 65,
   "id": "0ju2HVHbxMjf",
   "metadata": {
    "colab": {
     "base_uri": "https://localhost:8080/"
    },
    "executionInfo": {
     "elapsed": 9,
     "status": "ok",
     "timestamp": 1639456094385,
     "user": {
      "displayName": "윤은경",
      "photoUrl": "https://lh3.googleusercontent.com/a-/AOh14Gju8h6U-WJVPmrsxirMjcyold1bp570O6BML4Po_A=s64",
      "userId": "17207846883881047074"
     },
     "user_tz": -540
    },
    "id": "0ju2HVHbxMjf",
    "outputId": "a8887840-201d-4cfa-acc2-73985430849e"
   },
   "outputs": [
    {
     "data": {
      "text/plain": [
       "1847                  소프트웨어 개발 및 공급업AI 가상비서 서비스, 화자인증 서비스\n",
       "604                                제재 및 목재 가공업목재 데크로드 시스템\n",
       "2106                       자연과학 및 공학 연구개발업유전자교정 플랫폼 관련 제품\n",
       "676                                     부동산 임대 및 공급업부동산투자\n",
       "963                                   부동산 임대 및 공급업부동산 임대업\n",
       "                              ...                        \n",
       "304     도로 화물 운송업Contract Logistics, 포워딩, 항만하역, 해운, 택배...\n",
       "1587                                  보험업손해보험(화재,해상,운송보험)\n",
       "1020                                연료용 가스 제조 및 배관공급업지주회사\n",
       "2212                              회사 본부 및 경영 컨설팅 서비스업지주사업\n",
       "1567      종합 소매업섬유류(면사,면혼방사,면직물,면혼방직물,화섬사,화섬직물) 제조,도매,수출입\n",
       "Name: Work, Length: 2484, dtype: object"
      ]
     },
     "execution_count": 65,
     "metadata": {},
     "output_type": "execute_result"
    }
   ],
   "source": [
    "df['Work']"
   ]
  },
  {
   "cell_type": "code",
   "execution_count": 58,
   "id": "-D-R1vJPiShA",
   "metadata": {
    "colab": {
     "base_uri": "https://localhost:8080/",
     "height": 1000
    },
    "executionInfo": {
     "elapsed": 281,
     "status": "ok",
     "timestamp": 1639456124534,
     "user": {
      "displayName": "윤은경",
      "photoUrl": "https://lh3.googleusercontent.com/a-/AOh14Gju8h6U-WJVPmrsxirMjcyold1bp570O6BML4Po_A=s64",
      "userId": "17207846883881047074"
     },
     "user_tz": -540
    },
    "id": "-D-R1vJPiShA",
    "outputId": "6b4de359-398c-4dfd-dd86-927faf442da7"
   },
   "outputs": [
    {
     "ename": "KeyError",
     "evalue": "\"['Unnamed: 0'] not found in axis\"",
     "output_type": "error",
     "traceback": [
      "\u001b[1;31m---------------------------------------------------------------------------\u001b[0m",
      "\u001b[1;31mKeyError\u001b[0m                                  Traceback (most recent call last)",
      "\u001b[1;32m<ipython-input-58-dccd4105aea6>\u001b[0m in \u001b[0;36m<module>\u001b[1;34m\u001b[0m\n\u001b[0;32m      1\u001b[0m \u001b[0mwords\u001b[0m \u001b[1;33m=\u001b[0m \u001b[0mpd\u001b[0m\u001b[1;33m.\u001b[0m\u001b[0mread_csv\u001b[0m\u001b[1;33m(\u001b[0m\u001b[1;34mr'C:\\StockHelper_Project\\StockHelper\\dataset\\정제데이터\\특허\\count_patent_desc.csv'\u001b[0m\u001b[1;33m)\u001b[0m\u001b[1;33m\u001b[0m\u001b[1;33m\u001b[0m\u001b[0m\n\u001b[1;32m----> 2\u001b[1;33m \u001b[0mwords\u001b[0m\u001b[1;33m.\u001b[0m\u001b[0mdrop\u001b[0m\u001b[1;33m(\u001b[0m\u001b[1;34m'Unnamed: 0'\u001b[0m\u001b[1;33m,\u001b[0m \u001b[0maxis\u001b[0m\u001b[1;33m=\u001b[0m\u001b[1;36m1\u001b[0m\u001b[1;33m,\u001b[0m \u001b[0minplace\u001b[0m\u001b[1;33m=\u001b[0m\u001b[1;32mTrue\u001b[0m\u001b[1;33m)\u001b[0m\u001b[1;33m\u001b[0m\u001b[1;33m\u001b[0m\u001b[0m\n\u001b[0m\u001b[0;32m      3\u001b[0m \u001b[0mwords\u001b[0m\u001b[1;33m.\u001b[0m\u001b[0mset_index\u001b[0m\u001b[1;33m(\u001b[0m\u001b[1;34m'키워드'\u001b[0m\u001b[1;33m,\u001b[0m \u001b[0minplace\u001b[0m\u001b[1;33m=\u001b[0m\u001b[1;32mTrue\u001b[0m\u001b[1;33m)\u001b[0m\u001b[1;33m\u001b[0m\u001b[1;33m\u001b[0m\u001b[0m\n\u001b[0;32m      4\u001b[0m \u001b[0mwords\u001b[0m\u001b[1;33m.\u001b[0m\u001b[0msort_values\u001b[0m\u001b[1;33m(\u001b[0m\u001b[1;34m'빈도수'\u001b[0m\u001b[1;33m,\u001b[0m \u001b[0minplace\u001b[0m\u001b[1;33m=\u001b[0m\u001b[1;32mTrue\u001b[0m\u001b[1;33m,\u001b[0m \u001b[0mascending\u001b[0m\u001b[1;33m=\u001b[0m\u001b[1;32mFalse\u001b[0m\u001b[1;33m)\u001b[0m\u001b[1;33m\u001b[0m\u001b[1;33m\u001b[0m\u001b[0m\n\u001b[0;32m      5\u001b[0m \u001b[0mwords\u001b[0m\u001b[1;33m\u001b[0m\u001b[1;33m\u001b[0m\u001b[0m\n",
      "\u001b[1;32mC:\\ProgramData\\Anaconda3\\lib\\site-packages\\pandas\\core\\frame.py\u001b[0m in \u001b[0;36mdrop\u001b[1;34m(self, labels, axis, index, columns, level, inplace, errors)\u001b[0m\n\u001b[0;32m   4306\u001b[0m                 \u001b[0mweight\u001b[0m  \u001b[1;36m1.0\u001b[0m     \u001b[1;36m0.8\u001b[0m\u001b[1;33m\u001b[0m\u001b[1;33m\u001b[0m\u001b[0m\n\u001b[0;32m   4307\u001b[0m         \"\"\"\n\u001b[1;32m-> 4308\u001b[1;33m         return super().drop(\n\u001b[0m\u001b[0;32m   4309\u001b[0m             \u001b[0mlabels\u001b[0m\u001b[1;33m=\u001b[0m\u001b[0mlabels\u001b[0m\u001b[1;33m,\u001b[0m\u001b[1;33m\u001b[0m\u001b[1;33m\u001b[0m\u001b[0m\n\u001b[0;32m   4310\u001b[0m             \u001b[0maxis\u001b[0m\u001b[1;33m=\u001b[0m\u001b[0maxis\u001b[0m\u001b[1;33m,\u001b[0m\u001b[1;33m\u001b[0m\u001b[1;33m\u001b[0m\u001b[0m\n",
      "\u001b[1;32mC:\\ProgramData\\Anaconda3\\lib\\site-packages\\pandas\\core\\generic.py\u001b[0m in \u001b[0;36mdrop\u001b[1;34m(self, labels, axis, index, columns, level, inplace, errors)\u001b[0m\n\u001b[0;32m   4151\u001b[0m         \u001b[1;32mfor\u001b[0m \u001b[0maxis\u001b[0m\u001b[1;33m,\u001b[0m \u001b[0mlabels\u001b[0m \u001b[1;32min\u001b[0m \u001b[0maxes\u001b[0m\u001b[1;33m.\u001b[0m\u001b[0mitems\u001b[0m\u001b[1;33m(\u001b[0m\u001b[1;33m)\u001b[0m\u001b[1;33m:\u001b[0m\u001b[1;33m\u001b[0m\u001b[1;33m\u001b[0m\u001b[0m\n\u001b[0;32m   4152\u001b[0m             \u001b[1;32mif\u001b[0m \u001b[0mlabels\u001b[0m \u001b[1;32mis\u001b[0m \u001b[1;32mnot\u001b[0m \u001b[1;32mNone\u001b[0m\u001b[1;33m:\u001b[0m\u001b[1;33m\u001b[0m\u001b[1;33m\u001b[0m\u001b[0m\n\u001b[1;32m-> 4153\u001b[1;33m                 \u001b[0mobj\u001b[0m \u001b[1;33m=\u001b[0m \u001b[0mobj\u001b[0m\u001b[1;33m.\u001b[0m\u001b[0m_drop_axis\u001b[0m\u001b[1;33m(\u001b[0m\u001b[0mlabels\u001b[0m\u001b[1;33m,\u001b[0m \u001b[0maxis\u001b[0m\u001b[1;33m,\u001b[0m \u001b[0mlevel\u001b[0m\u001b[1;33m=\u001b[0m\u001b[0mlevel\u001b[0m\u001b[1;33m,\u001b[0m \u001b[0merrors\u001b[0m\u001b[1;33m=\u001b[0m\u001b[0merrors\u001b[0m\u001b[1;33m)\u001b[0m\u001b[1;33m\u001b[0m\u001b[1;33m\u001b[0m\u001b[0m\n\u001b[0m\u001b[0;32m   4154\u001b[0m \u001b[1;33m\u001b[0m\u001b[0m\n\u001b[0;32m   4155\u001b[0m         \u001b[1;32mif\u001b[0m \u001b[0minplace\u001b[0m\u001b[1;33m:\u001b[0m\u001b[1;33m\u001b[0m\u001b[1;33m\u001b[0m\u001b[0m\n",
      "\u001b[1;32mC:\\ProgramData\\Anaconda3\\lib\\site-packages\\pandas\\core\\generic.py\u001b[0m in \u001b[0;36m_drop_axis\u001b[1;34m(self, labels, axis, level, errors)\u001b[0m\n\u001b[0;32m   4186\u001b[0m                 \u001b[0mnew_axis\u001b[0m \u001b[1;33m=\u001b[0m \u001b[0maxis\u001b[0m\u001b[1;33m.\u001b[0m\u001b[0mdrop\u001b[0m\u001b[1;33m(\u001b[0m\u001b[0mlabels\u001b[0m\u001b[1;33m,\u001b[0m \u001b[0mlevel\u001b[0m\u001b[1;33m=\u001b[0m\u001b[0mlevel\u001b[0m\u001b[1;33m,\u001b[0m \u001b[0merrors\u001b[0m\u001b[1;33m=\u001b[0m\u001b[0merrors\u001b[0m\u001b[1;33m)\u001b[0m\u001b[1;33m\u001b[0m\u001b[1;33m\u001b[0m\u001b[0m\n\u001b[0;32m   4187\u001b[0m             \u001b[1;32melse\u001b[0m\u001b[1;33m:\u001b[0m\u001b[1;33m\u001b[0m\u001b[1;33m\u001b[0m\u001b[0m\n\u001b[1;32m-> 4188\u001b[1;33m                 \u001b[0mnew_axis\u001b[0m \u001b[1;33m=\u001b[0m \u001b[0maxis\u001b[0m\u001b[1;33m.\u001b[0m\u001b[0mdrop\u001b[0m\u001b[1;33m(\u001b[0m\u001b[0mlabels\u001b[0m\u001b[1;33m,\u001b[0m \u001b[0merrors\u001b[0m\u001b[1;33m=\u001b[0m\u001b[0merrors\u001b[0m\u001b[1;33m)\u001b[0m\u001b[1;33m\u001b[0m\u001b[1;33m\u001b[0m\u001b[0m\n\u001b[0m\u001b[0;32m   4189\u001b[0m             \u001b[0mresult\u001b[0m \u001b[1;33m=\u001b[0m \u001b[0mself\u001b[0m\u001b[1;33m.\u001b[0m\u001b[0mreindex\u001b[0m\u001b[1;33m(\u001b[0m\u001b[1;33m**\u001b[0m\u001b[1;33m{\u001b[0m\u001b[0maxis_name\u001b[0m\u001b[1;33m:\u001b[0m \u001b[0mnew_axis\u001b[0m\u001b[1;33m}\u001b[0m\u001b[1;33m)\u001b[0m\u001b[1;33m\u001b[0m\u001b[1;33m\u001b[0m\u001b[0m\n\u001b[0;32m   4190\u001b[0m \u001b[1;33m\u001b[0m\u001b[0m\n",
      "\u001b[1;32mC:\\ProgramData\\Anaconda3\\lib\\site-packages\\pandas\\core\\indexes\\base.py\u001b[0m in \u001b[0;36mdrop\u001b[1;34m(self, labels, errors)\u001b[0m\n\u001b[0;32m   5589\u001b[0m         \u001b[1;32mif\u001b[0m \u001b[0mmask\u001b[0m\u001b[1;33m.\u001b[0m\u001b[0many\u001b[0m\u001b[1;33m(\u001b[0m\u001b[1;33m)\u001b[0m\u001b[1;33m:\u001b[0m\u001b[1;33m\u001b[0m\u001b[1;33m\u001b[0m\u001b[0m\n\u001b[0;32m   5590\u001b[0m             \u001b[1;32mif\u001b[0m \u001b[0merrors\u001b[0m \u001b[1;33m!=\u001b[0m \u001b[1;34m\"ignore\"\u001b[0m\u001b[1;33m:\u001b[0m\u001b[1;33m\u001b[0m\u001b[1;33m\u001b[0m\u001b[0m\n\u001b[1;32m-> 5591\u001b[1;33m                 \u001b[1;32mraise\u001b[0m \u001b[0mKeyError\u001b[0m\u001b[1;33m(\u001b[0m\u001b[1;34mf\"{labels[mask]} not found in axis\"\u001b[0m\u001b[1;33m)\u001b[0m\u001b[1;33m\u001b[0m\u001b[1;33m\u001b[0m\u001b[0m\n\u001b[0m\u001b[0;32m   5592\u001b[0m             \u001b[0mindexer\u001b[0m \u001b[1;33m=\u001b[0m \u001b[0mindexer\u001b[0m\u001b[1;33m[\u001b[0m\u001b[1;33m~\u001b[0m\u001b[0mmask\u001b[0m\u001b[1;33m]\u001b[0m\u001b[1;33m\u001b[0m\u001b[1;33m\u001b[0m\u001b[0m\n\u001b[0;32m   5593\u001b[0m         \u001b[1;32mreturn\u001b[0m \u001b[0mself\u001b[0m\u001b[1;33m.\u001b[0m\u001b[0mdelete\u001b[0m\u001b[1;33m(\u001b[0m\u001b[0mindexer\u001b[0m\u001b[1;33m)\u001b[0m\u001b[1;33m\u001b[0m\u001b[1;33m\u001b[0m\u001b[0m\n",
      "\u001b[1;31mKeyError\u001b[0m: \"['Unnamed: 0'] not found in axis\""
     ]
    }
   ],
   "source": [
    "words = pd.read_csv(r'C:\\StockHelper_Project\\StockHelper\\dataset\\정제데이터\\특허\\count_patent_desc.csv')\n",
    "words.drop('Unnamed: 0', axis=1, inplace=True)\n",
    "words.set_index('키워드', inplace=True)\n",
    "words.sort_values('빈도수', inplace=True, ascending=False)\n",
    "words"
   ]
  },
  {
   "cell_type": "code",
   "execution_count": 59,
   "id": "7d93c2d4",
   "metadata": {},
   "outputs": [],
   "source": [
    "words = words.reset_index().index +1"
   ]
  },
  {
   "cell_type": "code",
   "execution_count": 60,
   "id": "e83b0871",
   "metadata": {},
   "outputs": [
    {
     "data": {
      "text/plain": [
       "RangeIndex(start=1, stop=51, step=1)"
      ]
     },
     "execution_count": 60,
     "metadata": {},
     "output_type": "execute_result"
    }
   ],
   "source": [
    "words"
   ]
  },
  {
   "cell_type": "code",
   "execution_count": 49,
   "id": "c7dab2ca",
   "metadata": {},
   "outputs": [],
   "source": [
    "words.to_csv(r'C:\\StockHelper_Project\\StockHelper\\dataset\\정제데이터\\특허\\count_patent_desc.csv')"
   ]
  },
  {
   "cell_type": "code",
   "execution_count": 50,
   "id": "M1BCCUwVi6wm",
   "metadata": {
    "colab": {
     "base_uri": "https://localhost:8080/"
    },
    "executionInfo": {
     "elapsed": 297,
     "status": "ok",
     "timestamp": 1639456126323,
     "user": {
      "displayName": "윤은경",
      "photoUrl": "https://lh3.googleusercontent.com/a-/AOh14Gju8h6U-WJVPmrsxirMjcyold1bp570O6BML4Po_A=s64",
      "userId": "17207846883881047074"
     },
     "user_tz": -540
    },
    "id": "M1BCCUwVi6wm",
    "outputId": "9e3cb7dd-91ab-4cb5-9635-0e002c239113"
   },
   "outputs": [
    {
     "data": {
      "text/plain": [
       "Index(['제조', '데이터', '위치', '모듈', '전극', '차량', '센서', '영상', '가스', '통신', '이미지',\n",
       "       '공기', '감지', '패널', '서버', '배출', '분리', '금속', '디바이스', '디스플레이', '발광', '반도체',\n",
       "       '필터', '배터리', '서비스', '무선', '자동', '충전', '성형', '네트워크', '메모리', '채널', '터치',\n",
       "       '송신', '전류', '카메라', '치료', '냉각', '예측', '마스크', '학습', '주행', '에너지', '촬영',\n",
       "       '챔버', '인식', '탄성', '연료', '생산', '섬유'],\n",
       "      dtype='object', name='키워드')"
      ]
     },
     "execution_count": 50,
     "metadata": {},
     "output_type": "execute_result"
    }
   ],
   "source": [
    "word = words.index\n",
    "word"
   ]
  },
  {
   "cell_type": "code",
   "execution_count": 23,
   "id": "LwbR5xLexbfS",
   "metadata": {
    "executionInfo": {
     "elapsed": 277,
     "status": "ok",
     "timestamp": 1639456128276,
     "user": {
      "displayName": "윤은경",
      "photoUrl": "https://lh3.googleusercontent.com/a-/AOh14Gju8h6U-WJVPmrsxirMjcyold1bp570O6BML4Po_A=s64",
      "userId": "17207846883881047074"
     },
     "user_tz": -540
    },
    "id": "LwbR5xLexbfS"
   },
   "outputs": [],
   "source": [
    "from collections import Counter"
   ]
  },
  {
   "cell_type": "code",
   "execution_count": 42,
   "id": "5oZ6MBHLoRIF",
   "metadata": {
    "colab": {
     "base_uri": "https://localhost:8080/"
    },
    "executionInfo": {
     "elapsed": 383,
     "status": "ok",
     "timestamp": 1639456129972,
     "user": {
      "displayName": "윤은경",
      "photoUrl": "https://lh3.googleusercontent.com/a-/AOh14Gju8h6U-WJVPmrsxirMjcyold1bp570O6BML4Po_A=s64",
      "userId": "17207846883881047074"
     },
     "user_tz": -540
    },
    "id": "5oZ6MBHLoRIF",
    "outputId": "75dabc9d-3f11-44a2-8533-d247a7935a19"
   },
   "outputs": [
    {
     "name": "stdout",
     "output_type": "stream",
     "text": [
      "{'제조'}\n",
      "['프레스티지바이오로직스', '씨엔티드림', '엔젠바이오', '엔에프씨', '하나기술', '위더스제약', '대덕전자', '한화시스템', '세경하이테크', '노바렉스', '케이씨텍', '나인테크', '에스알바이오텍', '경동도시가스', 'AP시스템', '에프엔에스테크', '유바이오로직스', '유니테크노', '동서', '이비테크', '에치에프알', '예스티', '한솔제지', '듀켐바이오', '아스트', '씨에스윈드', '큐엠씨', '아이원스', '한국타이어앤테크놀로지', '대한과학', '세아특수강', '대성에너지', '오르비텍', '아세아텍', '멜파스', '우림피티에스', '대성파인텍', '쎄트렉아이', 'SNT에너지', '이트론', '이아이디', '유나이티드', '알루코', '메타랩스', 'LF', '인천도시가스', 'KEC', '루멘스', '노루페인트', '현대리바트', '대한제강', 'LG디스플레이', '이엔플러스', '이수페타시스', 'DSR제강', '태경케미컬', '휴켐스', '세종공업', '미코', '종근당바이오', '지에스이', '포스코인터내셔널', '대우조선해양', '진양화학', '현대에이치티', 'HRS', '한국가스공사', '체시스', '대한유화', '자화전자', '하이트론씨스템즈', '디피씨', '케이씨', '웰바이오텍', 'SKC', '인지컨트롤스', '부산도시가스', '퍼시스', 'MH에탄올', '신성이엔지', '영풍제지', '세원정공', '서울도시가스', '제이준코스메틱', '지코', '태광', '오뚜기', '대양금속', '동원시스템즈', '화신', '삼화페인트공업', '휴니드테크놀러지스', '롯데케미칼', '무림페이퍼', '대영포장', '미원상사', '대우부품', '대창단조', '사조동아원', '인디에프', '디와이', '큐로', '대덕', '화천기계', '에스엘', '폴루스바이오팜', '보령제약', '플레이그램', '율촌화학', '부광약품', '한솔테크닉스', '계양전기', '포스코', '에이엔피', '참엔지니어링', '한국프랜지공업', '현대비앤지스틸', 'SH에너지화학', '삼성SDI', '코오롱글로벌', '빙그레', '녹십자홀딩스', '조선내화', '경농', '송원산업', '남광토건', '신영와코루', '오리엔트바이오', '삼천리', '금양', '사조대림', 'SNT중공업', '성신양회', '삼영화학공업', 'SG글로벌', '삼부토건', '삼화콘덴서공업', '성창기업지주', '태양금속공업', '넥센타이어', '롯데정밀화학', '신성통상', 'DB하이텍', '카프로', '두산', '케이씨씨', '롯데푸드', '한국주철관공업', '한진중공업홀딩스']\n",
      "{'데이터'}\n",
      "['플리토']\n",
      "set()\n",
      "[]\n",
      "{'모듈'}\n",
      "['라온피플', '드림텍', '탑선', '덕우전자', '에이치엔티', '유니트론텍', '럭스피아', '한중엔시에스', '옵티시스', '멜파스', '오디텍', '한양디지텍']\n",
      "{'전극'}\n",
      "['바이오프로테크']\n",
      "set()\n",
      "[]\n",
      "set()\n",
      "[]\n",
      "{'영상'}\n",
      "['엠씨넥스', '포커스에이치엔에스', '엘리비젼', 'THE MIDONG', '블루콤', 'KH 일렉트론', 'ITX-AI', '휴맥스', '토비스', '에스텍', '홈캐스트', '코텍', '세영디앤씨', '하이트론씨스템즈', 'TJ미디어', '인터엠', '대성엘텍', '삼화전자공업', '아남전자']\n",
      "{'가스'}\n",
      "['경동도시가스', '대성에너지', '인천도시가스', '지에스이', '한국가스공사', '부산도시가스', '서울도시가스', '삼천리', '한진중공업홀딩스']\n",
      "{'통신'}\n",
      "['제노코', '원포유', '피피아이', '다보링크', '머큐리', '알로이스', '유비쿼스', '서진시스템', '유니온커뮤니티', '인텔리안테크', '장원테크', '씨앤에스링크', 'AP위성', '슈프리마', '에치에프알', 'HDC아이콘트롤스', '인포마크', '에이텍티앤', 'RFHIC', '이노인스트루먼트', '텔콘RF제약', 'THQ', '오이솔루션', '위월드', '코셋', '디엠티', '파이오링크', '비덴트', '아이디스', '옵티시스', '모베이스', '우리넷', '파인테크닉스', '유비쿼스홀딩스', '슈프리마에이치큐', '텔레필드', '에스맥', '에스코넥', '서원인텍', '한전KPS', '일진파워', '성우전자', '에프알텍', '팅크웨어', '에이스테크', '인콘', 'EMW', '아리온', '가온미디어', '쏠리드', '이노와이어리스', '코드네이처', 'CS', '라이트론', '삼영이엔씨', '알에프텍', 'LG전자', '인탑스', 'KT서브마린', '백금T&A', '일야', '코위버', '스카이문스테크놀로지', '금화피에스시', '현대에이치티', '다산네트웍스', '파인디지털', '케이엠더블유', '코맥스', '심텍홀딩스', '삼지전자', '기산텔레콤', '코콤', '삼진', '릭스솔루션', '휴니드테크놀러지스', '대동전자', '삼성전자', '대유플러스']\n",
      "set()\n",
      "[]\n",
      "set()\n",
      "[]\n",
      "{'감지'}\n",
      "['알체라']\n",
      "{'패널'}\n",
      "['엘에이티', '에스와이', 'LG전자']\n",
      "set()\n",
      "[]\n",
      "set()\n",
      "[]\n",
      "set()\n",
      "[]\n",
      "{'금속'}\n",
      "['해성티피씨', '테크트랜스', '포인트엔지니어링', '신진에스엠', '포메탈', '조선선재', '동일금속', '티플랙스', '풍강', '테라사이언스', '케이피티유', '현진소재', '태웅', '태양', '승일', '엠투엔', '와이지-원', '서원', '에이프로젠 MED', 'PN풍년', '케이피에프', '대륙제관', '영신금속', '대동금속', '세명전기', '삼화왕관', '대림통상']\n",
      "{'디바이스'}\n",
      "['알로이스']\n",
      "{'디스플레이'}\n",
      "['솔브레인', '케이씨텍', '루켄테크놀러지스', '이녹스첨단소재', '와이엠티', '유니트론텍', '예스티', '영우디에스피', 'LG전자', '미코']\n",
      "set()\n",
      "[]\n",
      "{'반도체'}\n",
      "['엘비루셈', '서울바이오시스', '현대에너지솔루션', '라닉스', '덕산테코피아', '프로이천', '천보', '지니틱스', '레이크머티리얼즈', '이녹스첨단소재', '필옵틱스', '포인트엔지니어링', '하나머티리얼즈', '와이엠티', '오션브릿지', '럭스피아', '칩스앤미디어', '동운아나텍', '에스엘바이오닉스', '에이팩트', '에이디테크놀로지', '아이케이세미콘', '테라셈', '아진엑스텍', '기가레인', '윈팩', '우리이앤엘', '에이티세미콘', '나노신소재', '엘비세미콘', '인텍플러스', '시그네틱스', '아나패스', '아이텍', '알파홀딩스', 'LX세미콘', '이미지스', '아이앤씨', '어보브반도체', '엔시트론', '엘디티', '알에프세미', '다믈멀티미디어', '오디텍', '앤씨앤', '큐에스아이', 'KEC', '루멘스', '티엘아이', '비보존 헬스케어', '덕산하이메탈', '하나마이크론', '제주반도체', '텔레칩스', '한양디지텍', '바른전자', '파커스', '서울반도체', '미코', '일진디스플', '크로바하이텍', '에스에프에이', '리노공업', 'SFA반도체', '코아시아', '클라우드에어', '네패스', '위지트', '피델릭스', 'SK하이닉스', '광전자', '신성이엔지', '와이투솔루션', 'DB하이텍']\n",
      "{'필터'}\n",
      "['피코그램', '한독크린텍', '시노펙스']\n",
      "set()\n",
      "[]\n",
      "{'서비스'}\n",
      "['예스피치', 'IBKS제16호스팩', '에이디엠코리아', '유안타제8호스팩', '유안타제7호스팩', '네패스아크', '바이브컴퍼니', '원포유', '엔에이치스팩17호', '소마젠', '휴럼', '천랩', '유안타제5호스팩', '남화산업', 'EDGC', '팬젠', '유투바이오', '랩지노믹스', '미스터블루', '에스엔피제네틱스', 'NAVER', '아이에스이커머스', '드림어스컴퍼니', '농심홀딩스', '지니뮤직', '두산']\n",
      "set()\n",
      "[]\n",
      "set()\n",
      "[]\n",
      "set()\n",
      "[]\n",
      "set()\n",
      "[]\n",
      "set()\n",
      "[]\n",
      "set()\n",
      "[]\n",
      "set()\n",
      "[]\n",
      "set()\n",
      "[]\n",
      "set()\n",
      "[]\n",
      "set()\n",
      "[]\n",
      "{'카메라'}\n",
      "['엠씨넥스', '에이치엔티', '뉴지랩파마', '세코닉스']\n",
      "set()\n",
      "[]\n",
      "set()\n",
      "[]\n",
      "{'예측'}\n",
      "['메디젠휴먼케어']\n",
      "{'마스크'}\n",
      "['씨앤투스성진', '케이피에스', '도부마스크', '제닉']\n",
      "set()\n",
      "[]\n",
      "set()\n",
      "[]\n",
      "set()\n",
      "[]\n",
      "set()\n",
      "[]\n",
      "set()\n",
      "[]\n",
      "set()\n",
      "[]\n",
      "set()\n",
      "[]\n",
      "{'연료'}\n",
      "['대성산업', '대한그린파워', '위즈코프', '대성홀딩스']\n",
      "{'생산'}\n",
      "['도부마스크', '포스코엠텍', '동아쏘시오홀딩스']\n",
      "set()\n",
      "[]\n"
     ]
    }
   ],
   "source": [
    "for each in word:  \n",
    "    inword = list()\n",
    "    word_work = list()\n",
    "    for work, company in zip(df['Work'], df['회사명']):\n",
    "        if isinstance(work, float):\n",
    "            continue\n",
    "        else :\n",
    "            each_work = work.split(\" \")\n",
    "            if each in each_work:\n",
    "                inword.append(each)\n",
    "                word_work.append(company)\n",
    "    inwords = set(inword)\n",
    "    print(inwords)\n",
    "    print(word_work)\n",
    "# 제조, 데이터, 모듈, 전극, 영상, 가스, 통신, 관리, 감지, 패널, 금속, 디바이스, 디스플레이, 반도체,"
   ]
  },
  {
   "cell_type": "code",
   "execution_count": 41,
   "id": "08498b08",
   "metadata": {},
   "outputs": [
    {
     "data": {
      "text/plain": [
       "149"
      ]
     },
     "execution_count": 41,
     "metadata": {},
     "output_type": "execute_result"
    }
   ],
   "source": [
    "len(['프레스티지바이오로직스', '씨엔티드림', '엔젠바이오', '엔에프씨', '하나기술', '위더스제약', '대덕전자', '한화시스템', '세경하이테크', '노바렉스', '케이씨텍', '나인테크', '에스알바이오텍', '경동도시가스', 'AP시스템', '에프엔에스테크', '유바이오로직스', '유니테크노', '동서', '이비테크', '에치에프알', '예스티', '한솔제지', '듀켐바이오', '아스트', '씨에스윈드', '큐엠씨', '아이원스', '한국타이어앤테크놀로지', '대한과학', '세아특수강', '대성에너지', '오르비텍', '아세아텍', '멜파스', '우림피티에스', '대성파인텍', '쎄트렉아이', 'SNT에너지', '이트론', '이아이디', '유나이티드', '알루코', '메타랩스', 'LF', '인천도시가스', 'KEC', '루멘스', '노루페인트', '현대리바트', '대한제강', 'LG디스플레이', '이엔플러스', '이수페타시스', 'DSR제강', '태경케미컬', '휴켐스', '세종공업', '미코', '종근당바이오', '지에스이', '포스코인터내셔널', '대우조선해양', '진양화학', '현대에이치티', 'HRS', '한국가스공사', '체시스', '대한유화', '자화전자', '하이트론씨스템즈', '디피씨', '케이씨', '웰바이오텍', 'SKC', '인지컨트롤스', '부산도시가스', '퍼시스', 'MH에탄올', '신성이엔지', '영풍제지', '세원정공', '서울도시가스', '제이준코스메틱', '지코', '태광', '오뚜기', '대양금속', '동원시스템즈', '화신', '삼화페인트공업', '휴니드테크놀러지스', '롯데케미칼', '무림페이퍼', '대영포장', '미원상사', '대우부품', '대창단조', '사조동아원', '인디에프', '디와이', '큐로', '대덕', '화천기계', '에스엘', '폴루스바이오팜', '보령제약', '플레이그램', '율촌화학', '부광약품', '한솔테크닉스', '계양전기', '포스코', '에이엔피', '참엔지니어링', '한국프랜지공업', '현대비앤지스틸', 'SH에너지화학', '삼성SDI', '코오롱글로벌', '빙그레', '녹십자홀딩스', '조선내화', '경농', '송원산업', '남광토건', '신영와코루', '오리엔트바이오', '삼천리', '금양', '사조대림', 'SNT중공업', '성신양회', '삼영화학공업', 'SG글로벌', '삼부토건', '삼화콘덴서공업', '성창기업지주', '태양금속공업', '넥센타이어', '롯데정밀화학', '신성통상', 'DB하이텍', '카프로', '두산', '케이씨씨', '롯데푸드', '한국주철관공업', '한진중공업홀딩스'])"
   ]
  },
  {
   "cell_type": "code",
   "execution_count": 25,
   "id": "24161761",
   "metadata": {
    "colab": {
     "base_uri": "https://localhost:8080/"
    },
    "executionInfo": {
     "elapsed": 332,
     "status": "ok",
     "timestamp": 1639383428979,
     "user": {
      "displayName": "윤은경",
      "photoUrl": "https://lh3.googleusercontent.com/a-/AOh14Gju8h6U-WJVPmrsxirMjcyold1bp570O6BML4Po_A=s64",
      "userId": "17207846883881047074"
     },
     "user_tz": -540
    },
    "id": "24161761",
    "outputId": "8d693efc-c7ab-4ff7-9f5d-156abc4a0cfe"
   },
   "outputs": [
    {
     "data": {
      "text/plain": [
       "2484"
      ]
     },
     "execution_count": 25,
     "metadata": {},
     "output_type": "execute_result"
    }
   ],
   "source": [
    "len(df['종목코드'])"
   ]
  },
  {
   "cell_type": "code",
   "execution_count": 26,
   "id": "b8cae45a",
   "metadata": {
    "colab": {
     "base_uri": "https://localhost:8080/"
    },
    "executionInfo": {
     "elapsed": 3,
     "status": "ok",
     "timestamp": 1639383430512,
     "user": {
      "displayName": "윤은경",
      "photoUrl": "https://lh3.googleusercontent.com/a-/AOh14Gju8h6U-WJVPmrsxirMjcyold1bp570O6BML4Po_A=s64",
      "userId": "17207846883881047074"
     },
     "user_tz": -540
    },
    "id": "b8cae45a",
    "outputId": "61c8aed8-6fb6-4656-e287-2b7622cf74f8"
   },
   "outputs": [
    {
     "data": {
      "text/plain": [
       "종목코드  \n",
       "000020    1\n",
       "138690    1\n",
       "138070    1\n",
       "138080    1\n",
       "138250    1\n",
       "         ..\n",
       "039980    1\n",
       "040160    1\n",
       "040300    1\n",
       "040350    1\n",
       "950220    1\n",
       "Length: 2484, dtype: int64"
      ]
     },
     "execution_count": 26,
     "metadata": {},
     "output_type": "execute_result"
    }
   ],
   "source": [
    "def make_code(x):\n",
    "    x = str(x)\n",
    "    return '0' * (6 - len(x)) + x\n",
    "\n",
    "df['종목코드'] = df['종목코드'].apply(make_code)\n",
    "\n",
    "df[['종목코드']].value_counts()"
   ]
  },
  {
   "cell_type": "code",
   "execution_count": 27,
   "id": "8jbVkgUrnesr",
   "metadata": {
    "colab": {
     "base_uri": "https://localhost:8080/",
     "height": 615
    },
    "executionInfo": {
     "elapsed": 264,
     "status": "ok",
     "timestamp": 1639060480689,
     "user": {
      "displayName": "윤은경",
      "photoUrl": "https://lh3.googleusercontent.com/a-/AOh14Gju8h6U-WJVPmrsxirMjcyold1bp570O6BML4Po_A=s64",
      "userId": "17207846883881047074"
     },
     "user_tz": -540
    },
    "id": "8jbVkgUrnesr",
    "outputId": "c3b89183-c007-43dc-8548-6a324195670c"
   },
   "outputs": [
    {
     "data": {
      "text/html": [
       "<div>\n",
       "<style scoped>\n",
       "    .dataframe tbody tr th:only-of-type {\n",
       "        vertical-align: middle;\n",
       "    }\n",
       "\n",
       "    .dataframe tbody tr th {\n",
       "        vertical-align: top;\n",
       "    }\n",
       "\n",
       "    .dataframe thead th {\n",
       "        text-align: right;\n",
       "    }\n",
       "</style>\n",
       "<table border=\"1\" class=\"dataframe\">\n",
       "  <thead>\n",
       "    <tr style=\"text-align: right;\">\n",
       "      <th></th>\n",
       "      <th>회사명</th>\n",
       "      <th>종목코드</th>\n",
       "      <th>업종</th>\n",
       "      <th>주요제품</th>\n",
       "      <th>상장일</th>\n",
       "      <th>결산월</th>\n",
       "      <th>대표자명</th>\n",
       "      <th>홈페이지</th>\n",
       "      <th>지역</th>\n",
       "      <th>Work</th>\n",
       "    </tr>\n",
       "  </thead>\n",
       "  <tbody>\n",
       "    <tr>\n",
       "      <th>1847</th>\n",
       "      <td>예스피치</td>\n",
       "      <td>403360</td>\n",
       "      <td>소프트웨어 개발 및 공급업</td>\n",
       "      <td>AI 가상비서 서비스, 화자인증 서비스</td>\n",
       "      <td>2021-12-14</td>\n",
       "      <td>12월</td>\n",
       "      <td>김재중</td>\n",
       "      <td>http://www.yespeech.com</td>\n",
       "      <td>서울특별시</td>\n",
       "      <td>소프트웨어 개발 및 공급업AI 가상비서 서비스, 화자인증 서비스</td>\n",
       "    </tr>\n",
       "    <tr>\n",
       "      <th>604</th>\n",
       "      <td>제이엠멀티</td>\n",
       "      <td>254160</td>\n",
       "      <td>제재 및 목재 가공업</td>\n",
       "      <td>목재 데크로드 시스템</td>\n",
       "      <td>2021-12-13</td>\n",
       "      <td>12월</td>\n",
       "      <td>박훈웅</td>\n",
       "      <td>http://www.jmmulti.com</td>\n",
       "      <td>충청남도</td>\n",
       "      <td>제재 및 목재 가공업목재 데크로드 시스템</td>\n",
       "    </tr>\n",
       "    <tr>\n",
       "      <th>2106</th>\n",
       "      <td>툴젠</td>\n",
       "      <td>199800</td>\n",
       "      <td>자연과학 및 공학 연구개발업</td>\n",
       "      <td>유전자교정 플랫폼 관련 제품</td>\n",
       "      <td>2021-12-10</td>\n",
       "      <td>12월</td>\n",
       "      <td>김영호, 이병화</td>\n",
       "      <td>http://toolgen.com</td>\n",
       "      <td>서울특별시</td>\n",
       "      <td>자연과학 및 공학 연구개발업유전자교정 플랫폼 관련 제품</td>\n",
       "    </tr>\n",
       "    <tr>\n",
       "      <th>676</th>\n",
       "      <td>신한서부티엔디리츠</td>\n",
       "      <td>404990</td>\n",
       "      <td>부동산 임대 및 공급업</td>\n",
       "      <td>부동산투자</td>\n",
       "      <td>2021-12-10</td>\n",
       "      <td>12월</td>\n",
       "      <td>승만호</td>\n",
       "      <td>http://shsbreit.com</td>\n",
       "      <td>서울특별시</td>\n",
       "      <td>부동산 임대 및 공급업부동산투자</td>\n",
       "    </tr>\n",
       "    <tr>\n",
       "      <th>963</th>\n",
       "      <td>미래에셋글로벌리츠</td>\n",
       "      <td>396690</td>\n",
       "      <td>부동산 임대 및 공급업</td>\n",
       "      <td>부동산 임대업</td>\n",
       "      <td>2021-12-03</td>\n",
       "      <td>03월</td>\n",
       "      <td>신현준</td>\n",
       "      <td>NaN</td>\n",
       "      <td>서울특별시</td>\n",
       "      <td>부동산 임대 및 공급업부동산 임대업</td>\n",
       "    </tr>\n",
       "    <tr>\n",
       "      <th>...</th>\n",
       "      <td>...</td>\n",
       "      <td>...</td>\n",
       "      <td>...</td>\n",
       "      <td>...</td>\n",
       "      <td>...</td>\n",
       "      <td>...</td>\n",
       "      <td>...</td>\n",
       "      <td>...</td>\n",
       "      <td>...</td>\n",
       "      <td>...</td>\n",
       "    </tr>\n",
       "    <tr>\n",
       "      <th>304</th>\n",
       "      <td>CJ대한통운</td>\n",
       "      <td>000120</td>\n",
       "      <td>도로 화물 운송업</td>\n",
       "      <td>Contract Logistics, 포워딩, 항만하역, 해운, 택배국제특송, SCM...</td>\n",
       "      <td>1956-07-02</td>\n",
       "      <td>12월</td>\n",
       "      <td>강신호</td>\n",
       "      <td>http://www.cjlogistics.com</td>\n",
       "      <td>서울특별시</td>\n",
       "      <td>도로 화물 운송업Contract Logistics, 포워딩, 항만하역, 해운, 택배...</td>\n",
       "    </tr>\n",
       "    <tr>\n",
       "      <th>1587</th>\n",
       "      <td>메리츠화재</td>\n",
       "      <td>000060</td>\n",
       "      <td>보험업</td>\n",
       "      <td>손해보험(화재,해상,운송보험)</td>\n",
       "      <td>1956-07-02</td>\n",
       "      <td>12월</td>\n",
       "      <td>김용범</td>\n",
       "      <td>http://www.meritzfire.com</td>\n",
       "      <td>서울특별시</td>\n",
       "      <td>보험업손해보험(화재,해상,운송보험)</td>\n",
       "    </tr>\n",
       "    <tr>\n",
       "      <th>1020</th>\n",
       "      <td>한진중공업홀딩스</td>\n",
       "      <td>003480</td>\n",
       "      <td>연료용 가스 제조 및 배관공급업</td>\n",
       "      <td>지주회사</td>\n",
       "      <td>1956-03-03</td>\n",
       "      <td>12월</td>\n",
       "      <td>조남호, 조원국</td>\n",
       "      <td>http://www.hhic-holdings.com</td>\n",
       "      <td>경기도</td>\n",
       "      <td>연료용 가스 제조 및 배관공급업지주회사</td>\n",
       "    </tr>\n",
       "    <tr>\n",
       "      <th>2212</th>\n",
       "      <td>유수홀딩스</td>\n",
       "      <td>000700</td>\n",
       "      <td>회사 본부 및 경영 컨설팅 서비스업</td>\n",
       "      <td>지주사업</td>\n",
       "      <td>1956-03-03</td>\n",
       "      <td>12월</td>\n",
       "      <td>송영규</td>\n",
       "      <td>http://www.eusu-holdings.com</td>\n",
       "      <td>서울특별시</td>\n",
       "      <td>회사 본부 및 경영 컨설팅 서비스업지주사업</td>\n",
       "    </tr>\n",
       "    <tr>\n",
       "      <th>1567</th>\n",
       "      <td>경방</td>\n",
       "      <td>000050</td>\n",
       "      <td>종합 소매업</td>\n",
       "      <td>섬유류(면사,면혼방사,면직물,면혼방직물,화섬사,화섬직물) 제조,도매,수출입</td>\n",
       "      <td>1956-03-03</td>\n",
       "      <td>12월</td>\n",
       "      <td>김준, 김담</td>\n",
       "      <td>http://www.kyungbang.co.kr</td>\n",
       "      <td>서울특별시</td>\n",
       "      <td>종합 소매업섬유류(면사,면혼방사,면직물,면혼방직물,화섬사,화섬직물) 제조,도매,수출입</td>\n",
       "    </tr>\n",
       "  </tbody>\n",
       "</table>\n",
       "<p>2484 rows × 10 columns</p>\n",
       "</div>"
      ],
      "text/plain": [
       "            회사명    종목코드                   업종  \\\n",
       "1847       예스피치  403360       소프트웨어 개발 및 공급업   \n",
       "604       제이엠멀티  254160          제재 및 목재 가공업   \n",
       "2106         툴젠  199800      자연과학 및 공학 연구개발업   \n",
       "676   신한서부티엔디리츠  404990         부동산 임대 및 공급업   \n",
       "963   미래에셋글로벌리츠  396690         부동산 임대 및 공급업   \n",
       "...         ...     ...                  ...   \n",
       "304      CJ대한통운  000120            도로 화물 운송업   \n",
       "1587      메리츠화재  000060                  보험업   \n",
       "1020   한진중공업홀딩스  003480    연료용 가스 제조 및 배관공급업   \n",
       "2212      유수홀딩스  000700  회사 본부 및 경영 컨설팅 서비스업   \n",
       "1567         경방  000050               종합 소매업   \n",
       "\n",
       "                                                   주요제품         상장일  결산월  \\\n",
       "1847                              AI 가상비서 서비스, 화자인증 서비스  2021-12-14  12월   \n",
       "604                                         목재 데크로드 시스템  2021-12-13  12월   \n",
       "2106                                    유전자교정 플랫폼 관련 제품  2021-12-10  12월   \n",
       "676                                               부동산투자  2021-12-10  12월   \n",
       "963                                             부동산 임대업  2021-12-03  03월   \n",
       "...                                                 ...         ...  ...   \n",
       "304   Contract Logistics, 포워딩, 항만하역, 해운, 택배국제특송, SCM...  1956-07-02  12월   \n",
       "1587                                   손해보험(화재,해상,운송보험)  1956-07-02  12월   \n",
       "1020                                               지주회사  1956-03-03  12월   \n",
       "2212                                               지주사업  1956-03-03  12월   \n",
       "1567          섬유류(면사,면혼방사,면직물,면혼방직물,화섬사,화섬직물) 제조,도매,수출입  1956-03-03  12월   \n",
       "\n",
       "          대표자명                          홈페이지     지역  \\\n",
       "1847       김재중       http://www.yespeech.com  서울특별시   \n",
       "604        박훈웅        http://www.jmmulti.com   충청남도   \n",
       "2106  김영호, 이병화            http://toolgen.com  서울특별시   \n",
       "676        승만호           http://shsbreit.com  서울특별시   \n",
       "963        신현준                           NaN  서울특별시   \n",
       "...        ...                           ...    ...   \n",
       "304        강신호    http://www.cjlogistics.com  서울특별시   \n",
       "1587       김용범     http://www.meritzfire.com  서울특별시   \n",
       "1020  조남호, 조원국  http://www.hhic-holdings.com    경기도   \n",
       "2212       송영규  http://www.eusu-holdings.com  서울특별시   \n",
       "1567    김준, 김담    http://www.kyungbang.co.kr  서울특별시   \n",
       "\n",
       "                                                   Work  \n",
       "1847                소프트웨어 개발 및 공급업AI 가상비서 서비스, 화자인증 서비스  \n",
       "604                              제재 및 목재 가공업목재 데크로드 시스템  \n",
       "2106                     자연과학 및 공학 연구개발업유전자교정 플랫폼 관련 제품  \n",
       "676                                   부동산 임대 및 공급업부동산투자  \n",
       "963                                 부동산 임대 및 공급업부동산 임대업  \n",
       "...                                                 ...  \n",
       "304   도로 화물 운송업Contract Logistics, 포워딩, 항만하역, 해운, 택배...  \n",
       "1587                                보험업손해보험(화재,해상,운송보험)  \n",
       "1020                              연료용 가스 제조 및 배관공급업지주회사  \n",
       "2212                            회사 본부 및 경영 컨설팅 서비스업지주사업  \n",
       "1567    종합 소매업섬유류(면사,면혼방사,면직물,면혼방직물,화섬사,화섬직물) 제조,도매,수출입  \n",
       "\n",
       "[2484 rows x 10 columns]"
      ]
     },
     "execution_count": 27,
     "metadata": {},
     "output_type": "execute_result"
    }
   ],
   "source": [
    "df"
   ]
  },
  {
   "cell_type": "code",
   "execution_count": 28,
   "id": "fDHeXqE8nWZq",
   "metadata": {
    "id": "fDHeXqE8nWZq"
   },
   "outputs": [],
   "source": [
    "df.to_csv('stockList_CSV.csv')"
   ]
  },
  {
   "cell_type": "code",
   "execution_count": 29,
   "id": "e--v2u_BEFo3",
   "metadata": {
    "colab": {
     "base_uri": "https://localhost:8080/",
     "height": 81
    },
    "executionInfo": {
     "elapsed": 4,
     "status": "ok",
     "timestamp": 1639060429804,
     "user": {
      "displayName": "윤은경",
      "photoUrl": "https://lh3.googleusercontent.com/a-/AOh14Gju8h6U-WJVPmrsxirMjcyold1bp570O6BML4Po_A=s64",
      "userId": "17207846883881047074"
     },
     "user_tz": -540
    },
    "id": "e--v2u_BEFo3",
    "outputId": "d2c550b7-4169-4c9b-9673-41345368a95d"
   },
   "outputs": [
    {
     "data": {
      "text/html": [
       "<div>\n",
       "<style scoped>\n",
       "    .dataframe tbody tr th:only-of-type {\n",
       "        vertical-align: middle;\n",
       "    }\n",
       "\n",
       "    .dataframe tbody tr th {\n",
       "        vertical-align: top;\n",
       "    }\n",
       "\n",
       "    .dataframe thead th {\n",
       "        text-align: right;\n",
       "    }\n",
       "</style>\n",
       "<table border=\"1\" class=\"dataframe\">\n",
       "  <thead>\n",
       "    <tr style=\"text-align: right;\">\n",
       "      <th></th>\n",
       "      <th>회사명</th>\n",
       "      <th>종목코드</th>\n",
       "      <th>업종</th>\n",
       "      <th>주요제품</th>\n",
       "      <th>상장일</th>\n",
       "      <th>결산월</th>\n",
       "      <th>대표자명</th>\n",
       "      <th>홈페이지</th>\n",
       "      <th>지역</th>\n",
       "      <th>Work</th>\n",
       "    </tr>\n",
       "  </thead>\n",
       "  <tbody>\n",
       "    <tr>\n",
       "      <th>659</th>\n",
       "      <td>삼성증권</td>\n",
       "      <td>016360</td>\n",
       "      <td>금융 지원 서비스업</td>\n",
       "      <td>유가증권의 매매,위탁매매,인수주선</td>\n",
       "      <td>1988-03-28</td>\n",
       "      <td>12월</td>\n",
       "      <td>장석훈</td>\n",
       "      <td>http://www.samsungpop.com</td>\n",
       "      <td>서울특별시</td>\n",
       "      <td>금융 지원 서비스업유가증권의 매매,위탁매매,인수주선</td>\n",
       "    </tr>\n",
       "  </tbody>\n",
       "</table>\n",
       "</div>"
      ],
      "text/plain": [
       "      회사명    종목코드          업종                주요제품         상장일  결산월 대표자명  \\\n",
       "659  삼성증권  016360  금융 지원 서비스업  유가증권의 매매,위탁매매,인수주선  1988-03-28  12월  장석훈   \n",
       "\n",
       "                          홈페이지     지역                          Work  \n",
       "659  http://www.samsungpop.com  서울특별시  금융 지원 서비스업유가증권의 매매,위탁매매,인수주선  "
      ]
     },
     "execution_count": 29,
     "metadata": {},
     "output_type": "execute_result"
    }
   ],
   "source": [
    "df[df['회사명'] == '삼성증권']"
   ]
  },
  {
   "cell_type": "code",
   "execution_count": 30,
   "id": "XsUup5iH7BJK",
   "metadata": {
    "colab": {
     "base_uri": "https://localhost:8080/",
     "height": 150
    },
    "executionInfo": {
     "elapsed": 5,
     "status": "ok",
     "timestamp": 1638766175900,
     "user": {
      "displayName": "윤은경",
      "photoUrl": "https://lh3.googleusercontent.com/a-/AOh14Gju8h6U-WJVPmrsxirMjcyold1bp570O6BML4Po_A=s64",
      "userId": "17207846883881047074"
     },
     "user_tz": -540
    },
    "id": "XsUup5iH7BJK",
    "outputId": "4cd96714-5182-480f-d49e-099b06e71d21"
   },
   "outputs": [
    {
     "data": {
      "text/html": [
       "<div>\n",
       "<style scoped>\n",
       "    .dataframe tbody tr th:only-of-type {\n",
       "        vertical-align: middle;\n",
       "    }\n",
       "\n",
       "    .dataframe tbody tr th {\n",
       "        vertical-align: top;\n",
       "    }\n",
       "\n",
       "    .dataframe thead th {\n",
       "        text-align: right;\n",
       "    }\n",
       "</style>\n",
       "<table border=\"1\" class=\"dataframe\">\n",
       "  <thead>\n",
       "    <tr style=\"text-align: right;\">\n",
       "      <th></th>\n",
       "      <th>회사명</th>\n",
       "      <th>종목코드</th>\n",
       "      <th>업종</th>\n",
       "      <th>주요제품</th>\n",
       "      <th>상장일</th>\n",
       "      <th>결산월</th>\n",
       "      <th>대표자명</th>\n",
       "      <th>홈페이지</th>\n",
       "      <th>지역</th>\n",
       "      <th>Work</th>\n",
       "    </tr>\n",
       "  </thead>\n",
       "  <tbody>\n",
       "    <tr>\n",
       "      <th>1240</th>\n",
       "      <td>SK하이닉스</td>\n",
       "      <td>000660</td>\n",
       "      <td>반도체 제조업</td>\n",
       "      <td>반도체,컴퓨터,통신기기 제조,도매</td>\n",
       "      <td>1996-12-26</td>\n",
       "      <td>12월</td>\n",
       "      <td>박정호, 이석희 (각자대표)</td>\n",
       "      <td>http://www.skhynix.com</td>\n",
       "      <td>경기도</td>\n",
       "      <td>반도체 제조업반도체,컴퓨터,통신기기 제조,도매</td>\n",
       "    </tr>\n",
       "  </tbody>\n",
       "</table>\n",
       "</div>"
      ],
      "text/plain": [
       "         회사명    종목코드       업종                주요제품         상장일  결산월  \\\n",
       "1240  SK하이닉스  000660  반도체 제조업  반도체,컴퓨터,통신기기 제조,도매  1996-12-26  12월   \n",
       "\n",
       "                 대표자명                    홈페이지   지역                       Work  \n",
       "1240  박정호, 이석희 (각자대표)  http://www.skhynix.com  경기도  반도체 제조업반도체,컴퓨터,통신기기 제조,도매  "
      ]
     },
     "execution_count": 30,
     "metadata": {},
     "output_type": "execute_result"
    }
   ],
   "source": [
    "df[df['회사명'] ==  'SK하이닉스']"
   ]
  },
  {
   "cell_type": "code",
   "execution_count": 31,
   "id": "WKvfcV0Lm_cM",
   "metadata": {
    "colab": {
     "base_uri": "https://localhost:8080/",
     "height": 423
    },
    "executionInfo": {
     "elapsed": 263,
     "status": "ok",
     "timestamp": 1638766177393,
     "user": {
      "displayName": "윤은경",
      "photoUrl": "https://lh3.googleusercontent.com/a-/AOh14Gju8h6U-WJVPmrsxirMjcyold1bp570O6BML4Po_A=s64",
      "userId": "17207846883881047074"
     },
     "user_tz": -540
    },
    "id": "WKvfcV0Lm_cM",
    "outputId": "58e826db-98e9-413b-a608-d210e6d881a8"
   },
   "outputs": [
    {
     "data": {
      "text/html": [
       "<div>\n",
       "<style scoped>\n",
       "    .dataframe tbody tr th:only-of-type {\n",
       "        vertical-align: middle;\n",
       "    }\n",
       "\n",
       "    .dataframe tbody tr th {\n",
       "        vertical-align: top;\n",
       "    }\n",
       "\n",
       "    .dataframe thead th {\n",
       "        text-align: right;\n",
       "    }\n",
       "</style>\n",
       "<table border=\"1\" class=\"dataframe\">\n",
       "  <thead>\n",
       "    <tr style=\"text-align: right;\">\n",
       "      <th></th>\n",
       "      <th>회사명</th>\n",
       "      <th>종목코드</th>\n",
       "    </tr>\n",
       "  </thead>\n",
       "  <tbody>\n",
       "    <tr>\n",
       "      <th>1847</th>\n",
       "      <td>예스피치</td>\n",
       "      <td>403360</td>\n",
       "    </tr>\n",
       "    <tr>\n",
       "      <th>604</th>\n",
       "      <td>제이엠멀티</td>\n",
       "      <td>254160</td>\n",
       "    </tr>\n",
       "    <tr>\n",
       "      <th>2106</th>\n",
       "      <td>툴젠</td>\n",
       "      <td>199800</td>\n",
       "    </tr>\n",
       "    <tr>\n",
       "      <th>676</th>\n",
       "      <td>신한서부티엔디리츠</td>\n",
       "      <td>404990</td>\n",
       "    </tr>\n",
       "    <tr>\n",
       "      <th>963</th>\n",
       "      <td>미래에셋글로벌리츠</td>\n",
       "      <td>396690</td>\n",
       "    </tr>\n",
       "    <tr>\n",
       "      <th>...</th>\n",
       "      <td>...</td>\n",
       "      <td>...</td>\n",
       "    </tr>\n",
       "    <tr>\n",
       "      <th>304</th>\n",
       "      <td>CJ대한통운</td>\n",
       "      <td>000120</td>\n",
       "    </tr>\n",
       "    <tr>\n",
       "      <th>1587</th>\n",
       "      <td>메리츠화재</td>\n",
       "      <td>000060</td>\n",
       "    </tr>\n",
       "    <tr>\n",
       "      <th>1020</th>\n",
       "      <td>한진중공업홀딩스</td>\n",
       "      <td>003480</td>\n",
       "    </tr>\n",
       "    <tr>\n",
       "      <th>2212</th>\n",
       "      <td>유수홀딩스</td>\n",
       "      <td>000700</td>\n",
       "    </tr>\n",
       "    <tr>\n",
       "      <th>1567</th>\n",
       "      <td>경방</td>\n",
       "      <td>000050</td>\n",
       "    </tr>\n",
       "  </tbody>\n",
       "</table>\n",
       "<p>2484 rows × 2 columns</p>\n",
       "</div>"
      ],
      "text/plain": [
       "            회사명    종목코드\n",
       "1847       예스피치  403360\n",
       "604       제이엠멀티  254160\n",
       "2106         툴젠  199800\n",
       "676   신한서부티엔디리츠  404990\n",
       "963   미래에셋글로벌리츠  396690\n",
       "...         ...     ...\n",
       "304      CJ대한통운  000120\n",
       "1587      메리츠화재  000060\n",
       "1020   한진중공업홀딩스  003480\n",
       "2212      유수홀딩스  000700\n",
       "1567         경방  000050\n",
       "\n",
       "[2484 rows x 2 columns]"
      ]
     },
     "execution_count": 31,
     "metadata": {},
     "output_type": "execute_result"
    }
   ],
   "source": [
    "stock_df = df[['회사명','종목코드']]\n",
    "stock_df"
   ]
  },
  {
   "cell_type": "code",
   "execution_count": 32,
   "id": "zWlc_Wwwk0gk",
   "metadata": {
    "colab": {
     "base_uri": "https://localhost:8080/"
    },
    "executionInfo": {
     "elapsed": 2771,
     "status": "ok",
     "timestamp": 1638767026593,
     "user": {
      "displayName": "윤은경",
      "photoUrl": "https://lh3.googleusercontent.com/a-/AOh14Gju8h6U-WJVPmrsxirMjcyold1bp570O6BML4Po_A=s64",
      "userId": "17207846883881047074"
     },
     "user_tz": -540
    },
    "id": "zWlc_Wwwk0gk",
    "outputId": "1bba4f87-e377-4b7d-94ae-f931287a96b8"
   },
   "outputs": [
    {
     "name": "stdout",
     "output_type": "stream",
     "text": [
      "['삼성전자', 'SK하이닉스', 'NAVER', '삼성바이오로직스', '삼성전자우', '카카오', 'LG화학', '삼성SDI', '현대차', '기아', '카카오뱅크', '셀트리온', 'POSCO', '크래프톤', 'KB금융', '카카오페이', '현대모비스', '삼성물산', 'LG전자', 'SK바이오사이언스', 'SK이노베이션', '신한지주', 'SK', 'LG생활건강', '엔씨소프트', 'HMM', '한국전력', '하이브', '삼성생명', '삼성전기', '하나금융지주', 'LG', 'SK텔레콤', '삼성에스디에스', 'SK아이이테크놀로지', 'KT&G', '두산중공업', '포스코케미칼', '아모레퍼시픽', '넷마블', '대한항공', '삼성화재', 'S-Oil', '고려아연', '우리금융지주', '현대중공업', 'SK스퀘어', '기업은행', 'KT', 'SK바이오팜', '롯데케미칼', 'LG디스플레이', '한온시스템', 'LG이노텍', '한화솔루션', '한국조선해양', 'SKC', 'F&F', 'LG유플러스', '현대글로비스', 'CJ제일제당', '미래에셋증권', '금호석유', '에스디바이오센서', '맥쿼리인프라', '코웨이', '현대제철', '일진머티리얼즈', '현대건설', 'KODEX 200', '강원랜드', '한국타이어앤테크놀로지', '삼성중공업', '한국금융지주', '현대중공업지주', '유한양행', '삼성엔지니어링', '삼성증권', '메리츠금융지주', '이마트', '한진칼', '오리온', '두산밥캣', 'DB손해보험', 'NH투자증권', '쌍용C&E', '삼성카드', '한미사이언스', 'GS', '아모레G', '현대차2우B', '메리츠화재', '한솔케미칼', 'GS건설', '한국가스공사', '현대오토에버', '메리츠증권', '한미약품', '한전기술', '롯데지주', '포스코', '케이티', '케이티앤지', '에스케이바이오팜', '금호석유화학', '삼성화재해상보험', '쌍용씨앤이', '아모레퍼시픽그룹', '한국전력공사', '현대자동차']\n"
     ]
    }
   ],
   "source": [
    "import requests\n",
    "from bs4 import BeautifulSoup\n",
    "\n",
    "# 다음 시가총액 TOP 100\n",
    "url = \"https://finance.daum.net/api/trend/market_capitalization?page={}&perPage=30&fieldName=marketCap&order=desc&market=KOSPI&pagination=true\"\n",
    "\n",
    "headers={\n",
    "    \"User-Agent\" : \"Mozilla/5.0\",\n",
    "    \"referer\" : \"https://finance.daum.net/domestic/market_cap?market=KOSPI\"\n",
    "}\n",
    "\n",
    "stock_name = []\n",
    "for i in range(1, 5):\n",
    "    response = requests.get(url.format(i), headers=headers).json()  # json\n",
    "    data = response['data']\n",
    "\n",
    "    if i < 4:\n",
    "        for j in range(30):\n",
    "            stock_name.append(data[j]['name'])\n",
    "    else:\n",
    "        for j in range(10):\n",
    "            stock_name.append(data[j]['name'])\n",
    "            \n",
    "stock_name.extend(['포스코', '케이티', '케이티앤지', '에스케이바이오팜', '금호석유화학','삼성화재해상보험', '쌍용씨앤이', '아모레퍼시픽그룹', '한국전력공사', '현대자동차'])\n",
    "print(stock_name)"
   ]
  },
  {
   "cell_type": "code",
   "execution_count": 33,
   "id": "tPACTaJylQ9q",
   "metadata": {
    "id": "tPACTaJylQ9q"
   },
   "outputs": [],
   "source": [
    "stock_name_df = pd.DataFrame(stock_name)"
   ]
  },
  {
   "cell_type": "code",
   "execution_count": 34,
   "id": "uS4POsSWn_az",
   "metadata": {
    "colab": {
     "base_uri": "https://localhost:8080/",
     "height": 423
    },
    "executionInfo": {
     "elapsed": 5,
     "status": "ok",
     "timestamp": 1638767026593,
     "user": {
      "displayName": "윤은경",
      "photoUrl": "https://lh3.googleusercontent.com/a-/AOh14Gju8h6U-WJVPmrsxirMjcyold1bp570O6BML4Po_A=s64",
      "userId": "17207846883881047074"
     },
     "user_tz": -540
    },
    "id": "uS4POsSWn_az",
    "outputId": "b33f1221-4833-4b09-8d76-e743dee97772"
   },
   "outputs": [
    {
     "data": {
      "text/html": [
       "<div>\n",
       "<style scoped>\n",
       "    .dataframe tbody tr th:only-of-type {\n",
       "        vertical-align: middle;\n",
       "    }\n",
       "\n",
       "    .dataframe tbody tr th {\n",
       "        vertical-align: top;\n",
       "    }\n",
       "\n",
       "    .dataframe thead th {\n",
       "        text-align: right;\n",
       "    }\n",
       "</style>\n",
       "<table border=\"1\" class=\"dataframe\">\n",
       "  <thead>\n",
       "    <tr style=\"text-align: right;\">\n",
       "      <th></th>\n",
       "      <th>회사명</th>\n",
       "    </tr>\n",
       "  </thead>\n",
       "  <tbody>\n",
       "    <tr>\n",
       "      <th>1847</th>\n",
       "      <td>예스피치</td>\n",
       "    </tr>\n",
       "    <tr>\n",
       "      <th>604</th>\n",
       "      <td>제이엠멀티</td>\n",
       "    </tr>\n",
       "    <tr>\n",
       "      <th>2106</th>\n",
       "      <td>툴젠</td>\n",
       "    </tr>\n",
       "    <tr>\n",
       "      <th>676</th>\n",
       "      <td>신한서부티엔디리츠</td>\n",
       "    </tr>\n",
       "    <tr>\n",
       "      <th>963</th>\n",
       "      <td>미래에셋글로벌리츠</td>\n",
       "    </tr>\n",
       "    <tr>\n",
       "      <th>...</th>\n",
       "      <td>...</td>\n",
       "    </tr>\n",
       "    <tr>\n",
       "      <th>304</th>\n",
       "      <td>CJ대한통운</td>\n",
       "    </tr>\n",
       "    <tr>\n",
       "      <th>1587</th>\n",
       "      <td>메리츠화재</td>\n",
       "    </tr>\n",
       "    <tr>\n",
       "      <th>1020</th>\n",
       "      <td>한진중공업홀딩스</td>\n",
       "    </tr>\n",
       "    <tr>\n",
       "      <th>2212</th>\n",
       "      <td>유수홀딩스</td>\n",
       "    </tr>\n",
       "    <tr>\n",
       "      <th>1567</th>\n",
       "      <td>경방</td>\n",
       "    </tr>\n",
       "  </tbody>\n",
       "</table>\n",
       "<p>2484 rows × 1 columns</p>\n",
       "</div>"
      ],
      "text/plain": [
       "            회사명\n",
       "1847       예스피치\n",
       "604       제이엠멀티\n",
       "2106         툴젠\n",
       "676   신한서부티엔디리츠\n",
       "963   미래에셋글로벌리츠\n",
       "...         ...\n",
       "304      CJ대한통운\n",
       "1587      메리츠화재\n",
       "1020   한진중공업홀딩스\n",
       "2212      유수홀딩스\n",
       "1567         경방\n",
       "\n",
       "[2484 rows x 1 columns]"
      ]
     },
     "execution_count": 34,
     "metadata": {},
     "output_type": "execute_result"
    }
   ],
   "source": [
    "df[['회사명']]"
   ]
  },
  {
   "cell_type": "code",
   "execution_count": 35,
   "id": "jM9eyq2FoiPW",
   "metadata": {
    "colab": {
     "base_uri": "https://localhost:8080/",
     "height": 1000
    },
    "executionInfo": {
     "elapsed": 6,
     "status": "ok",
     "timestamp": 1638767026594,
     "user": {
      "displayName": "윤은경",
      "photoUrl": "https://lh3.googleusercontent.com/a-/AOh14Gju8h6U-WJVPmrsxirMjcyold1bp570O6BML4Po_A=s64",
      "userId": "17207846883881047074"
     },
     "user_tz": -540
    },
    "id": "jM9eyq2FoiPW",
    "outputId": "c45aada5-7e0b-4703-c516-2edc7c38ee5f"
   },
   "outputs": [
    {
     "data": {
      "text/html": [
       "<div>\n",
       "<style scoped>\n",
       "    .dataframe tbody tr th:only-of-type {\n",
       "        vertical-align: middle;\n",
       "    }\n",
       "\n",
       "    .dataframe tbody tr th {\n",
       "        vertical-align: top;\n",
       "    }\n",
       "\n",
       "    .dataframe thead th {\n",
       "        text-align: right;\n",
       "    }\n",
       "</style>\n",
       "<table border=\"1\" class=\"dataframe\">\n",
       "  <thead>\n",
       "    <tr style=\"text-align: right;\">\n",
       "      <th></th>\n",
       "      <th>회사명</th>\n",
       "      <th>종목코드</th>\n",
       "      <th>업종</th>\n",
       "      <th>주요제품</th>\n",
       "      <th>상장일</th>\n",
       "      <th>결산월</th>\n",
       "      <th>대표자명</th>\n",
       "      <th>홈페이지</th>\n",
       "      <th>지역</th>\n",
       "      <th>Work</th>\n",
       "    </tr>\n",
       "  </thead>\n",
       "  <tbody>\n",
       "    <tr>\n",
       "      <th>378</th>\n",
       "      <td>포스코케미칼</td>\n",
       "      <td>003670</td>\n",
       "      <td>내화, 비내화 요업제품 제조업</td>\n",
       "      <td>내화물, 생석회, 음극재 및 양극재</td>\n",
       "      <td>2019-05-29</td>\n",
       "      <td>12월</td>\n",
       "      <td>민경준</td>\n",
       "      <td>http://www.poscochemical.com/</td>\n",
       "      <td>경상북도</td>\n",
       "      <td>내화, 비내화 요업제품 제조업내화물, 생석회, 음극재 및 양극재</td>\n",
       "    </tr>\n",
       "    <tr>\n",
       "      <th>1945</th>\n",
       "      <td>현대오토에버</td>\n",
       "      <td>307950</td>\n",
       "      <td>소프트웨어 개발 및 공급업</td>\n",
       "      <td>전산실운영, 시스템구축, 전산장비 납품, SOC/건축 사업</td>\n",
       "      <td>2019-03-28</td>\n",
       "      <td>12월</td>\n",
       "      <td>서정식</td>\n",
       "      <td>http://www.hyundai-autoever.com</td>\n",
       "      <td>서울특별시</td>\n",
       "      <td>소프트웨어 개발 및 공급업전산실운영, 시스템구축, 전산장비 납품, SOC/건축 사업</td>\n",
       "    </tr>\n",
       "    <tr>\n",
       "      <th>1294</th>\n",
       "      <td>우리금융지주</td>\n",
       "      <td>316140</td>\n",
       "      <td>기타 금융업</td>\n",
       "      <td>금융지주</td>\n",
       "      <td>2019-02-13</td>\n",
       "      <td>12월</td>\n",
       "      <td>손태승</td>\n",
       "      <td>http://www.woorifg.com/</td>\n",
       "      <td>서울특별시</td>\n",
       "      <td>기타 금융업금융지주</td>\n",
       "    </tr>\n",
       "    <tr>\n",
       "      <th>979</th>\n",
       "      <td>셀트리온</td>\n",
       "      <td>068270</td>\n",
       "      <td>기초 의약물질 및 생물학적 제제 제조업</td>\n",
       "      <td>램시마, 트룩시마, 허쥬마</td>\n",
       "      <td>2018-02-09</td>\n",
       "      <td>12월</td>\n",
       "      <td>기우성</td>\n",
       "      <td>http://www.celltrion.com</td>\n",
       "      <td>인천광역시</td>\n",
       "      <td>기초 의약물질 및 생물학적 제제 제조업램시마, 트룩시마, 허쥬마</td>\n",
       "    </tr>\n",
       "    <tr>\n",
       "      <th>1305</th>\n",
       "      <td>카카오</td>\n",
       "      <td>035720</td>\n",
       "      <td>자료처리, 호스팅, 포털 및 기타 인터넷 정보매개 서비스업</td>\n",
       "      <td>인터넷 서비스(인터넷 광고)</td>\n",
       "      <td>2017-07-10</td>\n",
       "      <td>12월</td>\n",
       "      <td>여민수, 조수용</td>\n",
       "      <td>http://www.kakaocorp.com</td>\n",
       "      <td>제주특별자치도</td>\n",
       "      <td>자료처리, 호스팅, 포털 및 기타 인터넷 정보매개 서비스업인터넷 서비스(인터넷 광고)</td>\n",
       "    </tr>\n",
       "    <tr>\n",
       "      <th>...</th>\n",
       "      <td>...</td>\n",
       "      <td>...</td>\n",
       "      <td>...</td>\n",
       "      <td>...</td>\n",
       "      <td>...</td>\n",
       "      <td>...</td>\n",
       "      <td>...</td>\n",
       "      <td>...</td>\n",
       "      <td>...</td>\n",
       "      <td>...</td>\n",
       "    </tr>\n",
       "    <tr>\n",
       "      <th>2198</th>\n",
       "      <td>아모레퍼시픽그룹</td>\n",
       "      <td>002790</td>\n",
       "      <td>기타 화학제품 제조업</td>\n",
       "      <td>지주회사</td>\n",
       "      <td>1973-04-30</td>\n",
       "      <td>12월</td>\n",
       "      <td>서경배, 김승환</td>\n",
       "      <td>http://www.apgroup.com</td>\n",
       "      <td>서울특별시</td>\n",
       "      <td>기타 화학제품 제조업지주회사</td>\n",
       "    </tr>\n",
       "    <tr>\n",
       "      <th>1861</th>\n",
       "      <td>LG</td>\n",
       "      <td>003550</td>\n",
       "      <td>기타 금융업</td>\n",
       "      <td>지주회사</td>\n",
       "      <td>1970-02-13</td>\n",
       "      <td>12월</td>\n",
       "      <td>구광모</td>\n",
       "      <td>http://www.lg.co.kr</td>\n",
       "      <td>서울특별시</td>\n",
       "      <td>기타 금융업지주회사</td>\n",
       "    </tr>\n",
       "    <tr>\n",
       "      <th>949</th>\n",
       "      <td>대한항공</td>\n",
       "      <td>003490</td>\n",
       "      <td>항공 여객 운송업</td>\n",
       "      <td>여객운송,화물운송,항공기 제조,판매,정비수리/기내식 제조판매,면세품 판매</td>\n",
       "      <td>1966-03-18</td>\n",
       "      <td>12월</td>\n",
       "      <td>조원태, 우기홍</td>\n",
       "      <td>http://www.koreanair.com</td>\n",
       "      <td>서울특별시</td>\n",
       "      <td>항공 여객 운송업여객운송,화물운송,항공기 제조,판매,정비수리/기내식 제조판매,면세품 판매</td>\n",
       "    </tr>\n",
       "    <tr>\n",
       "      <th>1297</th>\n",
       "      <td>유한양행</td>\n",
       "      <td>000100</td>\n",
       "      <td>의약품 제조업</td>\n",
       "      <td>의약품(삐콤씨, 안티푸라민, 렉라자, 로수바미브, 코푸시럽 등), 생활용품(유한락스...</td>\n",
       "      <td>1962-11-01</td>\n",
       "      <td>12월</td>\n",
       "      <td>대표이사 조욱제</td>\n",
       "      <td>http://www.yuhan.co.kr</td>\n",
       "      <td>서울특별시</td>\n",
       "      <td>의약품 제조업의약품(삐콤씨, 안티푸라민, 렉라자, 로수바미브, 코푸시럽 등), 생활...</td>\n",
       "    </tr>\n",
       "    <tr>\n",
       "      <th>1587</th>\n",
       "      <td>메리츠화재</td>\n",
       "      <td>000060</td>\n",
       "      <td>보험업</td>\n",
       "      <td>손해보험(화재,해상,운송보험)</td>\n",
       "      <td>1956-07-02</td>\n",
       "      <td>12월</td>\n",
       "      <td>김용범</td>\n",
       "      <td>http://www.meritzfire.com</td>\n",
       "      <td>서울특별시</td>\n",
       "      <td>보험업손해보험(화재,해상,운송보험)</td>\n",
       "    </tr>\n",
       "  </tbody>\n",
       "</table>\n",
       "<p>86 rows × 10 columns</p>\n",
       "</div>"
      ],
      "text/plain": [
       "           회사명    종목코드                                업종  \\\n",
       "378     포스코케미칼  003670                  내화, 비내화 요업제품 제조업   \n",
       "1945    현대오토에버  307950                    소프트웨어 개발 및 공급업   \n",
       "1294    우리금융지주  316140                            기타 금융업   \n",
       "979       셀트리온  068270             기초 의약물질 및 생물학적 제제 제조업   \n",
       "1305       카카오  035720  자료처리, 호스팅, 포털 및 기타 인터넷 정보매개 서비스업   \n",
       "...        ...     ...                               ...   \n",
       "2198  아모레퍼시픽그룹  002790                       기타 화학제품 제조업   \n",
       "1861        LG  003550                            기타 금융업   \n",
       "949       대한항공  003490                         항공 여객 운송업   \n",
       "1297      유한양행  000100                           의약품 제조업   \n",
       "1587     메리츠화재  000060                               보험업   \n",
       "\n",
       "                                                   주요제품         상장일  결산월  \\\n",
       "378                                 내화물, 생석회, 음극재 및 양극재  2019-05-29  12월   \n",
       "1945                   전산실운영, 시스템구축, 전산장비 납품, SOC/건축 사업  2019-03-28  12월   \n",
       "1294                                               금융지주  2019-02-13  12월   \n",
       "979                                      램시마, 트룩시마, 허쥬마  2018-02-09  12월   \n",
       "1305                                    인터넷 서비스(인터넷 광고)  2017-07-10  12월   \n",
       "...                                                 ...         ...  ...   \n",
       "2198                                               지주회사  1973-04-30  12월   \n",
       "1861                                               지주회사  1970-02-13  12월   \n",
       "949            여객운송,화물운송,항공기 제조,판매,정비수리/기내식 제조판매,면세품 판매  1966-03-18  12월   \n",
       "1297  의약품(삐콤씨, 안티푸라민, 렉라자, 로수바미브, 코푸시럽 등), 생활용품(유한락스...  1962-11-01  12월   \n",
       "1587                                   손해보험(화재,해상,운송보험)  1956-07-02  12월   \n",
       "\n",
       "          대표자명                             홈페이지       지역  \\\n",
       "378        민경준    http://www.poscochemical.com/     경상북도   \n",
       "1945       서정식  http://www.hyundai-autoever.com    서울특별시   \n",
       "1294       손태승          http://www.woorifg.com/    서울특별시   \n",
       "979        기우성         http://www.celltrion.com    인천광역시   \n",
       "1305  여민수, 조수용         http://www.kakaocorp.com  제주특별자치도   \n",
       "...        ...                              ...      ...   \n",
       "2198  서경배, 김승환           http://www.apgroup.com    서울특별시   \n",
       "1861       구광모              http://www.lg.co.kr    서울특별시   \n",
       "949   조원태, 우기홍         http://www.koreanair.com    서울특별시   \n",
       "1297  대표이사 조욱제           http://www.yuhan.co.kr    서울특별시   \n",
       "1587       김용범        http://www.meritzfire.com    서울특별시   \n",
       "\n",
       "                                                   Work  \n",
       "378                 내화, 비내화 요업제품 제조업내화물, 생석회, 음극재 및 양극재  \n",
       "1945     소프트웨어 개발 및 공급업전산실운영, 시스템구축, 전산장비 납품, SOC/건축 사업  \n",
       "1294                                         기타 금융업금융지주  \n",
       "979                 기초 의약물질 및 생물학적 제제 제조업램시마, 트룩시마, 허쥬마  \n",
       "1305    자료처리, 호스팅, 포털 및 기타 인터넷 정보매개 서비스업인터넷 서비스(인터넷 광고)  \n",
       "...                                                 ...  \n",
       "2198                                    기타 화학제품 제조업지주회사  \n",
       "1861                                         기타 금융업지주회사  \n",
       "949   항공 여객 운송업여객운송,화물운송,항공기 제조,판매,정비수리/기내식 제조판매,면세품 판매  \n",
       "1297  의약품 제조업의약품(삐콤씨, 안티푸라민, 렉라자, 로수바미브, 코푸시럽 등), 생활...  \n",
       "1587                                보험업손해보험(화재,해상,운송보험)  \n",
       "\n",
       "[86 rows x 10 columns]"
      ]
     },
     "execution_count": 35,
     "metadata": {},
     "output_type": "execute_result"
    }
   ],
   "source": [
    "stock_df = df[df['회사명'].isin(stock_name)]\n",
    "stock_df[stock_df['상장일']<='2020-01-01']"
   ]
  },
  {
   "cell_type": "code",
   "execution_count": 36,
   "id": "Kvh2qlKEotdC",
   "metadata": {
    "colab": {
     "base_uri": "https://localhost:8080/"
    },
    "executionInfo": {
     "elapsed": 3,
     "status": "ok",
     "timestamp": 1638767027053,
     "user": {
      "displayName": "윤은경",
      "photoUrl": "https://lh3.googleusercontent.com/a-/AOh14Gju8h6U-WJVPmrsxirMjcyold1bp570O6BML4Po_A=s64",
      "userId": "17207846883881047074"
     },
     "user_tz": -540
    },
    "id": "Kvh2qlKEotdC",
    "outputId": "628cd4a6-9a79-4c2a-a11b-3bd61016658e"
   },
   "outputs": [
    {
     "data": {
      "text/plain": [
       "110"
      ]
     },
     "execution_count": 36,
     "metadata": {},
     "output_type": "execute_result"
    }
   ],
   "source": [
    "len(stock_name)"
   ]
  },
  {
   "cell_type": "code",
   "execution_count": 37,
   "id": "NgBhfTtQpTDb",
   "metadata": {
    "colab": {
     "base_uri": "https://localhost:8080/",
     "height": 167
    },
    "executionInfo": {
     "elapsed": 281,
     "status": "ok",
     "timestamp": 1638767100932,
     "user": {
      "displayName": "윤은경",
      "photoUrl": "https://lh3.googleusercontent.com/a-/AOh14Gju8h6U-WJVPmrsxirMjcyold1bp570O6BML4Po_A=s64",
      "userId": "17207846883881047074"
     },
     "user_tz": -540
    },
    "id": "NgBhfTtQpTDb",
    "outputId": "34a9aab0-37bf-403d-c87d-979acea34310"
   },
   "outputs": [
    {
     "data": {
      "text/html": [
       "<div>\n",
       "<style scoped>\n",
       "    .dataframe tbody tr th:only-of-type {\n",
       "        vertical-align: middle;\n",
       "    }\n",
       "\n",
       "    .dataframe tbody tr th {\n",
       "        vertical-align: top;\n",
       "    }\n",
       "\n",
       "    .dataframe thead th {\n",
       "        text-align: right;\n",
       "    }\n",
       "</style>\n",
       "<table border=\"1\" class=\"dataframe\">\n",
       "  <thead>\n",
       "    <tr style=\"text-align: right;\">\n",
       "      <th></th>\n",
       "      <th>회사명</th>\n",
       "      <th>종목코드</th>\n",
       "      <th>업종</th>\n",
       "      <th>주요제품</th>\n",
       "      <th>상장일</th>\n",
       "      <th>결산월</th>\n",
       "      <th>대표자명</th>\n",
       "      <th>홈페이지</th>\n",
       "      <th>지역</th>\n",
       "      <th>Work</th>\n",
       "    </tr>\n",
       "  </thead>\n",
       "  <tbody>\n",
       "    <tr>\n",
       "      <th>969</th>\n",
       "      <td>삼성전자</td>\n",
       "      <td>005930</td>\n",
       "      <td>통신 및 방송 장비 제조업</td>\n",
       "      <td>IMT2000 서비스용 동기식 기지국,교환국장비,데이터단말기,동영상휴대폰,핵심칩,반...</td>\n",
       "      <td>1975-06-11</td>\n",
       "      <td>12월</td>\n",
       "      <td>김기남, 김현석, 고동진</td>\n",
       "      <td>http://www.sec.co.kr</td>\n",
       "      <td>경기도</td>\n",
       "      <td>통신 및 방송 장비 제조업IMT2000 서비스용 동기식 기지국,교환국장비,데이터단말...</td>\n",
       "    </tr>\n",
       "  </tbody>\n",
       "</table>\n",
       "</div>"
      ],
      "text/plain": [
       "      회사명    종목코드              업종  \\\n",
       "969  삼성전자  005930  통신 및 방송 장비 제조업   \n",
       "\n",
       "                                                  주요제품         상장일  결산월  \\\n",
       "969  IMT2000 서비스용 동기식 기지국,교환국장비,데이터단말기,동영상휴대폰,핵심칩,반...  1975-06-11  12월   \n",
       "\n",
       "              대표자명                  홈페이지   지역  \\\n",
       "969  김기남, 김현석, 고동진  http://www.sec.co.kr  경기도   \n",
       "\n",
       "                                                  Work  \n",
       "969  통신 및 방송 장비 제조업IMT2000 서비스용 동기식 기지국,교환국장비,데이터단말...  "
      ]
     },
     "execution_count": 37,
     "metadata": {},
     "output_type": "execute_result"
    }
   ],
   "source": [
    "df[df['회사명']==\"삼성전자\"]"
   ]
  },
  {
   "cell_type": "code",
   "execution_count": 38,
   "id": "Qi7l-gUHpodd",
   "metadata": {
    "colab": {
     "base_uri": "https://localhost:8080/"
    },
    "executionInfo": {
     "elapsed": 3,
     "status": "ok",
     "timestamp": 1638767028152,
     "user": {
      "displayName": "윤은경",
      "photoUrl": "https://lh3.googleusercontent.com/a-/AOh14Gju8h6U-WJVPmrsxirMjcyold1bp570O6BML4Po_A=s64",
      "userId": "17207846883881047074"
     },
     "user_tz": -540
    },
    "id": "Qi7l-gUHpodd",
    "outputId": "c2d118ea-f241-4a87-c8cf-6a0e77e854bf"
   },
   "outputs": [
    {
     "data": {
      "text/plain": [
       "{'KODEX 200',\n",
       " 'KT',\n",
       " 'KT&G',\n",
       " 'POSCO',\n",
       " 'SK바이오팜',\n",
       " '금호석유',\n",
       " '삼성전자우',\n",
       " '삼성화재',\n",
       " '쌍용C&E',\n",
       " '아모레G',\n",
       " '한국전력',\n",
       " '현대차',\n",
       " '현대차2우B'}"
      ]
     },
     "execution_count": 38,
     "metadata": {},
     "output_type": "execute_result"
    }
   ],
   "source": [
    "set(stock_name) - set(stock_df['회사명'].unique())"
   ]
  },
  {
   "cell_type": "code",
   "execution_count": 39,
   "id": "6fDmC_NBqNQq",
   "metadata": {
    "colab": {
     "base_uri": "https://localhost:8080/",
     "height": 49
    },
    "executionInfo": {
     "elapsed": 282,
     "status": "ok",
     "timestamp": 1638767068364,
     "user": {
      "displayName": "윤은경",
      "photoUrl": "https://lh3.googleusercontent.com/a-/AOh14Gju8h6U-WJVPmrsxirMjcyold1bp570O6BML4Po_A=s64",
      "userId": "17207846883881047074"
     },
     "user_tz": -540
    },
    "id": "6fDmC_NBqNQq",
    "outputId": "d2c33861-3624-42e6-a135-2ae2ed7c59c4"
   },
   "outputs": [
    {
     "data": {
      "text/html": [
       "<div>\n",
       "<style scoped>\n",
       "    .dataframe tbody tr th:only-of-type {\n",
       "        vertical-align: middle;\n",
       "    }\n",
       "\n",
       "    .dataframe tbody tr th {\n",
       "        vertical-align: top;\n",
       "    }\n",
       "\n",
       "    .dataframe thead th {\n",
       "        text-align: right;\n",
       "    }\n",
       "</style>\n",
       "<table border=\"1\" class=\"dataframe\">\n",
       "  <thead>\n",
       "    <tr style=\"text-align: right;\">\n",
       "      <th></th>\n",
       "      <th>회사명</th>\n",
       "      <th>종목코드</th>\n",
       "      <th>업종</th>\n",
       "      <th>주요제품</th>\n",
       "      <th>상장일</th>\n",
       "      <th>결산월</th>\n",
       "      <th>대표자명</th>\n",
       "      <th>홈페이지</th>\n",
       "      <th>지역</th>\n",
       "      <th>Work</th>\n",
       "    </tr>\n",
       "  </thead>\n",
       "  <tbody>\n",
       "  </tbody>\n",
       "</table>\n",
       "</div>"
      ],
      "text/plain": [
       "Empty DataFrame\n",
       "Columns: [회사명, 종목코드, 업종, 주요제품, 상장일, 결산월, 대표자명, 홈페이지, 지역, Work]\n",
       "Index: []"
      ]
     },
     "execution_count": 39,
     "metadata": {},
     "output_type": "execute_result"
    }
   ],
   "source": [
    "df[df['종목코드']=='005387']"
   ]
  },
  {
   "cell_type": "markdown",
   "id": "fFDDGvD20Dr3",
   "metadata": {
    "id": "fFDDGvD20Dr3"
   },
   "source": [
    "---\n",
    "## 7000개 나오는 거"
   ]
  },
  {
   "cell_type": "code",
   "execution_count": 40,
   "id": "1BDD6VgJqZ-9",
   "metadata": {
    "colab": {
     "base_uri": "https://localhost:8080/"
    },
    "executionInfo": {
     "elapsed": 4424,
     "status": "ok",
     "timestamp": 1639059597425,
     "user": {
      "displayName": "윤은경",
      "photoUrl": "https://lh3.googleusercontent.com/a-/AOh14Gju8h6U-WJVPmrsxirMjcyold1bp570O6BML4Po_A=s64",
      "userId": "17207846883881047074"
     },
     "user_tz": -540
    },
    "id": "1BDD6VgJqZ-9",
    "outputId": "1ad5f859-90d2-4388-bdc6-da0885b34d6a"
   },
   "outputs": [
    {
     "name": "stdout",
     "output_type": "stream",
     "text": [
      "Requirement already satisfied: finance-datareader in c:\\programdata\\anaconda3\\lib\\site-packages (0.9.31)"
     ]
    },
    {
     "name": "stderr",
     "output_type": "stream",
     "text": [
      "WARNING: Ignoring invalid distribution -weepy (c:\\programdata\\anaconda3\\lib\\site-packages)\n",
      "WARNING: Ignoring invalid distribution -pype1 (c:\\programdata\\anaconda3\\lib\\site-packages)\n",
      "WARNING: Ignoring invalid distribution - (c:\\programdata\\anaconda3\\lib\\site-packages)\n",
      "WARNING: Ignoring invalid distribution -weepy (c:\\programdata\\anaconda3\\lib\\site-packages)\n",
      "WARNING: Ignoring invalid distribution -pype1 (c:\\programdata\\anaconda3\\lib\\site-packages)\n",
      "WARNING: Ignoring invalid distribution - (c:\\programdata\\anaconda3\\lib\\site-packages)\n",
      "WARNING: Ignoring invalid distribution -weepy (c:\\programdata\\anaconda3\\lib\\site-packages)\n",
      "WARNING: Ignoring invalid distribution -pype1 (c:\\programdata\\anaconda3\\lib\\site-packages)\n",
      "WARNING: Ignoring invalid distribution - (c:\\programdata\\anaconda3\\lib\\site-packages)\n",
      "WARNING: Ignoring invalid distribution -weepy (c:\\programdata\\anaconda3\\lib\\site-packages)\n",
      "WARNING: Ignoring invalid distribution -pype1 (c:\\programdata\\anaconda3\\lib\\site-packages)\n",
      "WARNING: Ignoring invalid distribution - (c:\\programdata\\anaconda3\\lib\\site-packages)\n",
      "WARNING: Ignoring invalid distribution -weepy (c:\\programdata\\anaconda3\\lib\\site-packages)\n",
      "WARNING: Ignoring invalid distribution -pype1 (c:\\programdata\\anaconda3\\lib\\site-packages)\n",
      "WARNING: Ignoring invalid distribution - (c:\\programdata\\anaconda3\\lib\\site-packages)\n"
     ]
    },
    {
     "name": "stdout",
     "output_type": "stream",
     "text": [
      "\n",
      "Requirement already satisfied: lxml in c:\\programdata\\anaconda3\\lib\\site-packages (from finance-datareader) (4.6.3)\n",
      "Requirement already satisfied: requests>=2.3.0 in c:\\programdata\\anaconda3\\lib\\site-packages (from finance-datareader) (2.25.1)\n",
      "Requirement already satisfied: pandas>=0.19.2 in c:\\programdata\\anaconda3\\lib\\site-packages (from finance-datareader) (1.2.4)\n",
      "Requirement already satisfied: tqdm in c:\\programdata\\anaconda3\\lib\\site-packages (from finance-datareader) (4.59.0)\n",
      "Requirement already satisfied: requests-file in c:\\programdata\\anaconda3\\lib\\site-packages (from finance-datareader) (1.5.1)\n",
      "Requirement already satisfied: pytz>=2017.3 in c:\\programdata\\anaconda3\\lib\\site-packages (from pandas>=0.19.2->finance-datareader) (2021.1)\n",
      "Requirement already satisfied: numpy>=1.16.5 in c:\\programdata\\anaconda3\\lib\\site-packages (from pandas>=0.19.2->finance-datareader) (1.20.1)\n",
      "Requirement already satisfied: python-dateutil>=2.7.3 in c:\\programdata\\anaconda3\\lib\\site-packages (from pandas>=0.19.2->finance-datareader) (2.8.1)\n",
      "Requirement already satisfied: certifi>=2017.4.17 in c:\\programdata\\anaconda3\\lib\\site-packages (from requests>=2.3.0->finance-datareader) (2020.12.5)\n",
      "Requirement already satisfied: idna<3,>=2.5 in c:\\programdata\\anaconda3\\lib\\site-packages (from requests>=2.3.0->finance-datareader) (2.10)\n",
      "Requirement already satisfied: urllib3<1.27,>=1.21.1 in c:\\programdata\\anaconda3\\lib\\site-packages (from requests>=2.3.0->finance-datareader) (1.26.4)\n",
      "Requirement already satisfied: chardet<5,>=3.0.2 in c:\\programdata\\anaconda3\\lib\\site-packages (from requests>=2.3.0->finance-datareader) (4.0.0)\n",
      "Requirement already satisfied: six in c:\\programdata\\anaconda3\\lib\\site-packages (from requests-file->finance-datareader) (1.15.0)\n"
     ]
    }
   ],
   "source": [
    "!pip install finance-datareader"
   ]
  },
  {
   "cell_type": "code",
   "execution_count": null,
   "id": "TIBzyljK8frs",
   "metadata": {
    "id": "TIBzyljK8frs"
   },
   "outputs": [],
   "source": [
    "import FinanceDataReader as fdr"
   ]
  },
  {
   "cell_type": "code",
   "execution_count": null,
   "id": "ZkDcfTy9z2JR",
   "metadata": {
    "id": "ZkDcfTy9z2JR"
   },
   "outputs": [],
   "source": [
    "df_krx = fdr.StockListing(\"KRX\")\n",
    "kospi_data = df_krx[df_krx['Market']=='KOSPI']"
   ]
  },
  {
   "cell_type": "code",
   "execution_count": null,
   "id": "28_uzCi6mV5e",
   "metadata": {
    "colab": {
     "base_uri": "https://localhost:8080/",
     "height": 545
    },
    "executionInfo": {
     "elapsed": 277,
     "status": "ok",
     "timestamp": 1639060174848,
     "user": {
      "displayName": "윤은경",
      "photoUrl": "https://lh3.googleusercontent.com/a-/AOh14Gju8h6U-WJVPmrsxirMjcyold1bp570O6BML4Po_A=s64",
      "userId": "17207846883881047074"
     },
     "user_tz": -540
    },
    "id": "28_uzCi6mV5e",
    "outputId": "cab4bb66-bf00-47ca-ec30-0f2d0cadf017"
   },
   "outputs": [
    {
     "data": {
      "text/html": [
       "<div>\n",
       "<style scoped>\n",
       "    .dataframe tbody tr th:only-of-type {\n",
       "        vertical-align: middle;\n",
       "    }\n",
       "\n",
       "    .dataframe tbody tr th {\n",
       "        vertical-align: top;\n",
       "    }\n",
       "\n",
       "    .dataframe thead th {\n",
       "        text-align: right;\n",
       "    }\n",
       "</style>\n",
       "<table border=\"1\" class=\"dataframe\">\n",
       "  <thead>\n",
       "    <tr style=\"text-align: right;\">\n",
       "      <th></th>\n",
       "      <th>Symbol</th>\n",
       "      <th>Market</th>\n",
       "      <th>Name</th>\n",
       "      <th>Sector</th>\n",
       "      <th>Industry</th>\n",
       "      <th>ListingDate</th>\n",
       "      <th>SettleMonth</th>\n",
       "      <th>Representative</th>\n",
       "      <th>HomePage</th>\n",
       "      <th>Region</th>\n",
       "    </tr>\n",
       "  </thead>\n",
       "  <tbody>\n",
       "    <tr>\n",
       "      <th>1</th>\n",
       "      <td>095570</td>\n",
       "      <td>KOSPI</td>\n",
       "      <td>AJ네트웍스</td>\n",
       "      <td>산업용 기계 및 장비 임대업</td>\n",
       "      <td>렌탈(파렛트, OA장비, 건설장비)</td>\n",
       "      <td>2015-08-21</td>\n",
       "      <td>12월</td>\n",
       "      <td>박대현</td>\n",
       "      <td>http://www.ajnet.co.kr</td>\n",
       "      <td>서울특별시</td>\n",
       "    </tr>\n",
       "    <tr>\n",
       "      <th>2</th>\n",
       "      <td>006840</td>\n",
       "      <td>KOSPI</td>\n",
       "      <td>AK홀딩스</td>\n",
       "      <td>기타 금융업</td>\n",
       "      <td>지주사업</td>\n",
       "      <td>1999-08-11</td>\n",
       "      <td>12월</td>\n",
       "      <td>채형석, 이석주(각자 대표이사)</td>\n",
       "      <td>http://www.aekyunggroup.co.kr</td>\n",
       "      <td>서울특별시</td>\n",
       "    </tr>\n",
       "    <tr>\n",
       "      <th>6</th>\n",
       "      <td>152100</td>\n",
       "      <td>KOSPI</td>\n",
       "      <td>ARIRANG 200</td>\n",
       "      <td>NaN</td>\n",
       "      <td>NaN</td>\n",
       "      <td>NaT</td>\n",
       "      <td>NaN</td>\n",
       "      <td>NaN</td>\n",
       "      <td>NaN</td>\n",
       "      <td>NaN</td>\n",
       "    </tr>\n",
       "    <tr>\n",
       "      <th>7</th>\n",
       "      <td>295820</td>\n",
       "      <td>KOSPI</td>\n",
       "      <td>ARIRANG 200동일가중</td>\n",
       "      <td>NaN</td>\n",
       "      <td>NaN</td>\n",
       "      <td>NaT</td>\n",
       "      <td>NaN</td>\n",
       "      <td>NaN</td>\n",
       "      <td>NaN</td>\n",
       "      <td>NaN</td>\n",
       "    </tr>\n",
       "    <tr>\n",
       "      <th>8</th>\n",
       "      <td>253150</td>\n",
       "      <td>KOSPI</td>\n",
       "      <td>ARIRANG 200선물레버리지</td>\n",
       "      <td>NaN</td>\n",
       "      <td>NaN</td>\n",
       "      <td>NaT</td>\n",
       "      <td>NaN</td>\n",
       "      <td>NaN</td>\n",
       "      <td>NaN</td>\n",
       "      <td>NaN</td>\n",
       "    </tr>\n",
       "    <tr>\n",
       "      <th>...</th>\n",
       "      <td>...</td>\n",
       "      <td>...</td>\n",
       "      <td>...</td>\n",
       "      <td>...</td>\n",
       "      <td>...</td>\n",
       "      <td>...</td>\n",
       "      <td>...</td>\n",
       "      <td>...</td>\n",
       "      <td>...</td>\n",
       "      <td>...</td>\n",
       "    </tr>\n",
       "    <tr>\n",
       "      <th>7086</th>\n",
       "      <td>069260</td>\n",
       "      <td>KOSPI</td>\n",
       "      <td>휴켐스</td>\n",
       "      <td>기타 화학제품 제조업</td>\n",
       "      <td>화합물,화학제품 제조</td>\n",
       "      <td>2002-10-07</td>\n",
       "      <td>12월</td>\n",
       "      <td>이건호</td>\n",
       "      <td>http://www.huchems.com</td>\n",
       "      <td>서울특별시</td>\n",
       "    </tr>\n",
       "    <tr>\n",
       "      <th>7090</th>\n",
       "      <td>000540</td>\n",
       "      <td>KOSPI</td>\n",
       "      <td>흥국화재</td>\n",
       "      <td>보험업</td>\n",
       "      <td>손해보험</td>\n",
       "      <td>1974-12-05</td>\n",
       "      <td>12월</td>\n",
       "      <td>권중원</td>\n",
       "      <td>http://www.insurance.co.kr</td>\n",
       "      <td>서울특별시</td>\n",
       "    </tr>\n",
       "    <tr>\n",
       "      <th>7091</th>\n",
       "      <td>000547</td>\n",
       "      <td>KOSPI</td>\n",
       "      <td>흥국화재2우B</td>\n",
       "      <td>NaN</td>\n",
       "      <td>NaN</td>\n",
       "      <td>NaT</td>\n",
       "      <td>NaN</td>\n",
       "      <td>NaN</td>\n",
       "      <td>NaN</td>\n",
       "      <td>NaN</td>\n",
       "    </tr>\n",
       "    <tr>\n",
       "      <th>7092</th>\n",
       "      <td>000545</td>\n",
       "      <td>KOSPI</td>\n",
       "      <td>흥국화재우</td>\n",
       "      <td>NaN</td>\n",
       "      <td>NaN</td>\n",
       "      <td>NaT</td>\n",
       "      <td>NaN</td>\n",
       "      <td>NaN</td>\n",
       "      <td>NaN</td>\n",
       "      <td>NaN</td>\n",
       "    </tr>\n",
       "    <tr>\n",
       "      <th>7093</th>\n",
       "      <td>003280</td>\n",
       "      <td>KOSPI</td>\n",
       "      <td>흥아해운</td>\n",
       "      <td>해상 운송업</td>\n",
       "      <td>외항화물운송업(케미컬탱커)</td>\n",
       "      <td>1976-06-29</td>\n",
       "      <td>12월</td>\n",
       "      <td>이환구</td>\n",
       "      <td>http://www.heung-a.com</td>\n",
       "      <td>서울특별시</td>\n",
       "    </tr>\n",
       "  </tbody>\n",
       "</table>\n",
       "<p>5416 rows × 10 columns</p>\n",
       "</div>"
      ],
      "text/plain": [
       "      Symbol Market  ...                       HomePage Region\n",
       "1     095570  KOSPI  ...         http://www.ajnet.co.kr  서울특별시\n",
       "2     006840  KOSPI  ...  http://www.aekyunggroup.co.kr  서울특별시\n",
       "6     152100  KOSPI  ...                            NaN    NaN\n",
       "7     295820  KOSPI  ...                            NaN    NaN\n",
       "8     253150  KOSPI  ...                            NaN    NaN\n",
       "...      ...    ...  ...                            ...    ...\n",
       "7086  069260  KOSPI  ...         http://www.huchems.com  서울특별시\n",
       "7090  000540  KOSPI  ...     http://www.insurance.co.kr  서울특별시\n",
       "7091  000547  KOSPI  ...                            NaN    NaN\n",
       "7092  000545  KOSPI  ...                            NaN    NaN\n",
       "7093  003280  KOSPI  ...         http://www.heung-a.com  서울특별시\n",
       "\n",
       "[5416 rows x 10 columns]"
      ]
     },
     "execution_count": 10,
     "metadata": {},
     "output_type": "execute_result"
    }
   ],
   "source": [
    "kospi_data"
   ]
  },
  {
   "cell_type": "code",
   "execution_count": null,
   "id": "lQ6qLCDFkTdZ",
   "metadata": {
    "id": "lQ6qLCDFkTdZ"
   },
   "outputs": [],
   "source": [
    "kospi_data.to_csv('stockList.csv')"
   ]
  },
  {
   "cell_type": "code",
   "execution_count": null,
   "id": "pP0LGlHZ0c-I",
   "metadata": {
    "id": "pP0LGlHZ0c-I"
   },
   "outputs": [],
   "source": [
    "# 회사명 (Name, Symbol) -> .txt\n",
    "import pandas as pd\n",
    "df_krx[['Name', 'Symbol']].to_csv('stockList.txt', index = False)"
   ]
  }
 ],
 "metadata": {
  "colab": {
   "collapsed_sections": [],
   "name": "test.ipynb",
   "provenance": []
  },
  "kernelspec": {
   "display_name": "Python 3",
   "language": "python",
   "name": "python3"
  },
  "language_info": {
   "codemirror_mode": {
    "name": "ipython",
    "version": 3
   },
   "file_extension": ".py",
   "mimetype": "text/x-python",
   "name": "python",
   "nbconvert_exporter": "python",
   "pygments_lexer": "ipython3",
   "version": "3.8.8"
  }
 },
 "nbformat": 4,
 "nbformat_minor": 5
}
