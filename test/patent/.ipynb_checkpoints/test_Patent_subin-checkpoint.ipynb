{
 "cells": [
  {
   "cell_type": "code",
   "execution_count": 8,
   "id": "8e3f4f5e",
   "metadata": {},
   "outputs": [],
   "source": [
    "from selenium import webdriver\n",
    "from selenium.webdriver.support.ui import Select\n",
    "from selenium.webdriver.common.keys import Keys\n",
    "from IPython.display import Image\n",
    "from bs4 import BeautifulSoup\n",
    "import pandas as pd\n",
    "from datetime import datetime"
   ]
  },
  {
   "cell_type": "code",
   "execution_count": 51,
   "id": "f613d9a3",
   "metadata": {},
   "outputs": [],
   "source": [
    "# webdriver를 이용해 kipris 접속\n",
    "driver_path = r'D:\\DevRoot\\download\\chromedriver.exe'\n",
    "try: \n",
    "    driver = webdriver.Chrome(driver_path)\n",
    "except(Exception):\n",
    "    driver_path = r'C:\\DevRoot\\download\\chromedriver.exe'\n",
    "    driver = webdriver.Chrome(driver_path)\n",
    "finally:\n",
    "    driver.get(\"http://kpat.kipris.or.kr/kpat/searchLogina.do?next=MainSearch#page1\")"
   ]
  },
  {
   "cell_type": "code",
   "execution_count": 43,
   "id": "717c8773",
   "metadata": {},
   "outputs": [],
   "source": [
    "# 기간을 검색어로 입력\n",
    "today = datetime.today().strftime(\"%Y%m%d\")\n",
    "decade = str(int(today) - int('00100000'))\n",
    "driver.find_element_by_css_selector('.keyword').send_keys(f'GD=[{decade}~{today}]')\n",
    "driver.find_element_by_css_selector('.input_btn img').click()\n",
    "\n",
    "# 90개씩 보기 선택\n",
    "select = Select(driver.find_element_by_id('opt28'))\n",
    "select.select_by_value('90')\n",
    "driver.find_element_by_css_selector('#pageSel img').click()"
   ]
  },
  {
   "cell_type": "code",
   "execution_count": 44,
   "id": "35010978",
   "metadata": {},
   "outputs": [],
   "source": [
    "dom = BeautifulSoup(driver.page_source, 'html.parser')\n",
    "patent_list = dom.select('.search_section article')\n",
    "\n",
    "result = [\n",
    "        {\n",
    "            '제목': patent.select_one('.stitle > a:nth-of-type(2)').text.strip(),\n",
    "            '내용': patent.select_one('.search_txt').text.strip()\n",
    "        }\n",
    "        for patent in patent_list\n",
    "]\n",
    "\n",
    "result"
   ]
  },
  {
   "cell_type": "code",
   "execution_count": null,
   "id": "4669c4b7",
   "metadata": {},
   "outputs": [],
   "source": []
  },
  {
   "cell_type": "code",
   "execution_count": null,
   "id": "3f1b5ac2",
   "metadata": {},
   "outputs": [],
   "source": []
  }
 ],
 "metadata": {
  "kernelspec": {
   "display_name": "Python 3",
   "language": "python",
   "name": "python3"
  },
  "language_info": {
   "codemirror_mode": {
    "name": "ipython",
    "version": 3
   },
   "file_extension": ".py",
   "mimetype": "text/x-python",
   "name": "python",
   "nbconvert_exporter": "python",
   "pygments_lexer": "ipython3",
   "version": "3.8.8"
  }
 },
 "nbformat": 4,
 "nbformat_minor": 5
}
