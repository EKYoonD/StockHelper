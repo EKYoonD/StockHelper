{
 "cells": [
  {
   "cell_type": "code",
   "execution_count": 16,
   "id": "576fd4e0",
   "metadata": {},
   "outputs": [],
   "source": [
    "import pandas as pd\n",
    "import numpy as np\n",
    "import matplotlib.pyplot as plt\n",
    "import seaborn as sns\n",
    "from sklearn.preprocessing import MinMaxScaler\n",
    "import random\n",
    "from sklearn.model_selection import train_test_split\n",
    "import tensorflow as tf \n",
    "import os"
   ]
  },
  {
   "cell_type": "code",
   "execution_count": 55,
   "id": "6c4f01d0",
   "metadata": {},
   "outputs": [],
   "source": [
    "# 데이터셋 shape 다듬기\n",
    "def make_dataset(data, label, window_size=20, shuffle=False):\n",
    "    feature_list = []\n",
    "    label_list = []\n",
    "\n",
    "    for i in range(len(data) - window_size):\n",
    "        feature_list.append(data.iloc[i:i+window_size])\n",
    "        label_list.append(label.iloc[i+window_size])\n",
    "#     temp = np.array([[i, j] for i, j in zip(feature_list, label_list)])\n",
    "    \n",
    "    return np.array(feature_list), np.array(label_list)"
   ]
  },
  {
   "cell_type": "code",
   "execution_count": 92,
   "id": "bf7f30a3",
   "metadata": {},
   "outputs": [],
   "source": [
    "# 모델 정확도 측정하기\n",
    "def pred_model(file_name, eps):\n",
    "    # 파일 읽어오기\n",
    "    df = pd.read_csv(file_name, index_col = 'Date')\n",
    "#     print(df)\n",
    "\n",
    "    # 데이터 정규화\n",
    "    scaler = MinMaxScaler()  # 전체를 정규화\n",
    "    # Senti_Score\tOpen\tHigh\tLow\tClose\tVolume\tEachStock\tKOSPI\n",
    "    scale_cols = ['Open', 'High', 'Low', 'Close', 'Volume', 'EachStock', 'KOSPI', 'Senti_Score']\n",
    "    df_scaled = scaler.fit_transform(df[scale_cols])\n",
    "    df_scaled = pd.DataFrame(df_scaled)\n",
    "    df_scaled.columns = scale_cols\n",
    "#     print(df_scaled)\n",
    "\n",
    "    scaler_close = MinMaxScaler()  # close만 정규화  ->  나중에 다시 되돌릴 때 필요\n",
    "    df_scaled_close = scaler_close.fit_transform(df[['Close']])\n",
    "    # scaler_close.inverse_transform(df_scaled_close)  # 정규화한 것을 되돌리기\n",
    "\n",
    "    # 기본 사이즈 정하기\n",
    "    TEST_SIZE = 100\n",
    "    WINDOW_SIZE = 20\n",
    "    \n",
    "    test = df_scaled[-TEST_SIZE:]\n",
    "\n",
    "    # 입력 데이터, 출력 데이터 나누기\n",
    "    feature_cols = ['Senti_Score', 'Open', 'High', 'Low', 'Volume', 'EachStock', 'KOSPI']  # input\n",
    "    label_cols = ['Close']  # output\n",
    "\n",
    "    # 테스트 데이터 넣기\n",
    "    train_feature = test[feature_cols]\n",
    "    train_label = test[label_cols]\n",
    "    X, y = make_dataset(train_feature, train_label, WINDOW_SIZE)\n",
    "\n",
    "    # 모델 예측하기\n",
    "    pred = load_model.predict(X)\n",
    "\n",
    "    # 예측데이터 비교하기\n",
    "#     plt.figure(figsize=(12, 9))\n",
    "#     plt.plot(scaler_close.inverse_transform(y[:-1]), label = 'actual')\n",
    "#     plt.plot(scaler_close.inverse_transform(pred[1:]), label = 'prediction')\n",
    "#     plt.legend()\n",
    "#     plt.show()\n",
    "    \n",
    "    cnt = 0\n",
    "#     print(len(scaler_close.inverse_transform(y[:-1])))\n",
    "    for i in range(len(pred[21:])):\n",
    "        actual = scaler_close.inverse_transform(y[20:])\n",
    "        prediction = scaler_close.inverse_transform(pred[21:])\n",
    "        \n",
    "        # 상승, 하락 맞추기\n",
    "#         if (actual[i + 1] - actual[i] > 0) and (prediction[i + 1] - prediction[i] > 0):\n",
    "#             cnt += 1\n",
    "#         elif (actual[i + 1] - actual[i] < 0) and (prediction[i + 1] - prediction[i] < 0):\n",
    "#             cnt += 1\n",
    "\n",
    "        # 오차범위에 있는지\n",
    "        if (actual[i] - prediction[i] if actual[i] >= prediction[i] else prediction[i] - actual[i]) <= actual[i] * eps:  # 오차범위 내라면\n",
    "            cnt += 1\n",
    "    \n",
    "    return cnt, len(pred)"
   ]
  },
  {
   "cell_type": "code",
   "execution_count": 93,
   "id": "59a00688",
   "metadata": {},
   "outputs": [],
   "source": [
    "base_path = '../../dataset/데이터셋/기사'\n",
    "news_list = [file for file in os.listdir(base_path) if 'csv' in file]\n",
    "len(news_list)\n",
    "\n",
    "\n",
    "# 기존에 학습시킨 모델 불러오기\n",
    "load_model = tf.keras.models.load_model('../../dataset/Model/StockHelperModel.h5')"
   ]
  },
  {
   "cell_type": "code",
   "execution_count": 94,
   "id": "7fd43e1d",
   "metadata": {
    "scrolled": true
   },
   "outputs": [
    {
     "name": "stdout",
     "output_type": "stream",
     "text": [
      "1, 2, 3, 4, 5, 6, 7, 8, 9, 10, 11, 12, 13, 14, 15, 16, 17, 18, 19, 20, 21, 22, 23, 24, 25, 26, 27, 28, 29, 30, 31, 32, 33, 34, 35, 36, 37, 38, 39, 40, 41, 42, 43, 44, 45, 46, 47, 48, 49, 50, 51, 52, 53, 54, 55, 56, 57, 58, 59, 60, 61, 62, 63, 64, 65, 66, 67, 68, 69, 70, 71, 72, 73, 74, 75, 76, 77, 78, 79, 80, 81, 82, 83, 84, 85, \n",
      "[6]\n",
      "1, 2, 3, 4, 5, 6, 7, 8, 9, 10, 11, 12, 13, 14, 15, 16, 17, 18, 19, 20, 21, 22, 23, 24, 25, 26, 27, 28, 29, 30, 31, 32, 33, 34, 35, 36, 37, 38, 39, 40, 41, 42, 43, 44, 45, 46, 47, 48, 49, 50, 51, 52, 53, 54, 55, 56, 57, 58, 59, 60, 61, 62, 63, 64, 65, 66, 67, 68, 69, 70, 71, 72, 73, 74, 75, 76, 77, 78, 79, 80, 81, 82, 83, 84, 85, \n",
      "[6, 14]\n",
      "1, 2, 3, 4, 5, 6, 7, 8, 9, 10, 11, 12, 13, 14, 15, 16, 17, 18, 19, 20, 21, 22, 23, 24, 25, 26, 27, 28, 29, 30, 31, 32, 33, 34, 35, 36, 37, 38, 39, 40, 41, 42, 43, 44, 45, 46, 47, 48, 49, 50, 51, 52, 53, 54, 55, 56, 57, 58, 59, 60, 61, 62, 63, 64, 65, 66, 67, 68, 69, 70, 71, 72, 73, 74, 75, 76, 77, 78, 79, 80, 81, 82, 83, 84, 85, \n",
      "[6, 14, 23]\n"
     ]
    }
   ],
   "source": [
    "eps = [0.01, 0.03, 0.05] # 오차범위 1%, 3%, 5%\n",
    "\n",
    "sum_result = 0.\n",
    "total_cnt = 0 # 전체 날짜의 개수\n",
    "\n",
    "result = []\n",
    "\n",
    "for i in range(3):\n",
    "    j = 0\n",
    "    for data_set in news_list:\n",
    "        diff, cnt = pred_model(os.path.join(base_path, data_set), eps[i])\n",
    "\n",
    "        sum_result += diff\n",
    "        total_cnt += cnt\n",
    "        \n",
    "        j+=1\n",
    "        print(j, end=', ')\n",
    "    print()\n",
    "    \n",
    "    result.append(int((sum_result / total_cnt) * 100))\n",
    "    print(result)"
   ]
  },
  {
   "cell_type": "code",
   "execution_count": 70,
   "id": "d303dc55",
   "metadata": {},
   "outputs": [
    {
     "data": {
      "text/plain": [
       "[12, 24, 35]"
      ]
     },
     "execution_count": 70,
     "metadata": {},
     "output_type": "execute_result"
    }
   ],
   "source": [
    "result"
   ]
  },
  {
   "cell_type": "code",
   "execution_count": null,
   "id": "cb41e25c",
   "metadata": {},
   "outputs": [],
   "source": []
  }
 ],
 "metadata": {
  "kernelspec": {
   "display_name": "Python 3",
   "language": "python",
   "name": "python3"
  },
  "language_info": {
   "codemirror_mode": {
    "name": "ipython",
    "version": 3
   },
   "file_extension": ".py",
   "mimetype": "text/x-python",
   "name": "python",
   "nbconvert_exporter": "python",
   "pygments_lexer": "ipython3",
   "version": "3.8.8"
  }
 },
 "nbformat": 4,
 "nbformat_minor": 5
}
