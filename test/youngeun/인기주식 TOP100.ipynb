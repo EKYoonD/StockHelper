{
 "cells": [
  {
   "cell_type": "code",
   "execution_count": 46,
   "id": "599ba3ba",
   "metadata": {},
   "outputs": [
    {
     "name": "stdout",
     "output_type": "stream",
     "text": [
      "['삼성전자', 'SK하이닉스', 'NAVER', '삼성바이오로직스', '삼성전자우', '카카오', 'LG화학', '삼성SDI', '현대차', '기아', '카카오뱅크', '셀트리온', '카카오페이', 'POSCO', '크래프톤', 'KB금융', '현대모비스', '삼성물산', 'LG전자', 'SK바이오사이언스', '신한지주', 'SK이노베이션', 'SK', 'LG생활건강', '엔씨소프트', '한국전력', '하이브', '삼성전기', '삼성생명', 'HMM', 'LG', '하나금융지주', 'SK텔레콤', 'SK아이이테크놀로지', '삼성에스디에스', 'KT&G', '포스코케미칼', '두산중공업', '넷마블', '대한항공', '삼성화재', '현대중공업', '아모레퍼시픽', 'S-Oil', 'SK스퀘어', '고려아연', '우리금융지주', '기업은행', 'KT', 'SK바이오팜', '롯데케미칼', 'LG디스플레이', '한온시스템', 'SKC', 'LG이노텍', 'F&F', '한화솔루션', '한국조선해양', 'LG유플러스', '현대글로비스', '미래에셋증권', '일진머티리얼즈', '맥쿼리인프라', 'CJ제일제당', '코웨이', '현대제철', '현대건설', '에스디바이오센서', '금호석유', 'KODEX 200', '강원랜드', '한국타이어앤테크놀로지', '메리츠금융지주', '삼성중공업', '한국금융지주', '삼성엔지니어링', '현대중공업지주', '유한양행', '이마트', '삼성증권', '오리온', '두산밥캣', '메리츠화재', 'DB손해보험', '한진칼', '쌍용C&E', '삼성카드', 'NH투자증권', '아모레G', 'GS', '한미사이언스', '현대차2우B', '한솔케미칼', '메리츠증권', '한전기술', '한국가스공사', 'GS건설', '현대오토에버', '롯데지주', 'GS리테일']\n"
     ]
    }
   ],
   "source": [
    "import requests\n",
    "from bs4 import BeautifulSoup\n",
    "\n",
    "# 다음 시가총액 TOP 100\n",
    "url = \"https://finance.daum.net/api/trend/market_capitalization?page={}&perPage=30&fieldName=marketCap&order=desc&market=KOSPI&pagination=true\"\n",
    "\n",
    "headers={\n",
    "    \"User-Agent\" : \"Mozilla/5.0\",\n",
    "    \"referer\" : \"https://finance.daum.net/domestic/market_cap?market=KOSPI\"\n",
    "}\n",
    "\n",
    "stock_name = []\n",
    "for i in range(1, 5):\n",
    "    response = requests.get(url.format(i), headers=headers).json()  # json\n",
    "    data = response['data']\n",
    "\n",
    "    if i < 4:\n",
    "        for j in range(30):\n",
    "            stock_name.append(data[j]['name'])\n",
    "    else:\n",
    "        for j in range(10):\n",
    "            stock_name.append(data[j]['name'])\n",
    "            \n",
    "print(stock_name)"
   ]
  },
  {
   "cell_type": "code",
   "execution_count": null,
   "id": "1ebade63",
   "metadata": {},
   "outputs": [],
   "source": []
  },
  {
   "cell_type": "code",
   "execution_count": null,
   "id": "176a2934",
   "metadata": {},
   "outputs": [],
   "source": []
  }
 ],
 "metadata": {
  "kernelspec": {
   "display_name": "Python 3",
   "language": "python",
   "name": "python3"
  },
  "language_info": {
   "codemirror_mode": {
    "name": "ipython",
    "version": 3
   },
   "file_extension": ".py",
   "mimetype": "text/x-python",
   "name": "python",
   "nbconvert_exporter": "python",
   "pygments_lexer": "ipython3",
   "version": "3.8.8"
  }
 },
 "nbformat": 4,
 "nbformat_minor": 5
}
