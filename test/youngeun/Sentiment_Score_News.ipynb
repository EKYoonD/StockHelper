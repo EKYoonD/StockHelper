{
 "cells": [
  {
   "cell_type": "code",
   "execution_count": 1,
   "id": "ebb28c44",
   "metadata": {},
   "outputs": [],
   "source": [
    "from google.cloud import language_v1\n",
    "from tqdm import tqdm\n",
    "from tqdm import trange"
   ]
  },
  {
   "cell_type": "code",
   "execution_count": 3,
   "id": "f4018d3c",
   "metadata": {},
   "outputs": [
    {
     "name": "stderr",
     "output_type": "stream",
     "text": [
      "WARNING: Ignoring invalid distribution -weepy (c:\\programdata\\anaconda3\\lib\\site-packages)\n",
      "WARNING: Ignoring invalid distribution -pype1 (c:\\programdata\\anaconda3\\lib\\site-packages)\n",
      "WARNING: Ignoring invalid distribution - (c:\\programdata\\anaconda3\\lib\\site-packages)\n",
      "WARNING: Ignoring invalid distribution -weepy (c:\\programdata\\anaconda3\\lib\\site-packages)\n",
      "WARNING: Ignoring invalid distribution -pype1 (c:\\programdata\\anaconda3\\lib\\site-packages)\n",
      "WARNING: Ignoring invalid distribution - (c:\\programdata\\anaconda3\\lib\\site-packages)\n",
      "WARNING: Ignoring invalid distribution -weepy (c:\\programdata\\anaconda3\\lib\\site-packages)\n",
      "WARNING: Ignoring invalid distribution -pype1 (c:\\programdata\\anaconda3\\lib\\site-packages)\n",
      "WARNING: Ignoring invalid distribution - (c:\\programdata\\anaconda3\\lib\\site-packages)\n",
      "WARNING: Ignoring invalid distribution -weepy (c:\\programdata\\anaconda3\\lib\\site-packages)\n",
      "WARNING: Ignoring invalid distribution -pype1 (c:\\programdata\\anaconda3\\lib\\site-packages)\n",
      "WARNING: Ignoring invalid distribution - (c:\\programdata\\anaconda3\\lib\\site-packages)\n",
      "WARNING: Ignoring invalid distribution -weepy (c:\\programdata\\anaconda3\\lib\\site-packages)\n",
      "WARNING: Ignoring invalid distribution -pype1 (c:\\programdata\\anaconda3\\lib\\site-packages)\n",
      "WARNING: Ignoring invalid distribution - (c:\\programdata\\anaconda3\\lib\\site-packages)\n"
     ]
    },
    {
     "name": "stdout",
     "output_type": "stream",
     "text": [
      "Requirement already satisfied: google-cloud-language in c:\\programdata\\anaconda3\\lib\\site-packages (2.3.1)\n",
      "Requirement already satisfied: proto-plus>=1.10.0 in c:\\programdata\\anaconda3\\lib\\site-packages (from google-cloud-language) (1.19.8)\n",
      "Requirement already satisfied: google-api-core[grpc]<3.0.0dev,>=1.28.0 in c:\\programdata\\anaconda3\\lib\\site-packages (from google-cloud-language) (2.2.2)\n",
      "Requirement already satisfied: google-auth<3.0dev,>=1.25.0 in c:\\programdata\\anaconda3\\lib\\site-packages (from google-api-core[grpc]<3.0.0dev,>=1.28.0->google-cloud-language) (2.3.3)\n",
      "Requirement already satisfied: setuptools>=40.3.0 in c:\\programdata\\anaconda3\\lib\\site-packages (from google-api-core[grpc]<3.0.0dev,>=1.28.0->google-cloud-language) (52.0.0.post20210125)\n",
      "Requirement already satisfied: googleapis-common-protos<2.0dev,>=1.52.0 in c:\\programdata\\anaconda3\\lib\\site-packages (from google-api-core[grpc]<3.0.0dev,>=1.28.0->google-cloud-language) (1.53.0)\n",
      "Requirement already satisfied: protobuf>=3.12.0 in c:\\programdata\\anaconda3\\lib\\site-packages (from google-api-core[grpc]<3.0.0dev,>=1.28.0->google-cloud-language) (3.19.1)\n",
      "Requirement already satisfied: requests<3.0.0dev,>=2.18.0 in c:\\programdata\\anaconda3\\lib\\site-packages (from google-api-core[grpc]<3.0.0dev,>=1.28.0->google-cloud-language) (2.25.1)\n",
      "Requirement already satisfied: grpcio<2.0dev,>=1.33.2 in c:\\programdata\\anaconda3\\lib\\site-packages (from google-api-core[grpc]<3.0.0dev,>=1.28.0->google-cloud-language) (1.42.0)\n",
      "Requirement already satisfied: grpcio-status<2.0dev,>=1.33.2 in c:\\programdata\\anaconda3\\lib\\site-packages (from google-api-core[grpc]<3.0.0dev,>=1.28.0->google-cloud-language) (1.42.0)\n",
      "Requirement already satisfied: pyasn1-modules>=0.2.1 in c:\\programdata\\anaconda3\\lib\\site-packages (from google-auth<3.0dev,>=1.25.0->google-api-core[grpc]<3.0.0dev,>=1.28.0->google-cloud-language) (0.2.8)\n",
      "Requirement already satisfied: six>=1.9.0 in c:\\programdata\\anaconda3\\lib\\site-packages (from google-auth<3.0dev,>=1.25.0->google-api-core[grpc]<3.0.0dev,>=1.28.0->google-cloud-language) (1.15.0)\n",
      "Requirement already satisfied: cachetools<5.0,>=2.0.0 in c:\\programdata\\anaconda3\\lib\\site-packages (from google-auth<3.0dev,>=1.25.0->google-api-core[grpc]<3.0.0dev,>=1.28.0->google-cloud-language) (4.2.4)\n",
      "Requirement already satisfied: rsa<5,>=3.1.4 in c:\\programdata\\anaconda3\\lib\\site-packages (from google-auth<3.0dev,>=1.25.0->google-api-core[grpc]<3.0.0dev,>=1.28.0->google-cloud-language) (4.8)\n",
      "Requirement already satisfied: urllib3<1.27,>=1.21.1 in c:\\programdata\\anaconda3\\lib\\site-packages (from requests<3.0.0dev,>=2.18.0->google-api-core[grpc]<3.0.0dev,>=1.28.0->google-cloud-language) (1.26.4)\n",
      "Requirement already satisfied: certifi>=2017.4.17 in c:\\programdata\\anaconda3\\lib\\site-packages (from requests<3.0.0dev,>=2.18.0->google-api-core[grpc]<3.0.0dev,>=1.28.0->google-cloud-language) (2020.12.5)\n",
      "Requirement already satisfied: idna<3,>=2.5 in c:\\programdata\\anaconda3\\lib\\site-packages (from requests<3.0.0dev,>=2.18.0->google-api-core[grpc]<3.0.0dev,>=1.28.0->google-cloud-language) (2.10)\n",
      "Requirement already satisfied: chardet<5,>=3.0.2 in c:\\programdata\\anaconda3\\lib\\site-packages (from requests<3.0.0dev,>=2.18.0->google-api-core[grpc]<3.0.0dev,>=1.28.0->google-cloud-language) (4.0.0)\n",
      "Requirement already satisfied: pyasn1<0.5.0,>=0.4.6 in c:\\programdata\\anaconda3\\lib\\site-packages (from pyasn1-modules>=0.2.1->google-auth<3.0dev,>=1.25.0->google-api-core[grpc]<3.0.0dev,>=1.28.0->google-cloud-language) (0.4.8)\n",
      "Text: Hello, world!\n",
      "Sentiment: 0.6000000238418579, 0.6000000238418579\n"
     ]
    }
   ],
   "source": [
    "# Imports the Google Cloud client library\n",
    "!pip install --upgrade google-cloud-language\n",
    "\n",
    "# Instantiates a client\n",
    "client = language_v1.LanguageServiceClient.from_service_account_json(\"C:/DevRoot/dataset/flowing-bazaar-334005-93614458e39e.json\")\n",
    "\n",
    "# The text to analyze\n",
    "text = u\"Hello, world!\"\n",
    "document = language_v1.Document(\n",
    "    content=text, type_=language_v1.Document.Type.PLAIN_TEXT\n",
    ")\n",
    "\n",
    "# Detects the sentiment of the text\n",
    "sentiment = client.analyze_sentiment(\n",
    "    request={\"document\": document}\n",
    ").document_sentiment\n",
    "\n",
    "print(\"Text: {}\".format(text))\n",
    "print(\"Sentiment: {}, {}\".format(sentiment.score, sentiment.magnitude))"
   ]
  },
  {
   "cell_type": "code",
   "execution_count": 4,
   "id": "3e567a95",
   "metadata": {},
   "outputs": [],
   "source": [
    "\"\"\"Demonstrates how to make a simple call to the Natural Language API.\"\"\"\n",
    "\n",
    "import argparse\n",
    "\n",
    "from google.cloud import language_v1\n",
    "\n",
    "def print_result(annotations):\n",
    "    score = annotations.document_sentiment.score\n",
    "    magnitude = annotations.document_sentiment.magnitude\n",
    "\n",
    "    for index, sentence in enumerate(annotations.sentences):\n",
    "        sentence_sentiment = sentence.sentiment.score\n",
    "        print(\n",
    "            \"Sentence {} has a sentiment score of {}\".format(index, sentence_sentiment)\n",
    "        )\n",
    "\n",
    "    print(\n",
    "        \"Overall Sentiment: score of {} with magnitude of {}\".format(score, magnitude)\n",
    "    )\n",
    "    \n",
    "    return 0\n",
    "\n",
    "def analyze(content):\n",
    "    \"\"\"Run a sentiment analysis request on text within a passed filename.\"\"\"\n",
    "    client = language_v1.LanguageServiceClient.from_service_account_json(\"C:/DevRoot/dataset/flowing-bazaar-334005-93614458e39e.json\")\n",
    "\n",
    "#     with open(movie_review_filename, \"r\",  encoding='UTF8') as review_file:\n",
    "#         # Instantiates a plain text document.\n",
    "#         content = review_file.read()\n",
    "\n",
    "    \n",
    "\n",
    "    document = language_v1.Document(\n",
    "        content=content, type_=language_v1.Document.Type.PLAIN_TEXT\n",
    "    )\n",
    "    \n",
    "    annotations = client.analyze_sentiment(request={\"document\": document})\n",
    "\n",
    "    # Print the results\n",
    "    score = annotations.document_sentiment.score\n",
    "    return score\n",
    "    \n",
    "    \n",
    "# if __name__ == \"__main__\":\n",
    "#     parser = argparse.ArgumentParser(\n",
    "#         description=__doc__, formatter_class=argparse.RawDescriptionHelpFormatter\n",
    "#     )\n",
    "#     parser.add_argument(\n",
    "#         \"movie_review_filename\",\n",
    "#         help=\"The filename of the movie review you'd like to analyze.\",\n",
    "#     )\n",
    "#     args = parser.parse_args()\n",
    "\n",
    "#     analyze(args.movie_review_filename)"
   ]
  },
  {
   "cell_type": "code",
   "execution_count": 5,
   "id": "4608b837",
   "metadata": {},
   "outputs": [
    {
     "data": {
      "text/plain": [
       "['삼성화재_기사_크롤링_2020.01.01_2021.12.06.csv',\n",
       " '셀트리온_기사_크롤링_2020.01.01_2021.12.06.csv',\n",
       " '신한지주_기사_크롤링_2020.01.01_2021.12.06.csv',\n",
       " '쌍용C&E_기사_크롤링_2020.01.01_2021.12.06.csv',\n",
       " '아모레G_기사_크롤링_2020.01.01_2021.12.06.csv',\n",
       " '아모레퍼시픽_기사_크롤링_2020.01.01_2021.12.06.csv',\n",
       " '에스오일_기사_크롤링_2020.01.01_2021.12.06.csv',\n",
       " '엔씨소프트_기사_크롤링_2020.01.01_2021.12.06.csv',\n",
       " '오리온_기사_크롤링_2020.01.01_2021.12.06.csv',\n",
       " '우리금융지주_기사_크롤링_2020.01.01_2021.12.06.csv',\n",
       " '유한양행_기사_크롤링_2020.01.01_2021.12.06.csv',\n",
       " '이마트_기사_크롤링_2020.01.01_2021.12.06.csv',\n",
       " '일진머티리얼즈_기사_크롤링_2020.01.01_2021.12.06.csv']"
      ]
     },
     "execution_count": 5,
     "metadata": {},
     "output_type": "execute_result"
    }
   ],
   "source": [
    "import os\n",
    "news_list = [file for file in os.listdir('.') if 'csv' in file]\n",
    "news_list = news_list[51:64]\n",
    "news_list"
   ]
  },
  {
   "cell_type": "code",
   "execution_count": 6,
   "id": "627344b4",
   "metadata": {},
   "outputs": [],
   "source": [
    "import pandas as pd\n",
    "\n",
    "import os\n",
    "\n",
    "def sentiment_scoring(news):\n",
    "    contents = pd.read_csv(news)\n",
    "    contents_refine = contents.loc[:,'refine_content']\n",
    "    contents = pd.DataFrame(contents)\n",
    "    contents_list = []\n",
    "\n",
    "    tot_sum = 0\n",
    "    for content in tqdm(contents.refine_content, desc = news):\n",
    "        if pd.isna(content):\n",
    "            contents_list.append(0)\n",
    "        else:\n",
    "            contents_list.append(analyze(content))\n",
    "            \n",
    "        tot_sum += 1\n",
    "        \n",
    "    contents['Senti_Score'] = contents_list\n",
    "    \n",
    "    news_path = os.path.join('.', news)\n",
    "    contents.to_csv(news_path, encoding='utf-8')   "
   ]
  },
  {
   "cell_type": "code",
   "execution_count": 7,
   "id": "79e163ca",
   "metadata": {},
   "outputs": [
    {
     "name": "stderr",
     "output_type": "stream",
     "text": [
      "포스코_기사_크롤링_2020.01.01_2021.12.06.csv: 100%|████████████████████████████████| 3034/3034 [39:44<00:00,  1.27it/s]\n"
     ]
    }
   ],
   "source": [
    "sentiment_scoring('포스코_기사_크롤링_2020.01.01_2021.12.06.csv')"
   ]
  },
  {
   "cell_type": "code",
   "execution_count": 13,
   "id": "2a4615e1",
   "metadata": {},
   "outputs": [
    {
     "name": "stderr",
     "output_type": "stream",
     "text": [
      "셀트리온_기사_크롤링_2020.01.01_2021.12.06.csv: 100%|██████████| 1142/1142 [14:44<00:00,  1.29it/s]\n",
      "신한지주_기사_크롤링_2020.01.01_2021.12.06.csv: 100%|██████████| 340/340 [04:27<00:00,  1.27it/s]\n",
      "쌍용C&E_기사_크롤링_2020.01.01_2021.12.06.csv: 100%|██████████| 23/23 [00:15<00:00,  1.45it/s]\n",
      "아모레G_기사_크롤링_2020.01.01_2021.12.06.csv: 100%|██████████| 6/6 [00:03<00:00,  1.68it/s]\n",
      "아모레퍼시픽_기사_크롤링_2020.01.01_2021.12.06.csv: 100%|██████████| 611/611 [07:53<00:00,  1.29it/s]\n",
      "에스오일_기사_크롤링_2020.01.01_2021.12.06.csv: 100%|██████████| 16/16 [00:13<00:00,  1.15it/s]\n",
      "엔씨소프트_기사_크롤링_2020.01.01_2021.12.06.csv: 100%|██████████| 1027/1027 [12:29<00:00,  1.37it/s]\n",
      "오리온_기사_크롤링_2020.01.01_2021.12.06.csv: 100%|██████████| 284/284 [03:36<00:00,  1.31it/s]\n",
      "우리금융지주_기사_크롤링_2020.01.01_2021.12.06.csv: 100%|██████████| 375/375 [04:36<00:00,  1.36it/s]\n",
      "유한양행_기사_크롤링_2020.01.01_2021.12.06.csv: 100%|██████████| 190/190 [02:22<00:00,  1.34it/s]\n",
      "이마트_기사_크롤링_2020.01.01_2021.12.06.csv: 100%|██████████| 2660/2660 [32:39<00:00,  1.36it/s]\n",
      "일진머티리얼즈_기사_크롤링_2020.01.01_2021.12.06.csv: 100%|██████████| 13/13 [00:09<00:00,  1.32it/s]\n",
      "카카오_기사_크롤링_2020.01.01_2021.12.06.csv:  31%|███▏      | 2561/8158 [32:34<1:11:11,  1.31it/s]\n"
     ]
    },
    {
     "ename": "TypeError",
     "evalue": "nan has type float, but expected one of: bytes, unicode",
     "output_type": "error",
     "traceback": [
      "\u001b[1;31m---------------------------------------------------------------------------\u001b[0m",
      "\u001b[1;31mTypeError\u001b[0m                                 Traceback (most recent call last)",
      "\u001b[1;32m<ipython-input-13-b78304385733>\u001b[0m in \u001b[0;36m<module>\u001b[1;34m\u001b[0m\n\u001b[0;32m      1\u001b[0m \u001b[1;32mfor\u001b[0m \u001b[0mnews\u001b[0m \u001b[1;32min\u001b[0m \u001b[0mnews_list\u001b[0m\u001b[1;33m:\u001b[0m\u001b[1;33m\u001b[0m\u001b[1;33m\u001b[0m\u001b[0m\n\u001b[1;32m----> 2\u001b[1;33m     \u001b[0msentiment_scoring\u001b[0m\u001b[1;33m(\u001b[0m\u001b[0mnews\u001b[0m\u001b[1;33m)\u001b[0m\u001b[1;33m\u001b[0m\u001b[1;33m\u001b[0m\u001b[0m\n\u001b[0m",
      "\u001b[1;32m<ipython-input-9-d9d7aa638959>\u001b[0m in \u001b[0;36msentiment_scoring\u001b[1;34m(news)\u001b[0m\n\u001b[0;32m     11\u001b[0m     \u001b[0mtot_sum\u001b[0m \u001b[1;33m=\u001b[0m \u001b[1;36m0\u001b[0m\u001b[1;33m\u001b[0m\u001b[1;33m\u001b[0m\u001b[0m\n\u001b[0;32m     12\u001b[0m     \u001b[1;32mfor\u001b[0m \u001b[0mcontent\u001b[0m \u001b[1;32min\u001b[0m \u001b[0mtqdm\u001b[0m\u001b[1;33m(\u001b[0m\u001b[0mcontents\u001b[0m\u001b[1;33m.\u001b[0m\u001b[0mrefine_content\u001b[0m\u001b[1;33m,\u001b[0m \u001b[0mdesc\u001b[0m \u001b[1;33m=\u001b[0m \u001b[0mnews\u001b[0m\u001b[1;33m)\u001b[0m\u001b[1;33m:\u001b[0m\u001b[1;33m\u001b[0m\u001b[1;33m\u001b[0m\u001b[0m\n\u001b[1;32m---> 13\u001b[1;33m         \u001b[0mcontents_list\u001b[0m\u001b[1;33m.\u001b[0m\u001b[0mappend\u001b[0m\u001b[1;33m(\u001b[0m\u001b[0manalyze\u001b[0m\u001b[1;33m(\u001b[0m\u001b[0mcontent\u001b[0m\u001b[1;33m)\u001b[0m\u001b[1;33m)\u001b[0m\u001b[1;33m\u001b[0m\u001b[1;33m\u001b[0m\u001b[0m\n\u001b[0m\u001b[0;32m     14\u001b[0m         \u001b[0mtot_sum\u001b[0m \u001b[1;33m+=\u001b[0m \u001b[1;36m1\u001b[0m\u001b[1;33m\u001b[0m\u001b[1;33m\u001b[0m\u001b[0m\n\u001b[0;32m     15\u001b[0m \u001b[1;33m\u001b[0m\u001b[0m\n",
      "\u001b[1;32m<ipython-input-5-0d36d2320ad4>\u001b[0m in \u001b[0;36manalyze\u001b[1;34m(content)\u001b[0m\n\u001b[0;32m     31\u001b[0m \u001b[1;33m\u001b[0m\u001b[0m\n\u001b[0;32m     32\u001b[0m \u001b[1;33m\u001b[0m\u001b[0m\n\u001b[1;32m---> 33\u001b[1;33m     document = language_v1.Document(\n\u001b[0m\u001b[0;32m     34\u001b[0m         \u001b[0mcontent\u001b[0m\u001b[1;33m=\u001b[0m\u001b[0mcontent\u001b[0m\u001b[1;33m,\u001b[0m \u001b[0mtype_\u001b[0m\u001b[1;33m=\u001b[0m\u001b[0mlanguage_v1\u001b[0m\u001b[1;33m.\u001b[0m\u001b[0mDocument\u001b[0m\u001b[1;33m.\u001b[0m\u001b[0mType\u001b[0m\u001b[1;33m.\u001b[0m\u001b[0mPLAIN_TEXT\u001b[0m\u001b[1;33m\u001b[0m\u001b[1;33m\u001b[0m\u001b[0m\n\u001b[0;32m     35\u001b[0m     )\n",
      "\u001b[1;32mC:\\ProgramData\\Anaconda3\\lib\\site-packages\\proto\\message.py\u001b[0m in \u001b[0;36m__init__\u001b[1;34m(self, mapping, ignore_unknown_fields, **kwargs)\u001b[0m\n\u001b[0;32m    519\u001b[0m \u001b[1;33m\u001b[0m\u001b[0m\n\u001b[0;32m    520\u001b[0m         \u001b[1;31m# Create the internal protocol buffer.\u001b[0m\u001b[1;33m\u001b[0m\u001b[1;33m\u001b[0m\u001b[1;33m\u001b[0m\u001b[0m\n\u001b[1;32m--> 521\u001b[1;33m         \u001b[0msuper\u001b[0m\u001b[1;33m(\u001b[0m\u001b[1;33m)\u001b[0m\u001b[1;33m.\u001b[0m\u001b[0m__setattr__\u001b[0m\u001b[1;33m(\u001b[0m\u001b[1;34m\"_pb\"\u001b[0m\u001b[1;33m,\u001b[0m \u001b[0mself\u001b[0m\u001b[1;33m.\u001b[0m\u001b[0m_meta\u001b[0m\u001b[1;33m.\u001b[0m\u001b[0mpb\u001b[0m\u001b[1;33m(\u001b[0m\u001b[1;33m**\u001b[0m\u001b[0mparams\u001b[0m\u001b[1;33m)\u001b[0m\u001b[1;33m)\u001b[0m\u001b[1;33m\u001b[0m\u001b[1;33m\u001b[0m\u001b[0m\n\u001b[0m\u001b[0;32m    522\u001b[0m \u001b[1;33m\u001b[0m\u001b[0m\n\u001b[0;32m    523\u001b[0m     \u001b[1;32mdef\u001b[0m \u001b[0m__bool__\u001b[0m\u001b[1;33m(\u001b[0m\u001b[0mself\u001b[0m\u001b[1;33m)\u001b[0m\u001b[1;33m:\u001b[0m\u001b[1;33m\u001b[0m\u001b[1;33m\u001b[0m\u001b[0m\n",
      "\u001b[1;31mTypeError\u001b[0m: nan has type float, but expected one of: bytes, unicode"
     ]
    }
   ],
   "source": [
    "for news in news_list[64]:\n",
    "    sentiment_scoring(news)"
   ]
  },
  {
   "cell_type": "code",
   "execution_count": null,
   "id": "e853c83f",
   "metadata": {},
   "outputs": [],
   "source": []
  }
 ],
 "metadata": {
  "kernelspec": {
   "display_name": "Python 3",
   "language": "python",
   "name": "python3"
  },
  "language_info": {
   "codemirror_mode": {
    "name": "ipython",
    "version": 3
   },
   "file_extension": ".py",
   "mimetype": "text/x-python",
   "name": "python",
   "nbconvert_exporter": "python",
   "pygments_lexer": "ipython3",
   "version": "3.8.8"
  }
 },
 "nbformat": 4,
 "nbformat_minor": 5
}
