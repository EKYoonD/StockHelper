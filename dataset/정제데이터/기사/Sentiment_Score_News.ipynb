{
 "cells": [
  {
   "cell_type": "code",
   "execution_count": 7,
   "id": "3bc1e3ef",
   "metadata": {},
   "outputs": [
    {
     "name": "stdout",
     "output_type": "stream",
     "text": [
      "Collecting google-cloud-language\n",
      "  Downloading google_cloud_language-2.3.1-py2.py3-none-any.whl (78 kB)\n",
      "Requirement already satisfied: google-api-core[grpc]<3.0.0dev,>=1.28.0 in c:\\programdata\\anaconda3\\lib\\site-packages (from google-cloud-language) (2.3.0)\n",
      "Requirement already satisfied: proto-plus>=1.10.0 in c:\\programdata\\anaconda3\\lib\\site-packages (from google-cloud-language) (1.19.8)\n",
      "Requirement already satisfied: setuptools>=40.3.0 in c:\\programdata\\anaconda3\\lib\\site-packages (from google-api-core[grpc]<3.0.0dev,>=1.28.0->google-cloud-language) (52.0.0.post20210125)\n",
      "Requirement already satisfied: protobuf>=3.12.0 in c:\\programdata\\anaconda3\\lib\\site-packages (from google-api-core[grpc]<3.0.0dev,>=1.28.0->google-cloud-language) (3.19.1)"
     ]
    },
    {
     "name": "stderr",
     "output_type": "stream",
     "text": [
      "WARNING: Ignoring invalid distribution -pype1 (c:\\programdata\\anaconda3\\lib\\site-packages)\n",
      "WARNING: Ignoring invalid distribution -pype1 (c:\\programdata\\anaconda3\\lib\\site-packages)\n",
      "WARNING: Ignoring invalid distribution -pype1 (c:\\programdata\\anaconda3\\lib\\site-packages)\n",
      "WARNING: Ignoring invalid distribution -pype1 (c:\\programdata\\anaconda3\\lib\\site-packages)\n",
      "WARNING: Ignoring invalid distribution -pype1 (c:\\programdata\\anaconda3\\lib\\site-packages)"
     ]
    },
    {
     "name": "stdout",
     "output_type": "stream",
     "text": [
      "\n",
      "Requirement already satisfied: requests<3.0.0dev,>=2.18.0 in c:\\programdata\\anaconda3\\lib\\site-packages (from google-api-core[grpc]<3.0.0dev,>=1.28.0->google-cloud-language) (2.25.1)\n",
      "Requirement already satisfied: google-auth<3.0dev,>=1.25.0 in c:\\programdata\\anaconda3\\lib\\site-packages (from google-api-core[grpc]<3.0.0dev,>=1.28.0->google-cloud-language) (2.3.3)\n",
      "Requirement already satisfied: googleapis-common-protos<2.0dev,>=1.52.0 in c:\\programdata\\anaconda3\\lib\\site-packages (from google-api-core[grpc]<3.0.0dev,>=1.28.0->google-cloud-language) (1.54.0)\n",
      "Requirement already satisfied: grpcio-status<2.0dev,>=1.33.2 in c:\\programdata\\anaconda3\\lib\\site-packages (from google-api-core[grpc]<3.0.0dev,>=1.28.0->google-cloud-language) (1.42.0)\n",
      "Requirement already satisfied: grpcio<2.0dev,>=1.33.2 in c:\\programdata\\anaconda3\\lib\\site-packages (from google-api-core[grpc]<3.0.0dev,>=1.28.0->google-cloud-language) (1.42.0)\n",
      "Requirement already satisfied: cachetools<5.0,>=2.0.0 in c:\\programdata\\anaconda3\\lib\\site-packages (from google-auth<3.0dev,>=1.25.0->google-api-core[grpc]<3.0.0dev,>=1.28.0->google-cloud-language) (4.2.4)\n",
      "Requirement already satisfied: pyasn1-modules>=0.2.1 in c:\\programdata\\anaconda3\\lib\\site-packages (from google-auth<3.0dev,>=1.25.0->google-api-core[grpc]<3.0.0dev,>=1.28.0->google-cloud-language) (0.2.8)\n",
      "Requirement already satisfied: rsa<5,>=3.1.4 in c:\\programdata\\anaconda3\\lib\\site-packages (from google-auth<3.0dev,>=1.25.0->google-api-core[grpc]<3.0.0dev,>=1.28.0->google-cloud-language) (4.8)\n",
      "Requirement already satisfied: six>=1.9.0 in c:\\programdata\\anaconda3\\lib\\site-packages (from google-auth<3.0dev,>=1.25.0->google-api-core[grpc]<3.0.0dev,>=1.28.0->google-cloud-language) (1.15.0)\n",
      "Requirement already satisfied: urllib3<1.27,>=1.21.1 in c:\\programdata\\anaconda3\\lib\\site-packages (from requests<3.0.0dev,>=2.18.0->google-api-core[grpc]<3.0.0dev,>=1.28.0->google-cloud-language) (1.26.4)\n",
      "Requirement already satisfied: idna<3,>=2.5 in c:\\programdata\\anaconda3\\lib\\site-packages (from requests<3.0.0dev,>=2.18.0->google-api-core[grpc]<3.0.0dev,>=1.28.0->google-cloud-language) (2.10)\n",
      "Requirement already satisfied: chardet<5,>=3.0.2 in c:\\programdata\\anaconda3\\lib\\site-packages (from requests<3.0.0dev,>=2.18.0->google-api-core[grpc]<3.0.0dev,>=1.28.0->google-cloud-language) (4.0.0)\n",
      "Requirement already satisfied: certifi>=2017.4.17 in c:\\programdata\\anaconda3\\lib\\site-packages (from requests<3.0.0dev,>=2.18.0->google-api-core[grpc]<3.0.0dev,>=1.28.0->google-cloud-language) (2020.12.5)\n",
      "Requirement already satisfied: pyasn1<0.5.0,>=0.4.6 in c:\\programdata\\anaconda3\\lib\\site-packages (from pyasn1-modules>=0.2.1->google-auth<3.0dev,>=1.25.0->google-api-core[grpc]<3.0.0dev,>=1.28.0->google-cloud-language) (0.4.8)\n",
      "Installing collected packages: google-cloud-language\n",
      "Successfully installed google-cloud-language-2.3.1\n"
     ]
    },
    {
     "name": "stderr",
     "output_type": "stream",
     "text": [
      "\n",
      "WARNING: Ignoring invalid distribution -pype1 (c:\\programdata\\anaconda3\\lib\\site-packages)\n"
     ]
    }
   ],
   "source": [
    "!pip install google-cloud-language"
   ]
  },
  {
   "cell_type": "code",
   "execution_count": 8,
   "id": "ebb28c44",
   "metadata": {},
   "outputs": [],
   "source": [
    "from google.cloud import language_v1\n",
    "from tqdm import tqdm\n",
    "from tqdm import trange"
   ]
  },
  {
   "cell_type": "code",
   "execution_count": 10,
   "id": "f4018d3c",
   "metadata": {},
   "outputs": [
    {
     "name": "stdout",
     "output_type": "stream",
     "text": [
      "Requirement already satisfied: google-cloud-language in c:\\programdata\\anaconda3\\lib\\site-packages (2.3.1)\n",
      "Requirement already satisfied: proto-plus>=1.10.0 in c:\\programdata\\anaconda3\\lib\\site-packages (from google-cloud-language) (1.19.8)\n",
      "Requirement already satisfied: google-api-core[grpc]<3.0.0dev,>=1.28.0 in c:\\programdata\\anaconda3\\lib\\site-packages (from google-cloud-language) (2.3.0)\n",
      "Requirement already satisfied: setuptools>=40.3.0 in c:\\programdata\\anaconda3\\lib\\site-packages (from google-api-core[grpc]<3.0.0dev,>=1.28.0->google-cloud-language) (52.0.0.post20210125)\n",
      "Requirement already satisfied: protobuf>=3.12.0 in c:\\programdata\\anaconda3\\lib\\site-packages (from google-api-core[grpc]<3.0.0dev,>=1.28.0->google-cloud-language) (3.19.1)\n",
      "Requirement already satisfied: googleapis-common-protos<2.0dev,>=1.52.0 in c:\\programdata\\anaconda3\\lib\\site-packages (from google-api-core[grpc]<3.0.0dev,>=1.28.0->google-cloud-language) (1.54.0)\n",
      "Requirement already satisfied: google-auth<3.0dev,>=1.25.0 in c:\\programdata\\anaconda3\\lib\\site-packages (from google-api-core[grpc]<3.0.0dev,>=1.28.0->google-cloud-language) (2.3.3)\n",
      "Requirement already satisfied: requests<3.0.0dev,>=2.18.0 in c:\\programdata\\anaconda3\\lib\\site-packages (from google-api-core[grpc]<3.0.0dev,>=1.28.0->google-cloud-language) (2.25.1)\n",
      "Requirement already satisfied: grpcio-status<2.0dev,>=1.33.2 in c:\\programdata\\anaconda3\\lib\\site-packages (from google-api-core[grpc]<3.0.0dev,>=1.28.0->google-cloud-language) (1.42.0)\n",
      "Requirement already satisfied: grpcio<2.0dev,>=1.33.2 in c:\\programdata\\anaconda3\\lib\\site-packages (from google-api-core[grpc]<3.0.0dev,>=1.28.0->google-cloud-language) (1.42.0)\n",
      "Requirement already satisfied: rsa<5,>=3.1.4 in c:\\programdata\\anaconda3\\lib\\site-packages (from google-auth<3.0dev,>=1.25.0->google-api-core[grpc]<3.0.0dev,>=1.28.0->google-cloud-language) (4.8)\n",
      "Requirement already satisfied: six>=1.9.0 in c:\\programdata\\anaconda3\\lib\\site-packages (from google-auth<3.0dev,>=1.25.0->google-api-core[grpc]<3.0.0dev,>=1.28.0->google-cloud-language) (1.15.0)\n",
      "Requirement already satisfied: pyasn1-modules>=0.2.1 in c:\\programdata\\anaconda3\\lib\\site-packages (from google-auth<3.0dev,>=1.25.0->google-api-core[grpc]<3.0.0dev,>=1.28.0->google-cloud-language) (0.2.8)\n",
      "Requirement already satisfied: cachetools<5.0,>=2.0.0 in c:\\programdata\\anaconda3\\lib\\site-packages (from google-auth<3.0dev,>=1.25.0->google-api-core[grpc]<3.0.0dev,>=1.28.0->google-cloud-language) (4.2.4)\n",
      "Requirement already satisfied: urllib3<1.27,>=1.21.1 in c:\\programdata\\anaconda3\\lib\\site-packages (from requests<3.0.0dev,>=2.18.0->google-api-core[grpc]<3.0.0dev,>=1.28.0->google-cloud-language) (1.26.4)\n",
      "Requirement already satisfied: certifi>=2017.4.17 in c:\\programdata\\anaconda3\\lib\\site-packages (from requests<3.0.0dev,>=2.18.0->google-api-core[grpc]<3.0.0dev,>=1.28.0->google-cloud-language) (2020.12.5)\n",
      "Requirement already satisfied: idna<3,>=2.5 in c:\\programdata\\anaconda3\\lib\\site-packages (from requests<3.0.0dev,>=2.18.0->google-api-core[grpc]<3.0.0dev,>=1.28.0->google-cloud-language) (2.10)\n",
      "Requirement already satisfied: chardet<5,>=3.0.2 in c:\\programdata\\anaconda3\\lib\\site-packages (from requests<3.0.0dev,>=2.18.0->google-api-core[grpc]<3.0.0dev,>=1.28.0->google-cloud-language) (4.0.0)\n",
      "Requirement already satisfied: pyasn1<0.5.0,>=0.4.6 in c:\\programdata\\anaconda3\\lib\\site-packages (from pyasn1-modules>=0.2.1->google-auth<3.0dev,>=1.25.0->google-api-core[grpc]<3.0.0dev,>=1.28.0->google-cloud-language) (0.4.8)\n"
     ]
    },
    {
     "name": "stderr",
     "output_type": "stream",
     "text": [
      "WARNING: Ignoring invalid distribution -pype1 (c:\\programdata\\anaconda3\\lib\\site-packages)\n",
      "WARNING: Ignoring invalid distribution -pype1 (c:\\programdata\\anaconda3\\lib\\site-packages)\n",
      "WARNING: Ignoring invalid distribution -pype1 (c:\\programdata\\anaconda3\\lib\\site-packages)\n",
      "WARNING: Ignoring invalid distribution -pype1 (c:\\programdata\\anaconda3\\lib\\site-packages)\n",
      "WARNING: Ignoring invalid distribution -pype1 (c:\\programdata\\anaconda3\\lib\\site-packages)\n"
     ]
    },
    {
     "name": "stdout",
     "output_type": "stream",
     "text": [
      "Text: Hello, world!\n",
      "Sentiment: 0.6000000238418579, 0.6000000238418579\n"
     ]
    }
   ],
   "source": [
    "# Imports the Google Cloud client library\n",
    "!pip install --upgrade google-cloud-language\n",
    "\n",
    "# Instantiates a client\n",
    "client = language_v1.LanguageServiceClient.from_service_account_json(r\"C:\\Users\\young\\Desktop\\StockHelper\\flowing-bazaar-334005-93614458e39e.json\")\n",
    "\n",
    "# The text to analyze\n",
    "text = u\"Hello, world!\"\n",
    "document = language_v1.Document(\n",
    "    content=text, type_=language_v1.Document.Type.PLAIN_TEXT\n",
    ")\n",
    "\n",
    "# Detects the sentiment of the text\n",
    "sentiment = client.analyze_sentiment(\n",
    "    request={\"document\": document}\n",
    ").document_sentiment\n",
    "\n",
    "print(\"Text: {}\".format(text))\n",
    "print(\"Sentiment: {}, {}\".format(sentiment.score, sentiment.magnitude))"
   ]
  },
  {
   "cell_type": "code",
   "execution_count": 24,
   "id": "3e567a95",
   "metadata": {},
   "outputs": [],
   "source": [
    "\"\"\"Demonstrates how to make a simple call to the Natural Language API.\"\"\"\n",
    "\n",
    "import argparse\n",
    "\n",
    "from google.cloud import language_v1\n",
    "\n",
    "def print_result(annotations):\n",
    "    score = annotations.document_sentiment.score\n",
    "    magnitude = annotations.document_sentiment.magnitude\n",
    "\n",
    "    for index, sentence in enumerate(annotations.sentences):\n",
    "        sentence_sentiment = sentence.sentiment.score\n",
    "        print(\n",
    "            \"Sentence {} has a sentiment score of {}\".format(index, sentence_sentiment)\n",
    "        )\n",
    "\n",
    "    print(\n",
    "        \"Overall Sentiment: score of {} with magnitude of {}\".format(score, magnitude)\n",
    "    )\n",
    "    \n",
    "    return 0\n",
    "\n",
    "def analyze(content):\n",
    "    \"\"\"Run a sentiment analysis request on text within a passed filename.\"\"\"\n",
    "    client = language_v1.LanguageServiceClient.from_service_account_json(r\"C:\\Users\\young\\Desktop\\StockHelper\\flowing-bazaar-334005-93614458e39e.json\")\n",
    "\n",
    "#     with open(movie_review_filename, \"r\",  encoding='UTF8') as review_file:\n",
    "#         # Instantiates a plain text document.\n",
    "#         content = review_file.read()\n",
    "\n",
    "    \n",
    "\n",
    "    document = language_v1.Document(\n",
    "        content=content, type_=language_v1.Document.Type.PLAIN_TEXT\n",
    "    )\n",
    "    \n",
    "    annotations = client.analyze_sentiment(request={\"document\": document})\n",
    "\n",
    "    # Print the results\n",
    "    score = annotations.document_sentiment.score\n",
    "    return score\n",
    "    \n",
    "    \n",
    "# if __name__ == \"__main__\":\n",
    "#     parser = argparse.ArgumentParser(\n",
    "#         description=__doc__, formatter_class=argparse.RawDescriptionHelpFormatter\n",
    "#     )\n",
    "#     parser.add_argument(\n",
    "#         \"movie_review_filename\",\n",
    "#         help=\"The filename of the movie review you'd like to analyze.\",\n",
    "#     )\n",
    "#     args = parser.parse_args()\n",
    "\n",
    "#     analyze(args.movie_review_filename)"
   ]
  },
  {
   "cell_type": "code",
<<<<<<< Updated upstream
   "execution_count": 28,
=======
   "execution_count": 25,
>>>>>>> Stashed changes
   "id": "627344b4",
   "metadata": {},
   "outputs": [],
   "source": [
    "import pandas as pd\n",
    "import os\n",
    "\n",
    "news_list = [file for file in os.listdir('.') if 'csv' in file]\n",
    "\n",
    "def sentiment_scoring(news):\n",
    "    contents = pd.read_csv(news)\n",
    "    contents_refine = contents.loc[:,'refine_content']\n",
    "    contents = pd.DataFrame(contents)\n",
    "    contents_list = []\n",
    "\n",
    "    tot_sum = 0\n",
    "    for content in tqdm(contents.refine_content, desc = news):\n",
    "        contents_list.append(analyze(content))\n",
    "        tot_sum += 1\n",
    "        \n",
    "    contents['Senti_Score'] = contents_list\n",
    "    \n",
    "    news_path = os.path.join('.', news)\n",
    "    contents.to_csv(news_path, encoding='utf-8')   "
   ]
  },
  {
   "cell_type": "code",
<<<<<<< Updated upstream
   "execution_count": 31,
   "id": "4608b837",
=======
   "execution_count": 29,
   "id": "2e5a329b",
   "metadata": {},
   "outputs": [],
   "source": [
    "import os\n",
    "news_list = [file for file in os.listdir('.') if 'csv' in file]\n",
    "news_list = news_list[10:]"
   ]
  },
  {
   "cell_type": "code",
   "execution_count": null,
   "id": "2a4615e1",
>>>>>>> Stashed changes
   "metadata": {},
   "outputs": [
    {
     "data": {
      "text/plain": [
       "['코웨이_기사_크롤링_2020.01.01_2021.12.06.csv',\n",
       " '포스코케미칼_기사_크롤링_2020.01.01_2021.12.06.csv',\n",
       " '하나금융지주_기사_크롤링_2020.01.01_2021.12.06.csv',\n",
       " '한국가스공사_기사_크롤링_2020.01.01_2021.12.06.csv',\n",
       " '한국금융지주_기사_크롤링_2020.01.01_2021.12.06.csv',\n",
       " '한국전력_기사_크롤링_2020.01.01_2021.12.06.csv',\n",
       " '한국조선해양_기사_크롤링_2020.01.01_2021.12.06.csv',\n",
       " '한국타이어앤테크놀로지_기사_크롤링_2020.01.01_2021.12.06.csv',\n",
       " '한미사이언스_기사_크롤링_2020.01.01_2021.12.06.csv',\n",
       " '한미약품_기사_크롤링_2020.01.01_2021.12.06.csv',\n",
       " '한솔케미칼_기사_크롤링_2020.01.01_2021.12.06.csv',\n",
       " '한온시스템_기사_크롤링_2020.01.01_2021.12.06.csv',\n",
       " '한전기술_기사_크롤링_2020.01.01_2021.12.06.csv',\n",
       " '한진칼_기사_크롤링_2020.01.01_2021.12.06.csv',\n",
       " '한화솔루션_기사_크롤링_2020.01.01_2021.12.06.csv',\n",
       " '현대건설_기사_크롤링_2020.01.01_2021.12.06.csv',\n",
       " '현대글로비스_기사_크롤링_2020.01.01_2021.12.06.csv',\n",
       " '현대모비스_기사_크롤링_2020.01.01_2021.12.06.csv',\n",
       " '현대제철_기사_크롤링_2020.01.01_2021.12.06.csv',\n",
       " '현대중공업지주_기사_크롤링_2020.01.01_2021.12.06.csv',\n",
       " '현대차_기사_크롤링_2020.01.01_2021.12.06.csv']"
      ]
     },
     "execution_count": 31,
     "metadata": {},
     "output_type": "execute_result"
    }
   ],
   "source": [
    "import os\n",
    "news_list = [file for file in os.listdir('.') if 'csv' in file]\n",
    "news_list = news_list[64:]\n",
    "news_list"
   ]
  },
  {
   "cell_type": "code",
   "execution_count": 32,
   "id": "2a4615e1",
   "metadata": {
    "scrolled": true
   },
   "outputs": [
    {
     "name": "stderr",
     "output_type": "stream",
     "text": [
<<<<<<< Updated upstream
      "코웨이_기사_크롤링_2020.01.01_2021.12.06.csv: 100%|██████████████████████████████████| 170/170 [02:16<00:00,  1.24it/s]\n",
      "포스코케미칼_기사_크롤링_2020.01.01_2021.12.06.csv: 100%|████████████████████████████| 227/227 [03:17<00:00,  1.15it/s]\n",
      "하나금융지주_기사_크롤링_2020.01.01_2021.12.06.csv: 100%|████████████████████████████| 265/265 [04:41<00:00,  1.06s/it]\n",
      "한국가스공사_기사_크롤링_2020.01.01_2021.12.06.csv: 100%|████████████████████████████| 623/623 [10:13<00:00,  1.02it/s]\n",
      "한국금융지주_기사_크롤링_2020.01.01_2021.12.06.csv: 100%|██████████████████████████████| 68/68 [01:06<00:00,  1.03it/s]\n",
      "한국전력_기사_크롤링_2020.01.01_2021.12.06.csv: 100%|██████████████████████████████| 1709/1709 [26:18<00:00,  1.08it/s]\n",
      "한국조선해양_기사_크롤링_2020.01.01_2021.12.06.csv: 100%|████████████████████████████| 374/374 [05:44<00:00,  1.08it/s]\n",
      "한국타이어앤테크놀로지_기사_크롤링_2020.01.01_2021.12.06.csv: 100%|██████████████████| 289/289 [03:42<00:00,  1.30it/s]\n",
      "한미사이언스_기사_크롤링_2020.01.01_2021.12.06.csv: 100%|██████████████████████████████| 68/68 [00:55<00:00,  1.23it/s]\n",
      "한미약품_기사_크롤링_2020.01.01_2021.12.06.csv: 100%|████████████████████████████████| 283/283 [04:01<00:00,  1.17it/s]\n",
      "한솔케미칼_기사_크롤링_2020.01.01_2021.12.06.csv: 100%|████████████████████████████████| 13/13 [00:10<00:00,  1.28it/s]\n",
      "한온시스템_기사_크롤링_2020.01.01_2021.12.06.csv: 100%|████████████████████████████████| 63/63 [00:54<00:00,  1.16it/s]\n",
      "한전기술_기사_크롤링_2020.01.01_2021.12.06.csv: 100%|██████████████████████████████████| 33/33 [00:27<00:00,  1.19it/s]\n",
      "한진칼_기사_크롤링_2020.01.01_2021.12.06.csv: 100%|██████████████████████████████████| 597/597 [08:13<00:00,  1.21it/s]\n",
      "한화솔루션_기사_크롤링_2020.01.01_2021.12.06.csv: 100%|██████████████████████████████| 477/477 [06:55<00:00,  1.15it/s]\n",
      "현대건설_기사_크롤링_2020.01.01_2021.12.06.csv: 100%|██████████████████████████████| 1114/1114 [17:38<00:00,  1.05it/s]\n",
      "현대글로비스_기사_크롤링_2020.01.01_2021.12.06.csv: 100%|████████████████████████████| 306/306 [04:39<00:00,  1.09it/s]\n",
      "현대모비스_기사_크롤링_2020.01.01_2021.12.06.csv: 100%|██████████████████████████████| 925/925 [13:19<00:00,  1.16it/s]\n",
      "현대제철_기사_크롤링_2020.01.01_2021.12.06.csv: 100%|████████████████████████████████| 617/617 [09:04<00:00,  1.13it/s]\n",
      "현대중공업지주_기사_크롤링_2020.01.01_2021.12.06.csv: 100%|██████████████████████████| 181/181 [02:33<00:00,  1.18it/s]\n",
      "현대차_기사_크롤링_2020.01.01_2021.12.06.csv: 100%|██████████████████████████████| 4931/4931 [1:12:42<00:00,  1.13it/s]\n"
=======
      "LG디스플레이_기사_크롤링_2020.01.01_2021.12.06.csv: 100%|████████████████████████████| 707/707 [09:38<00:00,  1.22it/s]\n",
      "LG생활건강_기사_크롤링_2020.01.01_2021.12.06.csv: 100%|██████████████████████████████| 450/450 [05:39<00:00,  1.32it/s]\n",
      "LG유플러스_기사_크롤링_2020.01.01_2021.12.06.csv: 100%|████████████████████████████| 1637/1637 [20:07<00:00,  1.36it/s]\n",
      "LG이노텍_기사_크롤링_2020.01.01_2021.12.06.csv: 100%|████████████████████████████████| 202/202 [02:31<00:00,  1.33it/s]\n",
      "LG전자_기사_크롤링_2020.01.01_2021.12.06.csv: 100%|████████████████████████████████| 3238/3238 [41:25<00:00,  1.30it/s]\n",
      "LG화학_기사_크롤링_2020.01.01_2021.12.06.csv: 100%|████████████████████████████████| 1651/1651 [22:31<00:00,  1.22it/s]\n",
      "NAVER_기사_크롤링_2020.01.01_2021.12.06.csv: 100%|███████████████████████████████████| 566/566 [09:58<00:00,  1.06s/it]\n",
      "NH투자증권_기사_크롤링_2020.01.01_2021.12.06.csv: 100%|████████████████████████████| 1190/1190 [16:40<00:00,  1.19it/s]\n",
      "S-Oil_기사_크롤링_2020.01.01_2021.12.06.csv: 100%|███████████████████████████████████| 149/149 [02:01<00:00,  1.22it/s]\n",
      "SKC_기사_크롤링_2020.01.01_2021.12.06.csv: 100%|█████████████████████████████████████| 231/231 [02:58<00:00,  1.29it/s]\n",
      "SK_기사_크롤링_2020.01.01_2021.12.06.csv: 100%|██████████████████████████████████| 8661/8661 [1:57:38<00:00,  1.23it/s]\n",
      "SK이노베이션_기사_크롤링_2020.01.01_2021.12.06.csv: 100%|██████████████████████████| 1566/1566 [20:58<00:00,  1.24it/s]\n",
      "SK텔레콤_기사_크롤링_2020.01.01_2021.12.06.csv:  46%|███████████▊              | 1029/2260 [6:05:50<7:17:40, 21.33s/it]"
>>>>>>> Stashed changes
     ]
    }
   ],
   "source": [
    "for news in news_list:\n",
    "    sentiment_scoring(news)"
   ]
  },
  {
   "cell_type": "code",
   "execution_count": null,
   "id": "e853c83f",
   "metadata": {},
   "outputs": [],
   "source": [
    "# 9번째 오류남 (LG)"
   ]
  }
 ],
 "metadata": {
  "kernelspec": {
   "display_name": "Python 3",
   "language": "python",
   "name": "python3"
  },
  "language_info": {
   "codemirror_mode": {
    "name": "ipython",
    "version": 3
   },
   "file_extension": ".py",
   "mimetype": "text/x-python",
   "name": "python",
   "nbconvert_exporter": "python",
   "pygments_lexer": "ipython3",
   "version": "3.8.8"
  }
 },
 "nbformat": 4,
 "nbformat_minor": 5
}
