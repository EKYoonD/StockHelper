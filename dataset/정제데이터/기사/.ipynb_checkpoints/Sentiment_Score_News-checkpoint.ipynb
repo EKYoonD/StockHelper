{
 "cells": [
  {
   "cell_type": "code",
   "execution_count": 2,
   "id": "ebb28c44",
   "metadata": {},
   "outputs": [],
   "source": [
    "from google.cloud import language_v1\n",
    "from tqdm import tqdm\n",
    "from tqdm import trange"
   ]
  },
  {
   "cell_type": "code",
   "execution_count": 3,
   "id": "f4018d3c",
   "metadata": {},
   "outputs": [
    {
     "name": "stderr",
     "output_type": "stream",
     "text": [
      "WARNING: Ignoring invalid distribution -weepy (c:\\programdata\\anaconda3\\lib\\site-packages)\n",
      "WARNING: Ignoring invalid distribution -pype1 (c:\\programdata\\anaconda3\\lib\\site-packages)\n",
      "WARNING: Ignoring invalid distribution - (c:\\programdata\\anaconda3\\lib\\site-packages)\n",
      "WARNING: Ignoring invalid distribution -weepy (c:\\programdata\\anaconda3\\lib\\site-packages)\n",
      "WARNING: Ignoring invalid distribution -pype1 (c:\\programdata\\anaconda3\\lib\\site-packages)\n",
      "WARNING: Ignoring invalid distribution - (c:\\programdata\\anaconda3\\lib\\site-packages)\n",
      "WARNING: Ignoring invalid distribution -weepy (c:\\programdata\\anaconda3\\lib\\site-packages)\n",
      "WARNING: Ignoring invalid distribution -pype1 (c:\\programdata\\anaconda3\\lib\\site-packages)\n",
      "WARNING: Ignoring invalid distribution - (c:\\programdata\\anaconda3\\lib\\site-packages)\n",
      "WARNING: Ignoring invalid distribution -weepy (c:\\programdata\\anaconda3\\lib\\site-packages)\n",
      "WARNING: Ignoring invalid distribution -pype1 (c:\\programdata\\anaconda3\\lib\\site-packages)\n",
      "WARNING: Ignoring invalid distribution - (c:\\programdata\\anaconda3\\lib\\site-packages)\n",
      "WARNING: Ignoring invalid distribution -weepy (c:\\programdata\\anaconda3\\lib\\site-packages)\n",
      "WARNING: Ignoring invalid distribution -pype1 (c:\\programdata\\anaconda3\\lib\\site-packages)\n",
      "WARNING: Ignoring invalid distribution - (c:\\programdata\\anaconda3\\lib\\site-packages)\n"
     ]
    },
    {
     "name": "stdout",
     "output_type": "stream",
     "text": [
      "Requirement already satisfied: google-cloud-language in c:\\programdata\\anaconda3\\lib\\site-packages (2.3.1)\n",
      "Requirement already satisfied: google-api-core[grpc]<3.0.0dev,>=1.28.0 in c:\\programdata\\anaconda3\\lib\\site-packages (from google-cloud-language) (2.2.2)\n",
      "Requirement already satisfied: proto-plus>=1.10.0 in c:\\programdata\\anaconda3\\lib\\site-packages (from google-cloud-language) (1.19.8)\n",
      "Requirement already satisfied: protobuf>=3.12.0 in c:\\programdata\\anaconda3\\lib\\site-packages (from google-api-core[grpc]<3.0.0dev,>=1.28.0->google-cloud-language) (3.19.1)\n",
      "Requirement already satisfied: google-auth<3.0dev,>=1.25.0 in c:\\programdata\\anaconda3\\lib\\site-packages (from google-api-core[grpc]<3.0.0dev,>=1.28.0->google-cloud-language) (2.3.3)\n",
      "Requirement already satisfied: setuptools>=40.3.0 in c:\\programdata\\anaconda3\\lib\\site-packages (from google-api-core[grpc]<3.0.0dev,>=1.28.0->google-cloud-language) (52.0.0.post20210125)\n",
      "Requirement already satisfied: requests<3.0.0dev,>=2.18.0 in c:\\programdata\\anaconda3\\lib\\site-packages (from google-api-core[grpc]<3.0.0dev,>=1.28.0->google-cloud-language) (2.25.1)\n",
      "Requirement already satisfied: googleapis-common-protos<2.0dev,>=1.52.0 in c:\\programdata\\anaconda3\\lib\\site-packages (from google-api-core[grpc]<3.0.0dev,>=1.28.0->google-cloud-language) (1.53.0)\n",
      "Requirement already satisfied: grpcio-status<2.0dev,>=1.33.2 in c:\\programdata\\anaconda3\\lib\\site-packages (from google-api-core[grpc]<3.0.0dev,>=1.28.0->google-cloud-language) (1.42.0)\n",
      "Requirement already satisfied: grpcio<2.0dev,>=1.33.2 in c:\\programdata\\anaconda3\\lib\\site-packages (from google-api-core[grpc]<3.0.0dev,>=1.28.0->google-cloud-language) (1.42.0)\n",
      "Requirement already satisfied: pyasn1-modules>=0.2.1 in c:\\programdata\\anaconda3\\lib\\site-packages (from google-auth<3.0dev,>=1.25.0->google-api-core[grpc]<3.0.0dev,>=1.28.0->google-cloud-language) (0.2.8)\n",
      "Requirement already satisfied: rsa<5,>=3.1.4 in c:\\programdata\\anaconda3\\lib\\site-packages (from google-auth<3.0dev,>=1.25.0->google-api-core[grpc]<3.0.0dev,>=1.28.0->google-cloud-language) (4.8)\n",
      "Requirement already satisfied: cachetools<5.0,>=2.0.0 in c:\\programdata\\anaconda3\\lib\\site-packages (from google-auth<3.0dev,>=1.25.0->google-api-core[grpc]<3.0.0dev,>=1.28.0->google-cloud-language) (4.2.4)\n",
      "Requirement already satisfied: six>=1.9.0 in c:\\programdata\\anaconda3\\lib\\site-packages (from google-auth<3.0dev,>=1.25.0->google-api-core[grpc]<3.0.0dev,>=1.28.0->google-cloud-language) (1.15.0)\n",
      "Requirement already satisfied: chardet<5,>=3.0.2 in c:\\programdata\\anaconda3\\lib\\site-packages (from requests<3.0.0dev,>=2.18.0->google-api-core[grpc]<3.0.0dev,>=1.28.0->google-cloud-language) (4.0.0)\n",
      "Requirement already satisfied: certifi>=2017.4.17 in c:\\programdata\\anaconda3\\lib\\site-packages (from requests<3.0.0dev,>=2.18.0->google-api-core[grpc]<3.0.0dev,>=1.28.0->google-cloud-language) (2020.12.5)\n",
      "Requirement already satisfied: idna<3,>=2.5 in c:\\programdata\\anaconda3\\lib\\site-packages (from requests<3.0.0dev,>=2.18.0->google-api-core[grpc]<3.0.0dev,>=1.28.0->google-cloud-language) (2.10)\n",
      "Requirement already satisfied: urllib3<1.27,>=1.21.1 in c:\\programdata\\anaconda3\\lib\\site-packages (from requests<3.0.0dev,>=2.18.0->google-api-core[grpc]<3.0.0dev,>=1.28.0->google-cloud-language) (1.26.4)\n",
      "Requirement already satisfied: pyasn1<0.5.0,>=0.4.6 in c:\\programdata\\anaconda3\\lib\\site-packages (from pyasn1-modules>=0.2.1->google-auth<3.0dev,>=1.25.0->google-api-core[grpc]<3.0.0dev,>=1.28.0->google-cloud-language) (0.4.8)\n",
      "Text: Hello, world!\n",
      "Sentiment: 0.6000000238418579, 0.6000000238418579\n"
     ]
    }
   ],
   "source": [
    "# Imports the Google Cloud client library\n",
    "!pip install --upgrade google-cloud-language\n",
    "\n",
    "# Instantiates a client\n",
    "client = language_v1.LanguageServiceClient.from_service_account_json(\"C:/DevRoot/dataset/flowing-bazaar-334005-93614458e39e.json\")\n",
    "\n",
    "# The text to analyze\n",
    "text = u\"Hello, world!\"\n",
    "document = language_v1.Document(\n",
    "    content=text, type_=language_v1.Document.Type.PLAIN_TEXT\n",
    ")\n",
    "\n",
    "# Detects the sentiment of the text\n",
    "sentiment = client.analyze_sentiment(\n",
    "    request={\"document\": document}\n",
    ").document_sentiment\n",
    "\n",
    "print(\"Text: {}\".format(text))\n",
    "print(\"Sentiment: {}, {}\".format(sentiment.score, sentiment.magnitude))"
   ]
  },
  {
   "cell_type": "code",
   "execution_count": 4,
   "id": "3e567a95",
   "metadata": {},
   "outputs": [],
   "source": [
    "\"\"\"Demonstrates how to make a simple call to the Natural Language API.\"\"\"\n",
    "\n",
    "import argparse\n",
    "\n",
    "from google.cloud import language_v1\n",
    "\n",
    "def print_result(annotations):\n",
    "    score = annotations.document_sentiment.score\n",
    "    magnitude = annotations.document_sentiment.magnitude\n",
    "\n",
    "    for index, sentence in enumerate(annotations.sentences):\n",
    "        sentence_sentiment = sentence.sentiment.score\n",
    "        print(\n",
    "            \"Sentence {} has a sentiment score of {}\".format(index, sentence_sentiment)\n",
    "        )\n",
    "\n",
    "    print(\n",
    "        \"Overall Sentiment: score of {} with magnitude of {}\".format(score, magnitude)\n",
    "    )\n",
    "    \n",
    "    return 0\n",
    "\n",
    "def analyze(content):\n",
    "    \"\"\"Run a sentiment analysis request on text within a passed filename.\"\"\"\n",
    "    client = language_v1.LanguageServiceClient.from_service_account_json(\"C:/DevRoot/dataset/flowing-bazaar-334005-93614458e39e.json\")\n",
    "\n",
    "#     with open(movie_review_filename, \"r\",  encoding='UTF8') as review_file:\n",
    "#         # Instantiates a plain text document.\n",
    "#         content = review_file.read()\n",
    "\n",
    "    \n",
    "\n",
    "    document = language_v1.Document(\n",
    "        content=content, type_=language_v1.Document.Type.PLAIN_TEXT\n",
    "    )\n",
    "    \n",
    "    annotations = client.analyze_sentiment(request={\"document\": document})\n",
    "\n",
    "    # Print the results\n",
    "    score = annotations.document_sentiment.score\n",
    "    return score\n",
    "    \n",
    "    \n",
    "# if __name__ == \"__main__\":\n",
    "#     parser = argparse.ArgumentParser(\n",
    "#         description=__doc__, formatter_class=argparse.RawDescriptionHelpFormatter\n",
    "#     )\n",
    "#     parser.add_argument(\n",
    "#         \"movie_review_filename\",\n",
    "#         help=\"The filename of the movie review you'd like to analyze.\",\n",
    "#     )\n",
    "#     args = parser.parse_args()\n",
    "\n",
    "#     analyze(args.movie_review_filename)"
   ]
  },
  {
   "cell_type": "code",
   "execution_count": 25,
   "id": "627344b4",
   "metadata": {},
   "outputs": [],
   "source": [
    "import pandas as pd\n",
    "import os\n",
    "\n",
    "news_list = [file for file in os.listdir('.') if 'csv' in file]\n",
    "\n",
    "def sentiment_scoring(news):\n",
    "    contents = pd.read_csv(news)\n",
    "    contents_refine = contents.loc[:,'refine_content']\n",
    "    contents = pd.DataFrame(contents)\n",
    "    contents_list = []\n",
    "\n",
    "    tot_sum = 0\n",
    "    for content in tqdm(contents.refine_content, desc = news):\n",
    "        contents_list.append(analyze(content))\n",
    "        tot_sum += 1\n",
    "        \n",
    "    contents['Senti_Score'] = contents_list\n",
    "    \n",
    "    news_path = os.path.join('.', news)\n",
    "    contents.to_csv(news_path, encoding='utf-8')   "
   ]
  },
  {
   "cell_type": "code",
   "execution_count": 29,
   "id": "d9489520",
   "metadata": {},
   "outputs": [],
   "source": [
    "import os\n",
    "news_list = [file for file in os.listdir('.') if 'csv' in file]\n",
    "news_list = news_list[10:]"
   ]
  },
  {
   "cell_type": "code",
   "execution_count": null,
   "id": "2a4615e1",
   "metadata": {},
   "outputs": [
    {
     "name": "stderr",
     "output_type": "stream",
     "text": [
      "LG디스플레이_기사_크롤링_2020.01.01_2021.12.06.csv: 100%|████████████████████████████| 707/707 [09:38<00:00,  1.22it/s]\n",
      "LG생활건강_기사_크롤링_2020.01.01_2021.12.06.csv: 100%|██████████████████████████████| 450/450 [05:39<00:00,  1.32it/s]\n",
      "LG유플러스_기사_크롤링_2020.01.01_2021.12.06.csv:  57%|████████████████▍            | 927/1637 [11:20<08:53,  1.33it/s]"
     ]
    }
   ],
   "source": [
    "for news in news_list:\n",
    "    sentiment_scoring(news)"
   ]
  },
  {
   "cell_type": "code",
   "execution_count": null,
   "id": "e853c83f",
   "metadata": {},
   "outputs": [],
   "source": [
    "# 9번째 오류남 (LG)"
   ]
  }
 ],
 "metadata": {
  "kernelspec": {
   "display_name": "Python 3",
   "language": "python",
   "name": "python3"
  },
  "language_info": {
   "codemirror_mode": {
    "name": "ipython",
    "version": 3
   },
   "file_extension": ".py",
   "mimetype": "text/x-python",
   "name": "python",
   "nbconvert_exporter": "python",
   "pygments_lexer": "ipython3",
   "version": "3.8.8"
  }
 },
 "nbformat": 4,
 "nbformat_minor": 5
}
